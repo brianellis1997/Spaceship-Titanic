{
 "cells": [
  {
   "cell_type": "code",
   "execution_count": 2,
   "metadata": {},
   "outputs": [
    {
     "name": "stderr",
     "output_type": "stream",
     "text": [
      "/Users/bdogellis/opt/anaconda3/lib/python3.8/site-packages/pandas/core/computation/expressions.py:20: UserWarning: Pandas requires version '2.7.3' or newer of 'numexpr' (version '2.7.1' currently installed).\n",
      "  from pandas.core.computation.check import NUMEXPR_INSTALLED\n"
     ]
    }
   ],
   "source": [
    "import pandas as pd\n",
    "import numpy as np\n",
    "import matplotlib.pyplot as plt\n",
    "import seaborn as sns"
   ]
  },
  {
   "cell_type": "code",
   "execution_count": 3,
   "metadata": {},
   "outputs": [
    {
     "data": {
      "text/html": [
       "<div>\n",
       "<style scoped>\n",
       "    .dataframe tbody tr th:only-of-type {\n",
       "        vertical-align: middle;\n",
       "    }\n",
       "\n",
       "    .dataframe tbody tr th {\n",
       "        vertical-align: top;\n",
       "    }\n",
       "\n",
       "    .dataframe thead th {\n",
       "        text-align: right;\n",
       "    }\n",
       "</style>\n",
       "<table border=\"1\" class=\"dataframe\">\n",
       "  <thead>\n",
       "    <tr style=\"text-align: right;\">\n",
       "      <th></th>\n",
       "      <th>PassengerId</th>\n",
       "      <th>HomePlanet</th>\n",
       "      <th>CryoSleep</th>\n",
       "      <th>Cabin</th>\n",
       "      <th>Destination</th>\n",
       "      <th>Age</th>\n",
       "      <th>VIP</th>\n",
       "      <th>RoomService</th>\n",
       "      <th>FoodCourt</th>\n",
       "      <th>ShoppingMall</th>\n",
       "      <th>Spa</th>\n",
       "      <th>VRDeck</th>\n",
       "      <th>Name</th>\n",
       "      <th>Transported</th>\n",
       "    </tr>\n",
       "  </thead>\n",
       "  <tbody>\n",
       "    <tr>\n",
       "      <th>0</th>\n",
       "      <td>0001_01</td>\n",
       "      <td>Europa</td>\n",
       "      <td>False</td>\n",
       "      <td>B/0/P</td>\n",
       "      <td>TRAPPIST-1e</td>\n",
       "      <td>39.0</td>\n",
       "      <td>False</td>\n",
       "      <td>0.0</td>\n",
       "      <td>0.0</td>\n",
       "      <td>0.0</td>\n",
       "      <td>0.0</td>\n",
       "      <td>0.0</td>\n",
       "      <td>Maham Ofracculy</td>\n",
       "      <td>False</td>\n",
       "    </tr>\n",
       "    <tr>\n",
       "      <th>1</th>\n",
       "      <td>0002_01</td>\n",
       "      <td>Earth</td>\n",
       "      <td>False</td>\n",
       "      <td>F/0/S</td>\n",
       "      <td>TRAPPIST-1e</td>\n",
       "      <td>24.0</td>\n",
       "      <td>False</td>\n",
       "      <td>109.0</td>\n",
       "      <td>9.0</td>\n",
       "      <td>25.0</td>\n",
       "      <td>549.0</td>\n",
       "      <td>44.0</td>\n",
       "      <td>Juanna Vines</td>\n",
       "      <td>True</td>\n",
       "    </tr>\n",
       "    <tr>\n",
       "      <th>2</th>\n",
       "      <td>0003_01</td>\n",
       "      <td>Europa</td>\n",
       "      <td>False</td>\n",
       "      <td>A/0/S</td>\n",
       "      <td>TRAPPIST-1e</td>\n",
       "      <td>58.0</td>\n",
       "      <td>True</td>\n",
       "      <td>43.0</td>\n",
       "      <td>3576.0</td>\n",
       "      <td>0.0</td>\n",
       "      <td>6715.0</td>\n",
       "      <td>49.0</td>\n",
       "      <td>Altark Susent</td>\n",
       "      <td>False</td>\n",
       "    </tr>\n",
       "    <tr>\n",
       "      <th>3</th>\n",
       "      <td>0003_02</td>\n",
       "      <td>Europa</td>\n",
       "      <td>False</td>\n",
       "      <td>A/0/S</td>\n",
       "      <td>TRAPPIST-1e</td>\n",
       "      <td>33.0</td>\n",
       "      <td>False</td>\n",
       "      <td>0.0</td>\n",
       "      <td>1283.0</td>\n",
       "      <td>371.0</td>\n",
       "      <td>3329.0</td>\n",
       "      <td>193.0</td>\n",
       "      <td>Solam Susent</td>\n",
       "      <td>False</td>\n",
       "    </tr>\n",
       "    <tr>\n",
       "      <th>4</th>\n",
       "      <td>0004_01</td>\n",
       "      <td>Earth</td>\n",
       "      <td>False</td>\n",
       "      <td>F/1/S</td>\n",
       "      <td>TRAPPIST-1e</td>\n",
       "      <td>16.0</td>\n",
       "      <td>False</td>\n",
       "      <td>303.0</td>\n",
       "      <td>70.0</td>\n",
       "      <td>151.0</td>\n",
       "      <td>565.0</td>\n",
       "      <td>2.0</td>\n",
       "      <td>Willy Santantines</td>\n",
       "      <td>True</td>\n",
       "    </tr>\n",
       "  </tbody>\n",
       "</table>\n",
       "</div>"
      ],
      "text/plain": [
       "  PassengerId HomePlanet CryoSleep  Cabin  Destination   Age    VIP  \\\n",
       "0     0001_01     Europa     False  B/0/P  TRAPPIST-1e  39.0  False   \n",
       "1     0002_01      Earth     False  F/0/S  TRAPPIST-1e  24.0  False   \n",
       "2     0003_01     Europa     False  A/0/S  TRAPPIST-1e  58.0   True   \n",
       "3     0003_02     Europa     False  A/0/S  TRAPPIST-1e  33.0  False   \n",
       "4     0004_01      Earth     False  F/1/S  TRAPPIST-1e  16.0  False   \n",
       "\n",
       "   RoomService  FoodCourt  ShoppingMall     Spa  VRDeck               Name  \\\n",
       "0          0.0        0.0           0.0     0.0     0.0    Maham Ofracculy   \n",
       "1        109.0        9.0          25.0   549.0    44.0       Juanna Vines   \n",
       "2         43.0     3576.0           0.0  6715.0    49.0      Altark Susent   \n",
       "3          0.0     1283.0         371.0  3329.0   193.0       Solam Susent   \n",
       "4        303.0       70.0         151.0   565.0     2.0  Willy Santantines   \n",
       "\n",
       "   Transported  \n",
       "0        False  \n",
       "1         True  \n",
       "2        False  \n",
       "3        False  \n",
       "4         True  "
      ]
     },
     "execution_count": 3,
     "metadata": {},
     "output_type": "execute_result"
    }
   ],
   "source": [
    "train = pd.read_csv('train.csv')\n",
    "train.head()"
   ]
  },
  {
   "cell_type": "code",
   "execution_count": 4,
   "metadata": {},
   "outputs": [
    {
     "name": "stdout",
     "output_type": "stream",
     "text": [
      "<class 'pandas.core.frame.DataFrame'>\n",
      "RangeIndex: 8693 entries, 0 to 8692\n",
      "Data columns (total 14 columns):\n",
      " #   Column        Non-Null Count  Dtype  \n",
      "---  ------        --------------  -----  \n",
      " 0   PassengerId   8693 non-null   object \n",
      " 1   HomePlanet    8492 non-null   object \n",
      " 2   CryoSleep     8476 non-null   object \n",
      " 3   Cabin         8494 non-null   object \n",
      " 4   Destination   8511 non-null   object \n",
      " 5   Age           8514 non-null   float64\n",
      " 6   VIP           8490 non-null   object \n",
      " 7   RoomService   8512 non-null   float64\n",
      " 8   FoodCourt     8510 non-null   float64\n",
      " 9   ShoppingMall  8485 non-null   float64\n",
      " 10  Spa           8510 non-null   float64\n",
      " 11  VRDeck        8505 non-null   float64\n",
      " 12  Name          8493 non-null   object \n",
      " 13  Transported   8693 non-null   bool   \n",
      "dtypes: bool(1), float64(6), object(7)\n",
      "memory usage: 891.5+ KB\n"
     ]
    }
   ],
   "source": [
    "train.info()"
   ]
  },
  {
   "cell_type": "code",
   "execution_count": 5,
   "metadata": {},
   "outputs": [
    {
     "data": {
      "text/plain": [
       "Transported\n",
       "True     4378\n",
       "False    4315\n",
       "Name: count, dtype: int64"
      ]
     },
     "execution_count": 5,
     "metadata": {},
     "output_type": "execute_result"
    }
   ],
   "source": [
    "train.Transported.value_counts()"
   ]
  },
  {
   "cell_type": "code",
   "execution_count": 6,
   "metadata": {},
   "outputs": [
    {
     "data": {
      "text/plain": [
       "HomePlanet\n",
       "Earth     4602\n",
       "Europa    2131\n",
       "Mars      1759\n",
       "Name: count, dtype: int64"
      ]
     },
     "execution_count": 6,
     "metadata": {},
     "output_type": "execute_result"
    }
   ],
   "source": [
    "train.HomePlanet.value_counts()"
   ]
  },
  {
   "cell_type": "code",
   "execution_count": 7,
   "metadata": {},
   "outputs": [
    {
     "data": {
      "text/plain": [
       "Transported  HomePlanet\n",
       "False        Earth         2651\n",
       "             Mars           839\n",
       "             Europa         727\n",
       "True         Earth         1951\n",
       "             Europa        1404\n",
       "             Mars           920\n",
       "Name: count, dtype: int64"
      ]
     },
     "execution_count": 7,
     "metadata": {},
     "output_type": "execute_result"
    }
   ],
   "source": [
    "train.HomePlanet.groupby(train.Transported).value_counts()"
   ]
  },
  {
   "cell_type": "code",
   "execution_count": 8,
   "metadata": {},
   "outputs": [
    {
     "data": {
      "image/png": "[encoded data removed]",
      "text/plain": [
       "<Figure size 720x360 with 1 Axes>"
      ]
     },
     "metadata": {
      "needs_background": "light"
     },
     "output_type": "display_data"
    }
   ],
   "source": [
    "data_to_plot = train.groupby('Transported')['HomePlanet'].value_counts().unstack(level=0)\n",
    "\n",
    "# Plotting\n",
    "data_to_plot.plot(kind='bar', figsize=(10, 5))\n",
    "plt.xlabel('Home Planet')\n",
    "plt.ylabel('Count')\n",
    "plt.title('Counts of Home Planets by Transportation Status')\n",
    "plt.xticks(rotation=0)  # Rotates the x labels for better readability\n",
    "plt.legend(title='Transported')\n",
    "plt.show()"
   ]
  },
  {
   "cell_type": "code",
   "execution_count": 9,
   "metadata": {},
   "outputs": [
    {
     "data": {
      "text/plain": [
       "CryoSleep\n",
       "False    5439\n",
       "True     3037\n",
       "Name: count, dtype: int64"
      ]
     },
     "execution_count": 9,
     "metadata": {},
     "output_type": "execute_result"
    }
   ],
   "source": [
    "train['CryoSleep'].value_counts()"
   ]
  },
  {
   "cell_type": "code",
   "execution_count": 10,
   "metadata": {},
   "outputs": [
    {
     "data": {
      "image/png": "[encoded data removed]",
      "text/plain": [
       "<Figure size 720x360 with 1 Axes>"
      ]
     },
     "metadata": {
      "needs_background": "light"
     },
     "output_type": "display_data"
    }
   ],
   "source": [
    "data_to_plot = train.groupby('Transported')['CryoSleep'].value_counts().unstack(level=0)\n",
    "\n",
    "# Plotting\n",
    "data_to_plot.plot(kind='bar', figsize=(10, 5))\n",
    "plt.xlabel('Cryosleep?')\n",
    "plt.ylabel('Count')\n",
    "plt.title('CryoSleep by Transportation Status')\n",
    "plt.xticks(rotation=0)  # Rotates the x labels for better readability\n",
    "plt.legend(title='Cryosleep')\n",
    "plt.show()"
   ]
  },
  {
   "cell_type": "markdown",
   "metadata": {},
   "source": [
    "seems to be an important predictor"
   ]
  },
  {
   "cell_type": "code",
   "execution_count": 11,
   "metadata": {},
   "outputs": [
    {
     "data": {
      "text/plain": [
       "PassengerId      object\n",
       "HomePlanet       object\n",
       "CryoSleep        object\n",
       "Cabin            object\n",
       "Destination      object\n",
       "Age             float64\n",
       "VIP              object\n",
       "RoomService     float64\n",
       "FoodCourt       float64\n",
       "ShoppingMall    float64\n",
       "Spa             float64\n",
       "VRDeck          float64\n",
       "Name             object\n",
       "Transported        bool\n",
       "dtype: object"
      ]
     },
     "execution_count": 11,
     "metadata": {},
     "output_type": "execute_result"
    }
   ],
   "source": [
    "train.dtypes"
   ]
  },
  {
   "cell_type": "code",
   "execution_count": 12,
   "metadata": {},
   "outputs": [
    {
     "data": {
      "text/plain": [
       "6560"
      ]
     },
     "execution_count": 12,
     "metadata": {},
     "output_type": "execute_result"
    }
   ],
   "source": [
    "train['Cabin'].nunique()"
   ]
  },
  {
   "cell_type": "code",
   "execution_count": 13,
   "metadata": {},
   "outputs": [
    {
     "data": {
      "text/plain": [
       "0    B/0/P\n",
       "1    F/0/S\n",
       "2    A/0/S\n",
       "3    A/0/S\n",
       "4    F/1/S\n",
       "5    F/0/P\n",
       "6    F/2/S\n",
       "7    G/0/S\n",
       "8    F/3/S\n",
       "9    B/1/P\n",
       "Name: Cabin, dtype: object"
      ]
     },
     "execution_count": 13,
     "metadata": {},
     "output_type": "execute_result"
    }
   ],
   "source": [
    "train['Cabin'].head(10)"
   ]
  },
  {
   "cell_type": "code",
   "execution_count": 14,
   "metadata": {},
   "outputs": [
    {
     "data": {
      "text/plain": [
       "['B', '0', 'P']"
      ]
     },
     "execution_count": 14,
     "metadata": {},
     "output_type": "execute_result"
    }
   ],
   "source": [
    "train['Cabin'].str.split('/')[0]"
   ]
  },
  {
   "cell_type": "code",
   "execution_count": 15,
   "metadata": {},
   "outputs": [
    {
     "data": {
      "text/plain": [
       "0    B\n",
       "1    F\n",
       "2    A\n",
       "3    A\n",
       "4    F\n",
       "Name: Cabin, dtype: object"
      ]
     },
     "execution_count": 15,
     "metadata": {},
     "output_type": "execute_result"
    }
   ],
   "source": [
    "train['Cabin'].fillna('null').apply(lambda x: x.split('/')[0]).head()"
   ]
  },
  {
   "cell_type": "code",
   "execution_count": 16,
   "metadata": {},
   "outputs": [
    {
     "data": {
      "text/html": [
       "<div>\n",
       "<style scoped>\n",
       "    .dataframe tbody tr th:only-of-type {\n",
       "        vertical-align: middle;\n",
       "    }\n",
       "\n",
       "    .dataframe tbody tr th {\n",
       "        vertical-align: top;\n",
       "    }\n",
       "\n",
       "    .dataframe thead th {\n",
       "        text-align: right;\n",
       "    }\n",
       "</style>\n",
       "<table border=\"1\" class=\"dataframe\">\n",
       "  <thead>\n",
       "    <tr style=\"text-align: right;\">\n",
       "      <th></th>\n",
       "      <th>PassengerId</th>\n",
       "      <th>HomePlanet</th>\n",
       "      <th>CryoSleep</th>\n",
       "      <th>Cabin</th>\n",
       "      <th>Destination</th>\n",
       "      <th>Age</th>\n",
       "      <th>VIP</th>\n",
       "      <th>RoomService</th>\n",
       "      <th>FoodCourt</th>\n",
       "      <th>ShoppingMall</th>\n",
       "      <th>Spa</th>\n",
       "      <th>VRDeck</th>\n",
       "      <th>Name</th>\n",
       "      <th>Transported</th>\n",
       "      <th>CabDeck</th>\n",
       "      <th>CabNum</th>\n",
       "      <th>CabSide</th>\n",
       "    </tr>\n",
       "  </thead>\n",
       "  <tbody>\n",
       "    <tr>\n",
       "      <th>0</th>\n",
       "      <td>0001_01</td>\n",
       "      <td>Europa</td>\n",
       "      <td>False</td>\n",
       "      <td>B/0/P</td>\n",
       "      <td>TRAPPIST-1e</td>\n",
       "      <td>39.0</td>\n",
       "      <td>False</td>\n",
       "      <td>0.0</td>\n",
       "      <td>0.0</td>\n",
       "      <td>0.0</td>\n",
       "      <td>0.0</td>\n",
       "      <td>0.0</td>\n",
       "      <td>Maham Ofracculy</td>\n",
       "      <td>False</td>\n",
       "      <td>B</td>\n",
       "      <td>0</td>\n",
       "      <td>P</td>\n",
       "    </tr>\n",
       "    <tr>\n",
       "      <th>1</th>\n",
       "      <td>0002_01</td>\n",
       "      <td>Earth</td>\n",
       "      <td>False</td>\n",
       "      <td>F/0/S</td>\n",
       "      <td>TRAPPIST-1e</td>\n",
       "      <td>24.0</td>\n",
       "      <td>False</td>\n",
       "      <td>109.0</td>\n",
       "      <td>9.0</td>\n",
       "      <td>25.0</td>\n",
       "      <td>549.0</td>\n",
       "      <td>44.0</td>\n",
       "      <td>Juanna Vines</td>\n",
       "      <td>True</td>\n",
       "      <td>F</td>\n",
       "      <td>0</td>\n",
       "      <td>S</td>\n",
       "    </tr>\n",
       "    <tr>\n",
       "      <th>2</th>\n",
       "      <td>0003_01</td>\n",
       "      <td>Europa</td>\n",
       "      <td>False</td>\n",
       "      <td>A/0/S</td>\n",
       "      <td>TRAPPIST-1e</td>\n",
       "      <td>58.0</td>\n",
       "      <td>True</td>\n",
       "      <td>43.0</td>\n",
       "      <td>3576.0</td>\n",
       "      <td>0.0</td>\n",
       "      <td>6715.0</td>\n",
       "      <td>49.0</td>\n",
       "      <td>Altark Susent</td>\n",
       "      <td>False</td>\n",
       "      <td>A</td>\n",
       "      <td>0</td>\n",
       "      <td>S</td>\n",
       "    </tr>\n",
       "    <tr>\n",
       "      <th>3</th>\n",
       "      <td>0003_02</td>\n",
       "      <td>Europa</td>\n",
       "      <td>False</td>\n",
       "      <td>A/0/S</td>\n",
       "      <td>TRAPPIST-1e</td>\n",
       "      <td>33.0</td>\n",
       "      <td>False</td>\n",
       "      <td>0.0</td>\n",
       "      <td>1283.0</td>\n",
       "      <td>371.0</td>\n",
       "      <td>3329.0</td>\n",
       "      <td>193.0</td>\n",
       "      <td>Solam Susent</td>\n",
       "      <td>False</td>\n",
       "      <td>A</td>\n",
       "      <td>0</td>\n",
       "      <td>S</td>\n",
       "    </tr>\n",
       "    <tr>\n",
       "      <th>4</th>\n",
       "      <td>0004_01</td>\n",
       "      <td>Earth</td>\n",
       "      <td>False</td>\n",
       "      <td>F/1/S</td>\n",
       "      <td>TRAPPIST-1e</td>\n",
       "      <td>16.0</td>\n",
       "      <td>False</td>\n",
       "      <td>303.0</td>\n",
       "      <td>70.0</td>\n",
       "      <td>151.0</td>\n",
       "      <td>565.0</td>\n",
       "      <td>2.0</td>\n",
       "      <td>Willy Santantines</td>\n",
       "      <td>True</td>\n",
       "      <td>F</td>\n",
       "      <td>1</td>\n",
       "      <td>S</td>\n",
       "    </tr>\n",
       "  </tbody>\n",
       "</table>\n",
       "</div>"
      ],
      "text/plain": [
       "  PassengerId HomePlanet CryoSleep  Cabin  Destination   Age    VIP  \\\n",
       "0     0001_01     Europa     False  B/0/P  TRAPPIST-1e  39.0  False   \n",
       "1     0002_01      Earth     False  F/0/S  TRAPPIST-1e  24.0  False   \n",
       "2     0003_01     Europa     False  A/0/S  TRAPPIST-1e  58.0   True   \n",
       "3     0003_02     Europa     False  A/0/S  TRAPPIST-1e  33.0  False   \n",
       "4     0004_01      Earth     False  F/1/S  TRAPPIST-1e  16.0  False   \n",
       "\n",
       "   RoomService  FoodCourt  ShoppingMall     Spa  VRDeck               Name  \\\n",
       "0          0.0        0.0           0.0     0.0     0.0    Maham Ofracculy   \n",
       "1        109.0        9.0          25.0   549.0    44.0       Juanna Vines   \n",
       "2         43.0     3576.0           0.0  6715.0    49.0      Altark Susent   \n",
       "3          0.0     1283.0         371.0  3329.0   193.0       Solam Susent   \n",
       "4        303.0       70.0         151.0   565.0     2.0  Willy Santantines   \n",
       "\n",
       "   Transported CabDeck CabNum CabSide  \n",
       "0        False       B      0       P  \n",
       "1         True       F      0       S  \n",
       "2        False       A      0       S  \n",
       "3        False       A      0       S  \n",
       "4         True       F      1       S  "
      ]
     },
     "execution_count": 16,
     "metadata": {},
     "output_type": "execute_result"
    }
   ],
   "source": [
    "train['CabDeck'] = train['Cabin'].apply(lambda x: x.split('/')[0] if pd.notna(x) else x)\n",
    "train['CabNum'] = train['Cabin'].apply(lambda x: x.split('/')[1] if pd.notna(x) else x)\n",
    "train['CabSide'] = train['Cabin'].apply(lambda x: x.split('/')[2] if pd.notna(x) else x)\n",
    "\n",
    "train.head()"
   ]
  },
  {
   "cell_type": "code",
   "execution_count": 17,
   "metadata": {},
   "outputs": [
    {
     "name": "stdout",
     "output_type": "stream",
     "text": [
      "<class 'pandas.core.frame.DataFrame'>\n",
      "RangeIndex: 8693 entries, 0 to 8692\n",
      "Data columns (total 17 columns):\n",
      " #   Column        Non-Null Count  Dtype  \n",
      "---  ------        --------------  -----  \n",
      " 0   PassengerId   8693 non-null   object \n",
      " 1   HomePlanet    8492 non-null   object \n",
      " 2   CryoSleep     8476 non-null   object \n",
      " 3   Cabin         8494 non-null   object \n",
      " 4   Destination   8511 non-null   object \n",
      " 5   Age           8514 non-null   float64\n",
      " 6   VIP           8490 non-null   object \n",
      " 7   RoomService   8512 non-null   float64\n",
      " 8   FoodCourt     8510 non-null   float64\n",
      " 9   ShoppingMall  8485 non-null   float64\n",
      " 10  Spa           8510 non-null   float64\n",
      " 11  VRDeck        8505 non-null   float64\n",
      " 12  Name          8493 non-null   object \n",
      " 13  Transported   8693 non-null   bool   \n",
      " 14  CabDeck       8494 non-null   object \n",
      " 15  CabNum        8494 non-null   object \n",
      " 16  CabSide       8494 non-null   object \n",
      "dtypes: bool(1), float64(6), object(10)\n",
      "memory usage: 1.1+ MB\n"
     ]
    }
   ],
   "source": [
    "train.info()"
   ]
  },
  {
   "cell_type": "code",
   "execution_count": 18,
   "metadata": {},
   "outputs": [
    {
     "data": {
      "image/png": "[encoded data removed]",
      "text/plain": [
       "<Figure size 432x288 with 1 Axes>"
      ]
     },
     "metadata": {
      "needs_background": "light"
     },
     "output_type": "display_data"
    }
   ],
   "source": [
    "train.groupby('CabDeck')['Transported'].value_counts().plot(kind='bar')\n",
    "plt.show()"
   ]
  },
  {
   "cell_type": "code",
   "execution_count": 19,
   "metadata": {},
   "outputs": [
    {
     "data": {
      "text/html": [
       "<div>\n",
       "<style scoped>\n",
       "    .dataframe tbody tr th:only-of-type {\n",
       "        vertical-align: middle;\n",
       "    }\n",
       "\n",
       "    .dataframe tbody tr th {\n",
       "        vertical-align: top;\n",
       "    }\n",
       "\n",
       "    .dataframe thead th {\n",
       "        text-align: right;\n",
       "    }\n",
       "</style>\n",
       "<table border=\"1\" class=\"dataframe\">\n",
       "  <thead>\n",
       "    <tr style=\"text-align: right;\">\n",
       "      <th></th>\n",
       "      <th>PassengerId</th>\n",
       "      <th>HomePlanet</th>\n",
       "      <th>CryoSleep</th>\n",
       "      <th>Cabin</th>\n",
       "      <th>Destination</th>\n",
       "      <th>Age</th>\n",
       "      <th>VIP</th>\n",
       "      <th>RoomService</th>\n",
       "      <th>FoodCourt</th>\n",
       "      <th>ShoppingMall</th>\n",
       "      <th>Spa</th>\n",
       "      <th>VRDeck</th>\n",
       "      <th>Name</th>\n",
       "      <th>Transported</th>\n",
       "      <th>CabDeck</th>\n",
       "      <th>CabNum</th>\n",
       "      <th>CabSide</th>\n",
       "    </tr>\n",
       "  </thead>\n",
       "  <tbody>\n",
       "    <tr>\n",
       "      <th>15</th>\n",
       "      <td>0012_01</td>\n",
       "      <td>Earth</td>\n",
       "      <td>False</td>\n",
       "      <td>NaN</td>\n",
       "      <td>TRAPPIST-1e</td>\n",
       "      <td>31.0</td>\n",
       "      <td>False</td>\n",
       "      <td>32.0</td>\n",
       "      <td>0.0</td>\n",
       "      <td>876.0</td>\n",
       "      <td>0.0</td>\n",
       "      <td>0.0</td>\n",
       "      <td>Justie Pooles</td>\n",
       "      <td>False</td>\n",
       "      <td>NaN</td>\n",
       "      <td>NaN</td>\n",
       "      <td>NaN</td>\n",
       "    </tr>\n",
       "    <tr>\n",
       "      <th>93</th>\n",
       "      <td>0101_01</td>\n",
       "      <td>Mars</td>\n",
       "      <td>True</td>\n",
       "      <td>NaN</td>\n",
       "      <td>TRAPPIST-1e</td>\n",
       "      <td>31.0</td>\n",
       "      <td>False</td>\n",
       "      <td>0.0</td>\n",
       "      <td>0.0</td>\n",
       "      <td>0.0</td>\n",
       "      <td>0.0</td>\n",
       "      <td>0.0</td>\n",
       "      <td>Book Trad</td>\n",
       "      <td>True</td>\n",
       "      <td>NaN</td>\n",
       "      <td>NaN</td>\n",
       "      <td>NaN</td>\n",
       "    </tr>\n",
       "    <tr>\n",
       "      <th>103</th>\n",
       "      <td>0110_01</td>\n",
       "      <td>Europa</td>\n",
       "      <td>False</td>\n",
       "      <td>NaN</td>\n",
       "      <td>TRAPPIST-1e</td>\n",
       "      <td>32.0</td>\n",
       "      <td>False</td>\n",
       "      <td>0.0</td>\n",
       "      <td>410.0</td>\n",
       "      <td>6.0</td>\n",
       "      <td>3929.0</td>\n",
       "      <td>764.0</td>\n",
       "      <td>Graviph Aloubtled</td>\n",
       "      <td>False</td>\n",
       "      <td>NaN</td>\n",
       "      <td>NaN</td>\n",
       "      <td>NaN</td>\n",
       "    </tr>\n",
       "    <tr>\n",
       "      <th>222</th>\n",
       "      <td>0239_01</td>\n",
       "      <td>Mars</td>\n",
       "      <td>False</td>\n",
       "      <td>NaN</td>\n",
       "      <td>TRAPPIST-1e</td>\n",
       "      <td>37.0</td>\n",
       "      <td>False</td>\n",
       "      <td>637.0</td>\n",
       "      <td>0.0</td>\n",
       "      <td>0.0</td>\n",
       "      <td>92.0</td>\n",
       "      <td>319.0</td>\n",
       "      <td>Diedow Resty</td>\n",
       "      <td>False</td>\n",
       "      <td>NaN</td>\n",
       "      <td>NaN</td>\n",
       "      <td>NaN</td>\n",
       "    </tr>\n",
       "    <tr>\n",
       "      <th>227</th>\n",
       "      <td>0244_01</td>\n",
       "      <td>Mars</td>\n",
       "      <td>True</td>\n",
       "      <td>NaN</td>\n",
       "      <td>TRAPPIST-1e</td>\n",
       "      <td>43.0</td>\n",
       "      <td>False</td>\n",
       "      <td>0.0</td>\n",
       "      <td>0.0</td>\n",
       "      <td>0.0</td>\n",
       "      <td>0.0</td>\n",
       "      <td>0.0</td>\n",
       "      <td>Froos Sad</td>\n",
       "      <td>True</td>\n",
       "      <td>NaN</td>\n",
       "      <td>NaN</td>\n",
       "      <td>NaN</td>\n",
       "    </tr>\n",
       "    <tr>\n",
       "      <th>...</th>\n",
       "      <td>...</td>\n",
       "      <td>...</td>\n",
       "      <td>...</td>\n",
       "      <td>...</td>\n",
       "      <td>...</td>\n",
       "      <td>...</td>\n",
       "      <td>...</td>\n",
       "      <td>...</td>\n",
       "      <td>...</td>\n",
       "      <td>...</td>\n",
       "      <td>...</td>\n",
       "      <td>...</td>\n",
       "      <td>...</td>\n",
       "      <td>...</td>\n",
       "      <td>...</td>\n",
       "      <td>...</td>\n",
       "      <td>...</td>\n",
       "    </tr>\n",
       "    <tr>\n",
       "      <th>8209</th>\n",
       "      <td>8772_02</td>\n",
       "      <td>Europa</td>\n",
       "      <td>False</td>\n",
       "      <td>NaN</td>\n",
       "      <td>55 Cancri e</td>\n",
       "      <td>53.0</td>\n",
       "      <td>False</td>\n",
       "      <td>0.0</td>\n",
       "      <td>1127.0</td>\n",
       "      <td>0.0</td>\n",
       "      <td>3939.0</td>\n",
       "      <td>NaN</td>\n",
       "      <td>Naosura Motled</td>\n",
       "      <td>False</td>\n",
       "      <td>NaN</td>\n",
       "      <td>NaN</td>\n",
       "      <td>NaN</td>\n",
       "    </tr>\n",
       "    <tr>\n",
       "      <th>8475</th>\n",
       "      <td>9057_01</td>\n",
       "      <td>Europa</td>\n",
       "      <td>False</td>\n",
       "      <td>NaN</td>\n",
       "      <td>55 Cancri e</td>\n",
       "      <td>36.0</td>\n",
       "      <td>True</td>\n",
       "      <td>132.0</td>\n",
       "      <td>3479.0</td>\n",
       "      <td>0.0</td>\n",
       "      <td>3786.0</td>\n",
       "      <td>0.0</td>\n",
       "      <td>Coxan Statch</td>\n",
       "      <td>False</td>\n",
       "      <td>NaN</td>\n",
       "      <td>NaN</td>\n",
       "      <td>NaN</td>\n",
       "    </tr>\n",
       "    <tr>\n",
       "      <th>8485</th>\n",
       "      <td>9069_03</td>\n",
       "      <td>Europa</td>\n",
       "      <td>True</td>\n",
       "      <td>NaN</td>\n",
       "      <td>55 Cancri e</td>\n",
       "      <td>25.0</td>\n",
       "      <td>False</td>\n",
       "      <td>0.0</td>\n",
       "      <td>0.0</td>\n",
       "      <td>0.0</td>\n",
       "      <td>0.0</td>\n",
       "      <td>0.0</td>\n",
       "      <td>Bath Brakeng</td>\n",
       "      <td>True</td>\n",
       "      <td>NaN</td>\n",
       "      <td>NaN</td>\n",
       "      <td>NaN</td>\n",
       "    </tr>\n",
       "    <tr>\n",
       "      <th>8509</th>\n",
       "      <td>9081_03</td>\n",
       "      <td>Earth</td>\n",
       "      <td>True</td>\n",
       "      <td>NaN</td>\n",
       "      <td>TRAPPIST-1e</td>\n",
       "      <td>1.0</td>\n",
       "      <td>False</td>\n",
       "      <td>0.0</td>\n",
       "      <td>0.0</td>\n",
       "      <td>0.0</td>\n",
       "      <td>0.0</td>\n",
       "      <td>0.0</td>\n",
       "      <td>Beula Clemondsey</td>\n",
       "      <td>False</td>\n",
       "      <td>NaN</td>\n",
       "      <td>NaN</td>\n",
       "      <td>NaN</td>\n",
       "    </tr>\n",
       "    <tr>\n",
       "      <th>8656</th>\n",
       "      <td>9233_01</td>\n",
       "      <td>Earth</td>\n",
       "      <td>False</td>\n",
       "      <td>NaN</td>\n",
       "      <td>TRAPPIST-1e</td>\n",
       "      <td>41.0</td>\n",
       "      <td>False</td>\n",
       "      <td>3.0</td>\n",
       "      <td>0.0</td>\n",
       "      <td>668.0</td>\n",
       "      <td>0.0</td>\n",
       "      <td>0.0</td>\n",
       "      <td>Royce Giller</td>\n",
       "      <td>True</td>\n",
       "      <td>NaN</td>\n",
       "      <td>NaN</td>\n",
       "      <td>NaN</td>\n",
       "    </tr>\n",
       "  </tbody>\n",
       "</table>\n",
       "<p>199 rows × 17 columns</p>\n",
       "</div>"
      ],
      "text/plain": [
       "     PassengerId HomePlanet CryoSleep Cabin  Destination   Age    VIP  \\\n",
       "15       0012_01      Earth     False   NaN  TRAPPIST-1e  31.0  False   \n",
       "93       0101_01       Mars      True   NaN  TRAPPIST-1e  31.0  False   \n",
       "103      0110_01     Europa     False   NaN  TRAPPIST-1e  32.0  False   \n",
       "222      0239_01       Mars     False   NaN  TRAPPIST-1e  37.0  False   \n",
       "227      0244_01       Mars      True   NaN  TRAPPIST-1e  43.0  False   \n",
       "...          ...        ...       ...   ...          ...   ...    ...   \n",
       "8209     8772_02     Europa     False   NaN  55 Cancri e  53.0  False   \n",
       "8475     9057_01     Europa     False   NaN  55 Cancri e  36.0   True   \n",
       "8485     9069_03     Europa      True   NaN  55 Cancri e  25.0  False   \n",
       "8509     9081_03      Earth      True   NaN  TRAPPIST-1e   1.0  False   \n",
       "8656     9233_01      Earth     False   NaN  TRAPPIST-1e  41.0  False   \n",
       "\n",
       "      RoomService  FoodCourt  ShoppingMall     Spa  VRDeck               Name  \\\n",
       "15           32.0        0.0         876.0     0.0     0.0      Justie Pooles   \n",
       "93            0.0        0.0           0.0     0.0     0.0          Book Trad   \n",
       "103           0.0      410.0           6.0  3929.0   764.0  Graviph Aloubtled   \n",
       "222         637.0        0.0           0.0    92.0   319.0       Diedow Resty   \n",
       "227           0.0        0.0           0.0     0.0     0.0          Froos Sad   \n",
       "...           ...        ...           ...     ...     ...                ...   \n",
       "8209          0.0     1127.0           0.0  3939.0     NaN     Naosura Motled   \n",
       "8475        132.0     3479.0           0.0  3786.0     0.0       Coxan Statch   \n",
       "8485          0.0        0.0           0.0     0.0     0.0       Bath Brakeng   \n",
       "8509          0.0        0.0           0.0     0.0     0.0   Beula Clemondsey   \n",
       "8656          3.0        0.0         668.0     0.0     0.0       Royce Giller   \n",
       "\n",
       "      Transported CabDeck CabNum CabSide  \n",
       "15          False     NaN    NaN     NaN  \n",
       "93           True     NaN    NaN     NaN  \n",
       "103         False     NaN    NaN     NaN  \n",
       "222         False     NaN    NaN     NaN  \n",
       "227          True     NaN    NaN     NaN  \n",
       "...           ...     ...    ...     ...  \n",
       "8209        False     NaN    NaN     NaN  \n",
       "8475        False     NaN    NaN     NaN  \n",
       "8485         True     NaN    NaN     NaN  \n",
       "8509        False     NaN    NaN     NaN  \n",
       "8656         True     NaN    NaN     NaN  \n",
       "\n",
       "[199 rows x 17 columns]"
      ]
     },
     "execution_count": 19,
     "metadata": {},
     "output_type": "execute_result"
    }
   ],
   "source": [
    "train[train['CabNum'].isna()]"
   ]
  },
  {
   "cell_type": "code",
   "execution_count": 20,
   "metadata": {},
   "outputs": [
    {
     "data": {
      "text/html": [
       "<div>\n",
       "<style scoped>\n",
       "    .dataframe tbody tr th:only-of-type {\n",
       "        vertical-align: middle;\n",
       "    }\n",
       "\n",
       "    .dataframe tbody tr th {\n",
       "        vertical-align: top;\n",
       "    }\n",
       "\n",
       "    .dataframe thead th {\n",
       "        text-align: right;\n",
       "    }\n",
       "</style>\n",
       "<table border=\"1\" class=\"dataframe\">\n",
       "  <thead>\n",
       "    <tr style=\"text-align: right;\">\n",
       "      <th></th>\n",
       "      <th>CabDeck</th>\n",
       "      <th>CabNum</th>\n",
       "      <th>CabSide</th>\n",
       "    </tr>\n",
       "  </thead>\n",
       "  <tbody>\n",
       "    <tr>\n",
       "      <th>count</th>\n",
       "      <td>8494</td>\n",
       "      <td>8494</td>\n",
       "      <td>8494</td>\n",
       "    </tr>\n",
       "    <tr>\n",
       "      <th>unique</th>\n",
       "      <td>8</td>\n",
       "      <td>1817</td>\n",
       "      <td>2</td>\n",
       "    </tr>\n",
       "    <tr>\n",
       "      <th>top</th>\n",
       "      <td>F</td>\n",
       "      <td>82</td>\n",
       "      <td>S</td>\n",
       "    </tr>\n",
       "    <tr>\n",
       "      <th>freq</th>\n",
       "      <td>2794</td>\n",
       "      <td>28</td>\n",
       "      <td>4288</td>\n",
       "    </tr>\n",
       "  </tbody>\n",
       "</table>\n",
       "</div>"
      ],
      "text/plain": [
       "       CabDeck CabNum CabSide\n",
       "count     8494   8494    8494\n",
       "unique       8   1817       2\n",
       "top          F     82       S\n",
       "freq      2794     28    4288"
      ]
     },
     "execution_count": 20,
     "metadata": {},
     "output_type": "execute_result"
    }
   ],
   "source": [
    "# Fill in null values\n",
    "train[['CabDeck', 'CabNum', 'CabSide']].describe()"
   ]
  },
  {
   "cell_type": "code",
   "execution_count": 21,
   "metadata": {},
   "outputs": [
    {
     "name": "stdout",
     "output_type": "stream",
     "text": [
      "<class 'pandas.core.frame.DataFrame'>\n",
      "RangeIndex: 8693 entries, 0 to 8692\n",
      "Data columns (total 17 columns):\n",
      " #   Column        Non-Null Count  Dtype  \n",
      "---  ------        --------------  -----  \n",
      " 0   PassengerId   8693 non-null   object \n",
      " 1   HomePlanet    8492 non-null   object \n",
      " 2   CryoSleep     8476 non-null   object \n",
      " 3   Cabin         8494 non-null   object \n",
      " 4   Destination   8511 non-null   object \n",
      " 5   Age           8514 non-null   float64\n",
      " 6   VIP           8490 non-null   object \n",
      " 7   RoomService   8512 non-null   float64\n",
      " 8   FoodCourt     8510 non-null   float64\n",
      " 9   ShoppingMall  8485 non-null   float64\n",
      " 10  Spa           8510 non-null   float64\n",
      " 11  VRDeck        8505 non-null   float64\n",
      " 12  Name          8493 non-null   object \n",
      " 13  Transported   8693 non-null   bool   \n",
      " 14  CabDeck       8494 non-null   object \n",
      " 15  CabNum        8693 non-null   Int64  \n",
      " 16  CabSide       8494 non-null   object \n",
      "dtypes: Int64(1), bool(1), float64(6), object(9)\n",
      "memory usage: 1.1+ MB\n"
     ]
    }
   ],
   "source": [
    "import pandas as pd\n",
    "\n",
    "# Convert 'CabNum' to numeric, coercing errors to NaN\n",
    "train['CabNum'] = pd.to_numeric(train['CabNum'], errors='coerce')\n",
    "\n",
    "# Calculate the median of 'CabNum' after conversion\n",
    "median_cabnum = train['CabNum'].median()\n",
    "\n",
    "# Replace NaN values with the median\n",
    "train['CabNum'] = train['CabNum'].fillna(median_cabnum)\n",
    "\n",
    "# Convert to 'Int64' for nullable integer type\n",
    "train['CabNum'] = train['CabNum'].astype('Int64')\n",
    "\n",
    "# Display DataFrame info to confirm the updates\n",
    "train.info()"
   ]
  },
  {
   "cell_type": "code",
   "execution_count": 22,
   "metadata": {},
   "outputs": [
    {
     "data": {
      "text/plain": [
       "count        8693.0\n",
       "mean     596.398942\n",
       "std      506.637799\n",
       "min             0.0\n",
       "25%           173.0\n",
       "50%           427.0\n",
       "75%           983.0\n",
       "max          1894.0\n",
       "Name: CabNum, dtype: Float64"
      ]
     },
     "execution_count": 22,
     "metadata": {},
     "output_type": "execute_result"
    }
   ],
   "source": [
    "train['CabNum'].describe()"
   ]
  },
  {
   "cell_type": "code",
   "execution_count": 23,
   "metadata": {},
   "outputs": [
    {
     "name": "stdout",
     "output_type": "stream",
     "text": [
      "   CabNum CabNumBinned\n",
      "0       0            1\n",
      "1       0            1\n",
      "2       0            1\n",
      "3       0            1\n",
      "4       1            1\n",
      "CabNumBinned\n",
      "1    1747\n",
      "3    1739\n",
      "5    1739\n",
      "2    1734\n",
      "4    1734\n",
      "Name: count, dtype: int64\n"
     ]
    }
   ],
   "source": [
    "# Convert 'CabNum' to numeric, coercing errors to NaN\n",
    "train['CabNum'] = pd.to_numeric(train['CabNum'], errors='coerce')\n",
    "\n",
    "# Define bins using deciles and apply them to the data\n",
    "train['CabNumBinned'] = pd.qcut(train['CabNum'], 5, labels=[str(i) for i in range(1, 6)])\n",
    "\n",
    "# Display the new column and its distribution\n",
    "print(train[['CabNum', 'CabNumBinned']].head())\n",
    "print(train['CabNumBinned'].value_counts())"
   ]
  },
  {
   "cell_type": "code",
   "execution_count": 24,
   "metadata": {},
   "outputs": [
    {
     "data": {
      "text/html": [
       "<div>\n",
       "<style scoped>\n",
       "    .dataframe tbody tr th:only-of-type {\n",
       "        vertical-align: middle;\n",
       "    }\n",
       "\n",
       "    .dataframe tbody tr th {\n",
       "        vertical-align: top;\n",
       "    }\n",
       "\n",
       "    .dataframe thead th {\n",
       "        text-align: right;\n",
       "    }\n",
       "</style>\n",
       "<table border=\"1\" class=\"dataframe\">\n",
       "  <thead>\n",
       "    <tr style=\"text-align: right;\">\n",
       "      <th></th>\n",
       "      <th>CabDeck</th>\n",
       "      <th>CabNumBinned</th>\n",
       "      <th>CabNum</th>\n",
       "      <th>CabSide</th>\n",
       "    </tr>\n",
       "  </thead>\n",
       "  <tbody>\n",
       "    <tr>\n",
       "      <th>count</th>\n",
       "      <td>8494</td>\n",
       "      <td>8693</td>\n",
       "      <td>8693.0</td>\n",
       "      <td>8494</td>\n",
       "    </tr>\n",
       "    <tr>\n",
       "      <th>unique</th>\n",
       "      <td>8</td>\n",
       "      <td>5</td>\n",
       "      <td>&lt;NA&gt;</td>\n",
       "      <td>2</td>\n",
       "    </tr>\n",
       "    <tr>\n",
       "      <th>top</th>\n",
       "      <td>F</td>\n",
       "      <td>1</td>\n",
       "      <td>&lt;NA&gt;</td>\n",
       "      <td>S</td>\n",
       "    </tr>\n",
       "    <tr>\n",
       "      <th>freq</th>\n",
       "      <td>2794</td>\n",
       "      <td>1747</td>\n",
       "      <td>&lt;NA&gt;</td>\n",
       "      <td>4288</td>\n",
       "    </tr>\n",
       "    <tr>\n",
       "      <th>mean</th>\n",
       "      <td>NaN</td>\n",
       "      <td>NaN</td>\n",
       "      <td>596.398942</td>\n",
       "      <td>NaN</td>\n",
       "    </tr>\n",
       "    <tr>\n",
       "      <th>std</th>\n",
       "      <td>NaN</td>\n",
       "      <td>NaN</td>\n",
       "      <td>506.637799</td>\n",
       "      <td>NaN</td>\n",
       "    </tr>\n",
       "    <tr>\n",
       "      <th>min</th>\n",
       "      <td>NaN</td>\n",
       "      <td>NaN</td>\n",
       "      <td>0.0</td>\n",
       "      <td>NaN</td>\n",
       "    </tr>\n",
       "    <tr>\n",
       "      <th>25%</th>\n",
       "      <td>NaN</td>\n",
       "      <td>NaN</td>\n",
       "      <td>173.0</td>\n",
       "      <td>NaN</td>\n",
       "    </tr>\n",
       "    <tr>\n",
       "      <th>50%</th>\n",
       "      <td>NaN</td>\n",
       "      <td>NaN</td>\n",
       "      <td>427.0</td>\n",
       "      <td>NaN</td>\n",
       "    </tr>\n",
       "    <tr>\n",
       "      <th>75%</th>\n",
       "      <td>NaN</td>\n",
       "      <td>NaN</td>\n",
       "      <td>983.0</td>\n",
       "      <td>NaN</td>\n",
       "    </tr>\n",
       "    <tr>\n",
       "      <th>max</th>\n",
       "      <td>NaN</td>\n",
       "      <td>NaN</td>\n",
       "      <td>1894.0</td>\n",
       "      <td>NaN</td>\n",
       "    </tr>\n",
       "  </tbody>\n",
       "</table>\n",
       "</div>"
      ],
      "text/plain": [
       "       CabDeck CabNumBinned      CabNum CabSide\n",
       "count     8494         8693      8693.0    8494\n",
       "unique       8            5        <NA>       2\n",
       "top          F            1        <NA>       S\n",
       "freq      2794         1747        <NA>    4288\n",
       "mean       NaN          NaN  596.398942     NaN\n",
       "std        NaN          NaN  506.637799     NaN\n",
       "min        NaN          NaN         0.0     NaN\n",
       "25%        NaN          NaN       173.0     NaN\n",
       "50%        NaN          NaN       427.0     NaN\n",
       "75%        NaN          NaN       983.0     NaN\n",
       "max        NaN          NaN      1894.0     NaN"
      ]
     },
     "execution_count": 24,
     "metadata": {},
     "output_type": "execute_result"
    }
   ],
   "source": [
    "train[['CabDeck', 'CabNumBinned', 'CabNum', 'CabSide']].describe(include='all')"
   ]
  },
  {
   "cell_type": "code",
   "execution_count": 25,
   "metadata": {},
   "outputs": [
    {
     "data": {
      "image/png": "[encoded data removed]",
      "text/plain": [
       "<Figure size 1440x432 with 4 Axes>"
      ]
     },
     "metadata": {
      "needs_background": "light"
     },
     "output_type": "display_data"
    }
   ],
   "source": [
    "# Setting up the figure and subplots\n",
    "fig, ax = plt.subplots(1, 4, figsize=(20, 6))  # Correct figsize and subplot creation\n",
    "\n",
    "# Plot for CabDeck\n",
    "sns.countplot(data=train, x='CabDeck', hue='Transported', ax=ax[0])\n",
    "ax[0].set_title(\"Transportation by CabDeck\")  # Set title method corrected\n",
    "ax[0].set_xlabel('Cab Deck')\n",
    "ax[0].set_ylabel('Count')\n",
    "\n",
    "# Plot for CabNumBinned\n",
    "sns.countplot(data=train, x='CabNumBinned', hue='Transported', ax=ax[1])\n",
    "ax[1].set_title(\"Transportation by CabNumBinned\")\n",
    "ax[1].set_xlabel('Cab Number (Binned)')\n",
    "ax[1].set_ylabel('Count')\n",
    "\n",
    "# Plot for CabNum\n",
    "sns.histplot(data=train, x='CabNum', hue='Transported', ax=ax[2])\n",
    "ax[2].set_title(\"Transportation by CabNum\")\n",
    "ax[2].set_xlabel('Cab Number')\n",
    "ax[2].set_ylabel('Count')\n",
    "\n",
    "# Plot for CabSide\n",
    "sns.countplot(data=train, x='CabSide', hue='Transported', ax=ax[3])\n",
    "ax[3].set_title(\"Transportation by CabSide\")\n",
    "ax[3].set_xlabel('Cab Side')\n",
    "ax[3].set_ylabel('Count')\n",
    "\n",
    "# Adjust layout\n",
    "plt.tight_layout()\n",
    "plt.show()"
   ]
  },
  {
   "cell_type": "code",
   "execution_count": 26,
   "metadata": {},
   "outputs": [
    {
     "name": "stdout",
     "output_type": "stream",
     "text": [
      "<class 'pandas.core.frame.DataFrame'>\n",
      "RangeIndex: 8693 entries, 0 to 8692\n",
      "Data columns (total 17 columns):\n",
      " #   Column        Non-Null Count  Dtype   \n",
      "---  ------        --------------  -----   \n",
      " 0   PassengerId   8693 non-null   object  \n",
      " 1   HomePlanet    8492 non-null   object  \n",
      " 2   CryoSleep     8476 non-null   object  \n",
      " 3   Destination   8511 non-null   object  \n",
      " 4   Age           8514 non-null   float64 \n",
      " 5   VIP           8490 non-null   object  \n",
      " 6   RoomService   8512 non-null   float64 \n",
      " 7   FoodCourt     8510 non-null   float64 \n",
      " 8   ShoppingMall  8485 non-null   float64 \n",
      " 9   Spa           8510 non-null   float64 \n",
      " 10  VRDeck        8505 non-null   float64 \n",
      " 11  Name          8493 non-null   object  \n",
      " 12  Transported   8693 non-null   bool    \n",
      " 13  CabDeck       8494 non-null   object  \n",
      " 14  CabNum        8693 non-null   Int64   \n",
      " 15  CabSide       8494 non-null   object  \n",
      " 16  CabNumBinned  8693 non-null   category\n",
      "dtypes: Int64(1), bool(1), category(1), float64(6), object(8)\n",
      "memory usage: 1.0+ MB\n"
     ]
    }
   ],
   "source": [
    "train.drop('Cabin', axis=1, inplace=True)\n",
    "train.info()"
   ]
  },
  {
   "cell_type": "code",
   "execution_count": null,
   "metadata": {},
   "outputs": [],
   "source": []
  },
  {
   "cell_type": "markdown",
   "metadata": {},
   "source": [
    "## Destination"
   ]
  },
  {
   "cell_type": "code",
   "execution_count": 27,
   "metadata": {},
   "outputs": [
    {
     "data": {
      "text/plain": [
       "Destination\n",
       "TRAPPIST-1e      5915\n",
       "55 Cancri e      1800\n",
       "PSO J318.5-22     796\n",
       "Name: count, dtype: int64"
      ]
     },
     "execution_count": 27,
     "metadata": {},
     "output_type": "execute_result"
    }
   ],
   "source": [
    "train['Destination'].value_counts()"
   ]
  },
  {
   "cell_type": "code",
   "execution_count": 28,
   "metadata": {},
   "outputs": [
    {
     "name": "stderr",
     "output_type": "stream",
     "text": [
      "/Users/bdogellis/opt/anaconda3/lib/python3.8/site-packages/seaborn/_decorators.py:36: FutureWarning: Pass the following variable as a keyword arg: x. From version 0.12, the only valid positional argument will be `data`, and passing other arguments without an explicit keyword will result in an error or misinterpretation.\n",
      "  warnings.warn(\n"
     ]
    },
    {
     "data": {
      "text/plain": [
       "<AxesSubplot:xlabel='Destination', ylabel='count'>"
      ]
     },
     "execution_count": 28,
     "metadata": {},
     "output_type": "execute_result"
    },
    {
     "data": {
      "image/png": "[encoded data removed]",
      "text/plain": [
       "<Figure size 432x288 with 1 Axes>"
      ]
     },
     "metadata": {
      "needs_background": "light"
     },
     "output_type": "display_data"
    }
   ],
   "source": [
    "sns.countplot(train['Destination'], hue=train['Transported'])"
   ]
  },
  {
   "cell_type": "code",
   "execution_count": 29,
   "metadata": {},
   "outputs": [
    {
     "data": {
      "text/plain": [
       "182"
      ]
     },
     "execution_count": 29,
     "metadata": {},
     "output_type": "execute_result"
    }
   ],
   "source": [
    "train['Destination'].isna().sum()"
   ]
  },
  {
   "cell_type": "code",
   "execution_count": 30,
   "metadata": {},
   "outputs": [
    {
     "data": {
      "text/html": [
       "<div>\n",
       "<style scoped>\n",
       "    .dataframe tbody tr th:only-of-type {\n",
       "        vertical-align: middle;\n",
       "    }\n",
       "\n",
       "    .dataframe tbody tr th {\n",
       "        vertical-align: top;\n",
       "    }\n",
       "\n",
       "    .dataframe thead th {\n",
       "        text-align: right;\n",
       "    }\n",
       "</style>\n",
       "<table border=\"1\" class=\"dataframe\">\n",
       "  <thead>\n",
       "    <tr style=\"text-align: right;\">\n",
       "      <th></th>\n",
       "      <th>PassengerId</th>\n",
       "      <th>HomePlanet</th>\n",
       "      <th>CryoSleep</th>\n",
       "      <th>Destination</th>\n",
       "      <th>Age</th>\n",
       "      <th>VIP</th>\n",
       "      <th>RoomService</th>\n",
       "      <th>FoodCourt</th>\n",
       "      <th>ShoppingMall</th>\n",
       "      <th>Spa</th>\n",
       "      <th>VRDeck</th>\n",
       "      <th>Name</th>\n",
       "      <th>Transported</th>\n",
       "      <th>CabDeck</th>\n",
       "      <th>CabNum</th>\n",
       "      <th>CabSide</th>\n",
       "      <th>CabNumBinned</th>\n",
       "    </tr>\n",
       "  </thead>\n",
       "  <tbody>\n",
       "    <tr>\n",
       "      <th>47</th>\n",
       "      <td>0045_02</td>\n",
       "      <td>Mars</td>\n",
       "      <td>True</td>\n",
       "      <td>NaN</td>\n",
       "      <td>19.0</td>\n",
       "      <td>False</td>\n",
       "      <td>0.0</td>\n",
       "      <td>0.0</td>\n",
       "      <td>0.0</td>\n",
       "      <td>0.0</td>\n",
       "      <td>0.0</td>\n",
       "      <td>Mass Chmad</td>\n",
       "      <td>True</td>\n",
       "      <td>F</td>\n",
       "      <td>10</td>\n",
       "      <td>P</td>\n",
       "      <td>1</td>\n",
       "    </tr>\n",
       "    <tr>\n",
       "      <th>128</th>\n",
       "      <td>0138_02</td>\n",
       "      <td>Earth</td>\n",
       "      <td>False</td>\n",
       "      <td>NaN</td>\n",
       "      <td>34.0</td>\n",
       "      <td>False</td>\n",
       "      <td>0.0</td>\n",
       "      <td>22.0</td>\n",
       "      <td>0.0</td>\n",
       "      <td>564.0</td>\n",
       "      <td>207.0</td>\n",
       "      <td>Monah Gambs</td>\n",
       "      <td>False</td>\n",
       "      <td>E</td>\n",
       "      <td>5</td>\n",
       "      <td>P</td>\n",
       "      <td>1</td>\n",
       "    </tr>\n",
       "    <tr>\n",
       "      <th>139</th>\n",
       "      <td>0152_01</td>\n",
       "      <td>Earth</td>\n",
       "      <td>False</td>\n",
       "      <td>NaN</td>\n",
       "      <td>41.0</td>\n",
       "      <td>False</td>\n",
       "      <td>0.0</td>\n",
       "      <td>0.0</td>\n",
       "      <td>0.0</td>\n",
       "      <td>0.0</td>\n",
       "      <td>607.0</td>\n",
       "      <td>Andan Estron</td>\n",
       "      <td>False</td>\n",
       "      <td>F</td>\n",
       "      <td>32</td>\n",
       "      <td>P</td>\n",
       "      <td>1</td>\n",
       "    </tr>\n",
       "    <tr>\n",
       "      <th>347</th>\n",
       "      <td>0382_01</td>\n",
       "      <td>NaN</td>\n",
       "      <td>False</td>\n",
       "      <td>NaN</td>\n",
       "      <td>23.0</td>\n",
       "      <td>False</td>\n",
       "      <td>348.0</td>\n",
       "      <td>0.0</td>\n",
       "      <td>0.0</td>\n",
       "      <td>4.0</td>\n",
       "      <td>368.0</td>\n",
       "      <td>Blanie Floydendley</td>\n",
       "      <td>False</td>\n",
       "      <td>G</td>\n",
       "      <td>64</td>\n",
       "      <td>P</td>\n",
       "      <td>1</td>\n",
       "    </tr>\n",
       "    <tr>\n",
       "      <th>430</th>\n",
       "      <td>0462_01</td>\n",
       "      <td>Earth</td>\n",
       "      <td>True</td>\n",
       "      <td>NaN</td>\n",
       "      <td>50.0</td>\n",
       "      <td>False</td>\n",
       "      <td>0.0</td>\n",
       "      <td>0.0</td>\n",
       "      <td>0.0</td>\n",
       "      <td>0.0</td>\n",
       "      <td>0.0</td>\n",
       "      <td>Ronia Sosanturney</td>\n",
       "      <td>False</td>\n",
       "      <td>G</td>\n",
       "      <td>67</td>\n",
       "      <td>S</td>\n",
       "      <td>1</td>\n",
       "    </tr>\n",
       "    <tr>\n",
       "      <th>468</th>\n",
       "      <td>0504_03</td>\n",
       "      <td>Europa</td>\n",
       "      <td>True</td>\n",
       "      <td>NaN</td>\n",
       "      <td>24.0</td>\n",
       "      <td>False</td>\n",
       "      <td>0.0</td>\n",
       "      <td>0.0</td>\n",
       "      <td>0.0</td>\n",
       "      <td>0.0</td>\n",
       "      <td>0.0</td>\n",
       "      <td>Sterops Unpasine</td>\n",
       "      <td>True</td>\n",
       "      <td>B</td>\n",
       "      <td>19</td>\n",
       "      <td>S</td>\n",
       "      <td>1</td>\n",
       "    </tr>\n",
       "    <tr>\n",
       "      <th>529</th>\n",
       "      <td>0564_03</td>\n",
       "      <td>Europa</td>\n",
       "      <td>False</td>\n",
       "      <td>NaN</td>\n",
       "      <td>28.0</td>\n",
       "      <td>False</td>\n",
       "      <td>0.0</td>\n",
       "      <td>410.0</td>\n",
       "      <td>2.0</td>\n",
       "      <td>1354.0</td>\n",
       "      <td>3695.0</td>\n",
       "      <td>Aldibi Dinsprody</td>\n",
       "      <td>False</td>\n",
       "      <td>B</td>\n",
       "      <td>24</td>\n",
       "      <td>P</td>\n",
       "      <td>1</td>\n",
       "    </tr>\n",
       "    <tr>\n",
       "      <th>540</th>\n",
       "      <td>0571_04</td>\n",
       "      <td>Europa</td>\n",
       "      <td>True</td>\n",
       "      <td>NaN</td>\n",
       "      <td>30.0</td>\n",
       "      <td>False</td>\n",
       "      <td>0.0</td>\n",
       "      <td>0.0</td>\n",
       "      <td>0.0</td>\n",
       "      <td>0.0</td>\n",
       "      <td>NaN</td>\n",
       "      <td>Izark Hednigic</td>\n",
       "      <td>True</td>\n",
       "      <td>C</td>\n",
       "      <td>21</td>\n",
       "      <td>P</td>\n",
       "      <td>1</td>\n",
       "    </tr>\n",
       "    <tr>\n",
       "      <th>547</th>\n",
       "      <td>0576_01</td>\n",
       "      <td>Earth</td>\n",
       "      <td>False</td>\n",
       "      <td>NaN</td>\n",
       "      <td>21.0</td>\n",
       "      <td>False</td>\n",
       "      <td>0.0</td>\n",
       "      <td>NaN</td>\n",
       "      <td>625.0</td>\n",
       "      <td>110.0</td>\n",
       "      <td>0.0</td>\n",
       "      <td>Melice Herry</td>\n",
       "      <td>False</td>\n",
       "      <td>F</td>\n",
       "      <td>107</td>\n",
       "      <td>S</td>\n",
       "      <td>1</td>\n",
       "    </tr>\n",
       "    <tr>\n",
       "      <th>570</th>\n",
       "      <td>0597_01</td>\n",
       "      <td>Earth</td>\n",
       "      <td>True</td>\n",
       "      <td>NaN</td>\n",
       "      <td>23.0</td>\n",
       "      <td>False</td>\n",
       "      <td>0.0</td>\n",
       "      <td>0.0</td>\n",
       "      <td>0.0</td>\n",
       "      <td>0.0</td>\n",
       "      <td>0.0</td>\n",
       "      <td>Arllia Roachoanand</td>\n",
       "      <td>True</td>\n",
       "      <td>G</td>\n",
       "      <td>91</td>\n",
       "      <td>P</td>\n",
       "      <td>1</td>\n",
       "    </tr>\n",
       "  </tbody>\n",
       "</table>\n",
       "</div>"
      ],
      "text/plain": [
       "    PassengerId HomePlanet CryoSleep Destination   Age    VIP  RoomService  \\\n",
       "47      0045_02       Mars      True         NaN  19.0  False          0.0   \n",
       "128     0138_02      Earth     False         NaN  34.0  False          0.0   \n",
       "139     0152_01      Earth     False         NaN  41.0  False          0.0   \n",
       "347     0382_01        NaN     False         NaN  23.0  False        348.0   \n",
       "430     0462_01      Earth      True         NaN  50.0  False          0.0   \n",
       "468     0504_03     Europa      True         NaN  24.0  False          0.0   \n",
       "529     0564_03     Europa     False         NaN  28.0  False          0.0   \n",
       "540     0571_04     Europa      True         NaN  30.0  False          0.0   \n",
       "547     0576_01      Earth     False         NaN  21.0  False          0.0   \n",
       "570     0597_01      Earth      True         NaN  23.0  False          0.0   \n",
       "\n",
       "     FoodCourt  ShoppingMall     Spa  VRDeck                Name  Transported  \\\n",
       "47         0.0           0.0     0.0     0.0          Mass Chmad         True   \n",
       "128       22.0           0.0   564.0   207.0         Monah Gambs        False   \n",
       "139        0.0           0.0     0.0   607.0        Andan Estron        False   \n",
       "347        0.0           0.0     4.0   368.0  Blanie Floydendley        False   \n",
       "430        0.0           0.0     0.0     0.0   Ronia Sosanturney        False   \n",
       "468        0.0           0.0     0.0     0.0    Sterops Unpasine         True   \n",
       "529      410.0           2.0  1354.0  3695.0    Aldibi Dinsprody        False   \n",
       "540        0.0           0.0     0.0     NaN      Izark Hednigic         True   \n",
       "547        NaN         625.0   110.0     0.0        Melice Herry        False   \n",
       "570        0.0           0.0     0.0     0.0  Arllia Roachoanand         True   \n",
       "\n",
       "    CabDeck  CabNum CabSide CabNumBinned  \n",
       "47        F      10       P            1  \n",
       "128       E       5       P            1  \n",
       "139       F      32       P            1  \n",
       "347       G      64       P            1  \n",
       "430       G      67       S            1  \n",
       "468       B      19       S            1  \n",
       "529       B      24       P            1  \n",
       "540       C      21       P            1  \n",
       "547       F     107       S            1  \n",
       "570       G      91       P            1  "
      ]
     },
     "execution_count": 30,
     "metadata": {},
     "output_type": "execute_result"
    }
   ],
   "source": [
    "train[train['Destination'].isna()].head(10)"
   ]
  },
  {
   "cell_type": "code",
   "execution_count": 31,
   "metadata": {},
   "outputs": [],
   "source": [
    "# Fill this column"
   ]
  },
  {
   "cell_type": "code",
   "execution_count": null,
   "metadata": {},
   "outputs": [],
   "source": []
  },
  {
   "cell_type": "markdown",
   "metadata": {},
   "source": [
    "## Age"
   ]
  },
  {
   "cell_type": "code",
   "execution_count": 32,
   "metadata": {},
   "outputs": [
    {
     "data": {
      "text/plain": [
       "<AxesSubplot:ylabel='Frequency'>"
      ]
     },
     "execution_count": 32,
     "metadata": {},
     "output_type": "execute_result"
    },
    {
     "data": {
      "image/png": "[encoded data removed]",
      "text/plain": [
       "<Figure size 432x288 with 1 Axes>"
      ]
     },
     "metadata": {
      "needs_background": "light"
     },
     "output_type": "display_data"
    }
   ],
   "source": [
    "train['Age'].plot(kind='hist')"
   ]
  },
  {
   "cell_type": "code",
   "execution_count": 33,
   "metadata": {},
   "outputs": [
    {
     "data": {
      "text/plain": [
       "count    8514.000000\n",
       "mean       28.827930\n",
       "std        14.489021\n",
       "min         0.000000\n",
       "25%        19.000000\n",
       "50%        27.000000\n",
       "75%        38.000000\n",
       "max        79.000000\n",
       "Name: Age, dtype: float64"
      ]
     },
     "execution_count": 33,
     "metadata": {},
     "output_type": "execute_result"
    }
   ],
   "source": [
    "train['Age'].describe()"
   ]
  },
  {
   "cell_type": "code",
   "execution_count": 34,
   "metadata": {},
   "outputs": [
    {
     "data": {
      "text/plain": [
       "Transported\n",
       "False    29.922858\n",
       "True     27.748834\n",
       "Name: Age, dtype: float64"
      ]
     },
     "execution_count": 34,
     "metadata": {},
     "output_type": "execute_result"
    }
   ],
   "source": [
    "train.groupby('Transported')['Age'].mean()"
   ]
  },
  {
   "cell_type": "code",
   "execution_count": 35,
   "metadata": {},
   "outputs": [
    {
     "data": {
      "image/png": "[encoded data removed]",
      "text/plain": [
       "<Figure size 720x432 with 1 Axes>"
      ]
     },
     "metadata": {
      "needs_background": "light"
     },
     "output_type": "display_data"
    }
   ],
   "source": [
    "fig, ax = plt.subplots(figsize=(10, 6))\n",
    "\n",
    "# Histogram for passengers who were transported\n",
    "ax.hist(train['Age'][train['Transported'] == True], bins=20, alpha=0.3, color='blue', label='Transported')\n",
    "\n",
    "# Histogram for passengers who were not transported\n",
    "ax.hist(train['Age'][train['Transported'] == False], bins=20, alpha=0.3, color='red', label='Not Transported')\n",
    "\n",
    "# Adding title and labels\n",
    "ax.set_title('Age Distribution by Transportation Status')\n",
    "ax.set_xlabel('Age')\n",
    "ax.set_ylabel('Count')\n",
    "\n",
    "# Adding legend to distinguish the groups\n",
    "ax.legend()\n",
    "\n",
    "# Show the plot\n",
    "plt.show()"
   ]
  },
  {
   "cell_type": "code",
   "execution_count": 36,
   "metadata": {},
   "outputs": [
    {
     "name": "stdout",
     "output_type": "stream",
     "text": [
      "<class 'pandas.core.frame.DataFrame'>\n",
      "RangeIndex: 8693 entries, 0 to 8692\n",
      "Data columns (total 17 columns):\n",
      " #   Column        Non-Null Count  Dtype   \n",
      "---  ------        --------------  -----   \n",
      " 0   PassengerId   8693 non-null   object  \n",
      " 1   HomePlanet    8492 non-null   object  \n",
      " 2   CryoSleep     8476 non-null   object  \n",
      " 3   Destination   8511 non-null   object  \n",
      " 4   Age           8514 non-null   float64 \n",
      " 5   VIP           8490 non-null   object  \n",
      " 6   RoomService   8512 non-null   float64 \n",
      " 7   FoodCourt     8510 non-null   float64 \n",
      " 8   ShoppingMall  8485 non-null   float64 \n",
      " 9   Spa           8510 non-null   float64 \n",
      " 10  VRDeck        8505 non-null   float64 \n",
      " 11  Name          8493 non-null   object  \n",
      " 12  Transported   8693 non-null   bool    \n",
      " 13  CabDeck       8494 non-null   object  \n",
      " 14  CabNum        8693 non-null   Int64   \n",
      " 15  CabSide       8494 non-null   object  \n",
      " 16  CabNumBinned  8693 non-null   category\n",
      "dtypes: Int64(1), bool(1), category(1), float64(6), object(8)\n",
      "memory usage: 1.0+ MB\n"
     ]
    }
   ],
   "source": [
    "train.info(\n",
    "    \n",
    ")"
   ]
  },
  {
   "cell_type": "markdown",
   "metadata": {},
   "source": [
    "## VIP"
   ]
  },
  {
   "cell_type": "code",
   "execution_count": 37,
   "metadata": {},
   "outputs": [
    {
     "data": {
      "text/plain": [
       "VIP\n",
       "False    8291\n",
       "True      199\n",
       "Name: count, dtype: int64"
      ]
     },
     "execution_count": 37,
     "metadata": {},
     "output_type": "execute_result"
    }
   ],
   "source": [
    "train['VIP'].value_counts()"
   ]
  },
  {
   "cell_type": "code",
   "execution_count": 38,
   "metadata": {},
   "outputs": [
    {
     "data": {
      "text/plain": [
       "VIP    Transported\n",
       "False  True           4198\n",
       "       False          4093\n",
       "True   False           123\n",
       "       True             76\n",
       "Name: count, dtype: int64"
      ]
     },
     "execution_count": 38,
     "metadata": {},
     "output_type": "execute_result"
    }
   ],
   "source": [
    "train.groupby('VIP')['Transported'].value_counts()"
   ]
  },
  {
   "cell_type": "code",
   "execution_count": 39,
   "metadata": {},
   "outputs": [
    {
     "data": {
      "text/plain": [
       "VIP    Transported\n",
       "False  True           0.506332\n",
       "       False          0.493668\n",
       "True   False          0.618090\n",
       "       True           0.381910\n",
       "Name: proportion, dtype: float64"
      ]
     },
     "execution_count": 39,
     "metadata": {},
     "output_type": "execute_result"
    }
   ],
   "source": [
    "train.groupby('VIP')['Transported'].value_counts(normalize=True)"
   ]
  },
  {
   "cell_type": "code",
   "execution_count": 40,
   "metadata": {},
   "outputs": [
    {
     "data": {
      "text/plain": [
       "203"
      ]
     },
     "execution_count": 40,
     "metadata": {},
     "output_type": "execute_result"
    }
   ],
   "source": [
    "train['VIP'].isna().sum()"
   ]
  },
  {
   "cell_type": "code",
   "execution_count": 41,
   "metadata": {},
   "outputs": [
    {
     "data": {
      "text/html": [
       "<div>\n",
       "<style scoped>\n",
       "    .dataframe tbody tr th:only-of-type {\n",
       "        vertical-align: middle;\n",
       "    }\n",
       "\n",
       "    .dataframe tbody tr th {\n",
       "        vertical-align: top;\n",
       "    }\n",
       "\n",
       "    .dataframe thead th {\n",
       "        text-align: right;\n",
       "    }\n",
       "</style>\n",
       "<table border=\"1\" class=\"dataframe\">\n",
       "  <thead>\n",
       "    <tr style=\"text-align: right;\">\n",
       "      <th></th>\n",
       "      <th>PassengerId</th>\n",
       "      <th>HomePlanet</th>\n",
       "      <th>CryoSleep</th>\n",
       "      <th>Destination</th>\n",
       "      <th>Age</th>\n",
       "      <th>VIP</th>\n",
       "      <th>RoomService</th>\n",
       "      <th>FoodCourt</th>\n",
       "      <th>ShoppingMall</th>\n",
       "      <th>Spa</th>\n",
       "      <th>VRDeck</th>\n",
       "      <th>Name</th>\n",
       "      <th>Transported</th>\n",
       "      <th>CabDeck</th>\n",
       "      <th>CabNum</th>\n",
       "      <th>CabSide</th>\n",
       "      <th>CabNumBinned</th>\n",
       "    </tr>\n",
       "  </thead>\n",
       "  <tbody>\n",
       "    <tr>\n",
       "      <th>38</th>\n",
       "      <td>0036_01</td>\n",
       "      <td>Earth</td>\n",
       "      <td>False</td>\n",
       "      <td>55 Cancri e</td>\n",
       "      <td>15.0</td>\n",
       "      <td>NaN</td>\n",
       "      <td>0.0</td>\n",
       "      <td>492.0</td>\n",
       "      <td>48.0</td>\n",
       "      <td>20.0</td>\n",
       "      <td>401.0</td>\n",
       "      <td>Marina Leodger</td>\n",
       "      <td>False</td>\n",
       "      <td>F</td>\n",
       "      <td>8</td>\n",
       "      <td>S</td>\n",
       "      <td>1</td>\n",
       "    </tr>\n",
       "    <tr>\n",
       "      <th>102</th>\n",
       "      <td>0108_03</td>\n",
       "      <td>Earth</td>\n",
       "      <td>False</td>\n",
       "      <td>TRAPPIST-1e</td>\n",
       "      <td>0.0</td>\n",
       "      <td>NaN</td>\n",
       "      <td>0.0</td>\n",
       "      <td>0.0</td>\n",
       "      <td>0.0</td>\n",
       "      <td>0.0</td>\n",
       "      <td>0.0</td>\n",
       "      <td>Oline Handertiz</td>\n",
       "      <td>True</td>\n",
       "      <td>G</td>\n",
       "      <td>19</td>\n",
       "      <td>S</td>\n",
       "      <td>1</td>\n",
       "    </tr>\n",
       "    <tr>\n",
       "      <th>145</th>\n",
       "      <td>0165_01</td>\n",
       "      <td>Mars</td>\n",
       "      <td>True</td>\n",
       "      <td>TRAPPIST-1e</td>\n",
       "      <td>35.0</td>\n",
       "      <td>NaN</td>\n",
       "      <td>0.0</td>\n",
       "      <td>0.0</td>\n",
       "      <td>0.0</td>\n",
       "      <td>0.0</td>\n",
       "      <td>0.0</td>\n",
       "      <td>Graven Anche</td>\n",
       "      <td>True</td>\n",
       "      <td>F</td>\n",
       "      <td>37</td>\n",
       "      <td>P</td>\n",
       "      <td>1</td>\n",
       "    </tr>\n",
       "    <tr>\n",
       "      <th>228</th>\n",
       "      <td>0244_02</td>\n",
       "      <td>Mars</td>\n",
       "      <td>True</td>\n",
       "      <td>55 Cancri e</td>\n",
       "      <td>14.0</td>\n",
       "      <td>NaN</td>\n",
       "      <td>0.0</td>\n",
       "      <td>0.0</td>\n",
       "      <td>0.0</td>\n",
       "      <td>0.0</td>\n",
       "      <td>0.0</td>\n",
       "      <td>Tous Sad</td>\n",
       "      <td>True</td>\n",
       "      <td>F</td>\n",
       "      <td>47</td>\n",
       "      <td>S</td>\n",
       "      <td>1</td>\n",
       "    </tr>\n",
       "    <tr>\n",
       "      <th>566</th>\n",
       "      <td>0593_01</td>\n",
       "      <td>Mars</td>\n",
       "      <td>False</td>\n",
       "      <td>TRAPPIST-1e</td>\n",
       "      <td>NaN</td>\n",
       "      <td>NaN</td>\n",
       "      <td>43.0</td>\n",
       "      <td>152.0</td>\n",
       "      <td>182.0</td>\n",
       "      <td>1.0</td>\n",
       "      <td>2005.0</td>\n",
       "      <td>Hon Kra</td>\n",
       "      <td>False</td>\n",
       "      <td>D</td>\n",
       "      <td>24</td>\n",
       "      <td>P</td>\n",
       "      <td>1</td>\n",
       "    </tr>\n",
       "    <tr>\n",
       "      <th>582</th>\n",
       "      <td>0607_01</td>\n",
       "      <td>Europa</td>\n",
       "      <td>False</td>\n",
       "      <td>TRAPPIST-1e</td>\n",
       "      <td>37.0</td>\n",
       "      <td>NaN</td>\n",
       "      <td>27.0</td>\n",
       "      <td>654.0</td>\n",
       "      <td>10.0</td>\n",
       "      <td>881.0</td>\n",
       "      <td>9568.0</td>\n",
       "      <td>Dyonium Hontichre</td>\n",
       "      <td>False</td>\n",
       "      <td>C</td>\n",
       "      <td>22</td>\n",
       "      <td>P</td>\n",
       "      <td>1</td>\n",
       "    </tr>\n",
       "    <tr>\n",
       "      <th>596</th>\n",
       "      <td>0619_01</td>\n",
       "      <td>Europa</td>\n",
       "      <td>True</td>\n",
       "      <td>TRAPPIST-1e</td>\n",
       "      <td>39.0</td>\n",
       "      <td>NaN</td>\n",
       "      <td>0.0</td>\n",
       "      <td>0.0</td>\n",
       "      <td>0.0</td>\n",
       "      <td>0.0</td>\n",
       "      <td>0.0</td>\n",
       "      <td>Scellus Holatirint</td>\n",
       "      <td>True</td>\n",
       "      <td>C</td>\n",
       "      <td>24</td>\n",
       "      <td>S</td>\n",
       "      <td>1</td>\n",
       "    </tr>\n",
       "    <tr>\n",
       "      <th>646</th>\n",
       "      <td>0679_01</td>\n",
       "      <td>Earth</td>\n",
       "      <td>False</td>\n",
       "      <td>TRAPPIST-1e</td>\n",
       "      <td>20.0</td>\n",
       "      <td>NaN</td>\n",
       "      <td>NaN</td>\n",
       "      <td>215.0</td>\n",
       "      <td>0.0</td>\n",
       "      <td>541.0</td>\n",
       "      <td>0.0</td>\n",
       "      <td>Vana Nichoan</td>\n",
       "      <td>False</td>\n",
       "      <td>G</td>\n",
       "      <td>104</td>\n",
       "      <td>S</td>\n",
       "      <td>1</td>\n",
       "    </tr>\n",
       "    <tr>\n",
       "      <th>649</th>\n",
       "      <td>0680_03</td>\n",
       "      <td>Earth</td>\n",
       "      <td>True</td>\n",
       "      <td>TRAPPIST-1e</td>\n",
       "      <td>5.0</td>\n",
       "      <td>NaN</td>\n",
       "      <td>0.0</td>\n",
       "      <td>0.0</td>\n",
       "      <td>0.0</td>\n",
       "      <td>0.0</td>\n",
       "      <td>0.0</td>\n",
       "      <td>Joandy Camerrison</td>\n",
       "      <td>False</td>\n",
       "      <td>G</td>\n",
       "      <td>105</td>\n",
       "      <td>P</td>\n",
       "      <td>1</td>\n",
       "    </tr>\n",
       "    <tr>\n",
       "      <th>678</th>\n",
       "      <td>0709_02</td>\n",
       "      <td>Europa</td>\n",
       "      <td>True</td>\n",
       "      <td>55 Cancri e</td>\n",
       "      <td>25.0</td>\n",
       "      <td>NaN</td>\n",
       "      <td>0.0</td>\n",
       "      <td>NaN</td>\n",
       "      <td>0.0</td>\n",
       "      <td>0.0</td>\n",
       "      <td>0.0</td>\n",
       "      <td>Thaban Missefle</td>\n",
       "      <td>True</td>\n",
       "      <td>A</td>\n",
       "      <td>7</td>\n",
       "      <td>S</td>\n",
       "      <td>1</td>\n",
       "    </tr>\n",
       "  </tbody>\n",
       "</table>\n",
       "</div>"
      ],
      "text/plain": [
       "    PassengerId HomePlanet CryoSleep  Destination   Age  VIP  RoomService  \\\n",
       "38      0036_01      Earth     False  55 Cancri e  15.0  NaN          0.0   \n",
       "102     0108_03      Earth     False  TRAPPIST-1e   0.0  NaN          0.0   \n",
       "145     0165_01       Mars      True  TRAPPIST-1e  35.0  NaN          0.0   \n",
       "228     0244_02       Mars      True  55 Cancri e  14.0  NaN          0.0   \n",
       "566     0593_01       Mars     False  TRAPPIST-1e   NaN  NaN         43.0   \n",
       "582     0607_01     Europa     False  TRAPPIST-1e  37.0  NaN         27.0   \n",
       "596     0619_01     Europa      True  TRAPPIST-1e  39.0  NaN          0.0   \n",
       "646     0679_01      Earth     False  TRAPPIST-1e  20.0  NaN          NaN   \n",
       "649     0680_03      Earth      True  TRAPPIST-1e   5.0  NaN          0.0   \n",
       "678     0709_02     Europa      True  55 Cancri e  25.0  NaN          0.0   \n",
       "\n",
       "     FoodCourt  ShoppingMall    Spa  VRDeck                Name  Transported  \\\n",
       "38       492.0          48.0   20.0   401.0      Marina Leodger        False   \n",
       "102        0.0           0.0    0.0     0.0     Oline Handertiz         True   \n",
       "145        0.0           0.0    0.0     0.0        Graven Anche         True   \n",
       "228        0.0           0.0    0.0     0.0            Tous Sad         True   \n",
       "566      152.0         182.0    1.0  2005.0             Hon Kra        False   \n",
       "582      654.0          10.0  881.0  9568.0   Dyonium Hontichre        False   \n",
       "596        0.0           0.0    0.0     0.0  Scellus Holatirint         True   \n",
       "646      215.0           0.0  541.0     0.0        Vana Nichoan        False   \n",
       "649        0.0           0.0    0.0     0.0   Joandy Camerrison        False   \n",
       "678        NaN           0.0    0.0     0.0     Thaban Missefle         True   \n",
       "\n",
       "    CabDeck  CabNum CabSide CabNumBinned  \n",
       "38        F       8       S            1  \n",
       "102       G      19       S            1  \n",
       "145       F      37       P            1  \n",
       "228       F      47       S            1  \n",
       "566       D      24       P            1  \n",
       "582       C      22       P            1  \n",
       "596       C      24       S            1  \n",
       "646       G     104       S            1  \n",
       "649       G     105       P            1  \n",
       "678       A       7       S            1  "
      ]
     },
     "execution_count": 41,
     "metadata": {},
     "output_type": "execute_result"
    }
   ],
   "source": [
    "train[train['VIP'].isna()].head(10) # should impute because of MAR"
   ]
  },
  {
   "cell_type": "markdown",
   "metadata": {},
   "source": [
    "## RoomService"
   ]
  },
  {
   "cell_type": "code",
   "execution_count": 42,
   "metadata": {},
   "outputs": [
    {
     "data": {
      "text/plain": [
       "count     8512.000000\n",
       "mean       224.687617\n",
       "std        666.717663\n",
       "min          0.000000\n",
       "25%          0.000000\n",
       "50%          0.000000\n",
       "75%         47.000000\n",
       "max      14327.000000\n",
       "Name: RoomService, dtype: float64"
      ]
     },
     "execution_count": 42,
     "metadata": {},
     "output_type": "execute_result"
    }
   ],
   "source": [
    "train['RoomService'].describe()"
   ]
  },
  {
   "cell_type": "code",
   "execution_count": 43,
   "metadata": {},
   "outputs": [
    {
     "data": {
      "image/png": "[encoded data removed]",
      "text/plain": [
       "<Figure size 432x288 with 1 Axes>"
      ]
     },
     "metadata": {
      "needs_background": "light"
     },
     "output_type": "display_data"
    }
   ],
   "source": [
    "train['RoomService'].plot(kind='hist')\n",
    "plt.title('Room Service')\n",
    "plt.show()"
   ]
  },
  {
   "cell_type": "code",
   "execution_count": 44,
   "metadata": {},
   "outputs": [
    {
     "data": {
      "image/png": "[encoded data removed]",
      "text/plain": [
       "<Figure size 720x432 with 1 Axes>"
      ]
     },
     "metadata": {
      "needs_background": "light"
     },
     "output_type": "display_data"
    }
   ],
   "source": [
    "fig, ax = plt.subplots(figsize=(10, 6))\n",
    "\n",
    "# Histogram for passengers who used room service and were transported\n",
    "ax.hist(train['RoomService'][train['Transported'] == True], bins=20, alpha=0.3, color='blue', label='Transported')\n",
    "\n",
    "# Histogram for passengers who used room service and were not transported\n",
    "ax.hist(train['RoomService'][train['Transported'] == False], bins=20, alpha=0.3, color='red', label='Not Transported')\n",
    "\n",
    "# Adding title and labels\n",
    "ax.set_title('Room Service Spending Distribution by Transportation Status')\n",
    "ax.set_xlabel('Room Service Spending')\n",
    "ax.set_ylabel('Count')\n",
    "ax.set_xlim(0, 3000)\n",
    "\n",
    "# Adding legend to distinguish the groups\n",
    "ax.legend()\n",
    "\n",
    "# Show the plot\n",
    "plt.show()\n"
   ]
  },
  {
   "cell_type": "code",
   "execution_count": 45,
   "metadata": {},
   "outputs": [
    {
     "name": "stdout",
     "output_type": "stream",
     "text": [
      "Transported: \n",
      "--------------------------------------------------\n",
      "count    4295.000000\n",
      "mean       63.098021\n",
      "std       274.812497\n",
      "min         0.000000\n",
      "25%         0.000000\n",
      "50%         0.000000\n",
      "75%         0.000000\n",
      "max      3992.000000\n",
      "Name: RoomService, dtype: float64\n",
      "\n",
      "Not Transported: \n",
      "--------------------------------------------------\n",
      "count     4217.000000\n",
      "mean       389.266066\n",
      "std        875.638123\n",
      "min          0.000000\n",
      "25%          0.000000\n",
      "50%          1.000000\n",
      "75%        473.000000\n",
      "max      14327.000000\n",
      "Name: RoomService, dtype: float64\n"
     ]
    }
   ],
   "source": [
    "print(\"Transported: \\n\" + \"-\" *50 + f\"\\n{train['RoomService'][train['Transported']==True].describe()}\")\n",
    "print()\n",
    "print(\"Not Transported: \\n\" + \"-\" *50 + f\"\\n{train['RoomService'][train['Transported']==False].describe()}\")"
   ]
  },
  {
   "cell_type": "markdown",
   "metadata": {},
   "source": [
    "These summary statistics as well as the histogram gives credence to the idea room service spending and transportation are highly correlated"
   ]
  },
  {
   "cell_type": "code",
   "execution_count": 46,
   "metadata": {},
   "outputs": [
    {
     "data": {
      "text/plain": [
       "-0.24461142158527574"
      ]
     },
     "execution_count": 46,
     "metadata": {},
     "output_type": "execute_result"
    }
   ],
   "source": [
    "train['RoomService'].corr(train['Transported'])"
   ]
  },
  {
   "cell_type": "code",
   "execution_count": 47,
   "metadata": {},
   "outputs": [
    {
     "data": {
      "text/plain": [
       "181"
      ]
     },
     "execution_count": 47,
     "metadata": {},
     "output_type": "execute_result"
    }
   ],
   "source": [
    "train['RoomService'].isna().sum()"
   ]
  },
  {
   "cell_type": "code",
   "execution_count": 48,
   "metadata": {},
   "outputs": [
    {
     "data": {
      "text/html": [
       "<div>\n",
       "<style scoped>\n",
       "    .dataframe tbody tr th:only-of-type {\n",
       "        vertical-align: middle;\n",
       "    }\n",
       "\n",
       "    .dataframe tbody tr th {\n",
       "        vertical-align: top;\n",
       "    }\n",
       "\n",
       "    .dataframe thead th {\n",
       "        text-align: right;\n",
       "    }\n",
       "</style>\n",
       "<table border=\"1\" class=\"dataframe\">\n",
       "  <thead>\n",
       "    <tr style=\"text-align: right;\">\n",
       "      <th></th>\n",
       "      <th>PassengerId</th>\n",
       "      <th>HomePlanet</th>\n",
       "      <th>CryoSleep</th>\n",
       "      <th>Destination</th>\n",
       "      <th>Age</th>\n",
       "      <th>VIP</th>\n",
       "      <th>RoomService</th>\n",
       "      <th>FoodCourt</th>\n",
       "      <th>ShoppingMall</th>\n",
       "      <th>Spa</th>\n",
       "      <th>VRDeck</th>\n",
       "      <th>Name</th>\n",
       "      <th>Transported</th>\n",
       "      <th>CabDeck</th>\n",
       "      <th>CabNum</th>\n",
       "      <th>CabSide</th>\n",
       "      <th>CabNumBinned</th>\n",
       "    </tr>\n",
       "  </thead>\n",
       "  <tbody>\n",
       "    <tr>\n",
       "      <th>25</th>\n",
       "      <td>0020_05</td>\n",
       "      <td>Earth</td>\n",
       "      <td>True</td>\n",
       "      <td>PSO J318.5-22</td>\n",
       "      <td>1.0</td>\n",
       "      <td>False</td>\n",
       "      <td>NaN</td>\n",
       "      <td>0.0</td>\n",
       "      <td>0.0</td>\n",
       "      <td>0.0</td>\n",
       "      <td>0.0</td>\n",
       "      <td>Mael Brantuarez</td>\n",
       "      <td>False</td>\n",
       "      <td>E</td>\n",
       "      <td>0</td>\n",
       "      <td>S</td>\n",
       "      <td>1</td>\n",
       "    </tr>\n",
       "    <tr>\n",
       "      <th>35</th>\n",
       "      <td>0031_03</td>\n",
       "      <td>Mars</td>\n",
       "      <td>False</td>\n",
       "      <td>TRAPPIST-1e</td>\n",
       "      <td>20.0</td>\n",
       "      <td>False</td>\n",
       "      <td>NaN</td>\n",
       "      <td>0.0</td>\n",
       "      <td>1750.0</td>\n",
       "      <td>990.0</td>\n",
       "      <td>0.0</td>\n",
       "      <td>Dontch Datie</td>\n",
       "      <td>True</td>\n",
       "      <td>F</td>\n",
       "      <td>9</td>\n",
       "      <td>P</td>\n",
       "      <td>1</td>\n",
       "    </tr>\n",
       "    <tr>\n",
       "      <th>83</th>\n",
       "      <td>0091_01</td>\n",
       "      <td>Earth</td>\n",
       "      <td>True</td>\n",
       "      <td>TRAPPIST-1e</td>\n",
       "      <td>26.0</td>\n",
       "      <td>False</td>\n",
       "      <td>NaN</td>\n",
       "      <td>0.0</td>\n",
       "      <td>0.0</td>\n",
       "      <td>0.0</td>\n",
       "      <td>0.0</td>\n",
       "      <td>Deanne Yorkland</td>\n",
       "      <td>True</td>\n",
       "      <td>G</td>\n",
       "      <td>16</td>\n",
       "      <td>S</td>\n",
       "      <td>1</td>\n",
       "    </tr>\n",
       "    <tr>\n",
       "      <th>132</th>\n",
       "      <td>0141_01</td>\n",
       "      <td>Mars</td>\n",
       "      <td>False</td>\n",
       "      <td>TRAPPIST-1e</td>\n",
       "      <td>31.0</td>\n",
       "      <td>False</td>\n",
       "      <td>NaN</td>\n",
       "      <td>0.0</td>\n",
       "      <td>97.0</td>\n",
       "      <td>0.0</td>\n",
       "      <td>0.0</td>\n",
       "      <td>Pyrohs Harte</td>\n",
       "      <td>False</td>\n",
       "      <td>F</td>\n",
       "      <td>30</td>\n",
       "      <td>P</td>\n",
       "      <td>1</td>\n",
       "    </tr>\n",
       "    <tr>\n",
       "      <th>170</th>\n",
       "      <td>0193_02</td>\n",
       "      <td>Mars</td>\n",
       "      <td>False</td>\n",
       "      <td>TRAPPIST-1e</td>\n",
       "      <td>23.0</td>\n",
       "      <td>False</td>\n",
       "      <td>NaN</td>\n",
       "      <td>0.0</td>\n",
       "      <td>8.0</td>\n",
       "      <td>1072.0</td>\n",
       "      <td>0.0</td>\n",
       "      <td>Frook Raf</td>\n",
       "      <td>False</td>\n",
       "      <td>F</td>\n",
       "      <td>41</td>\n",
       "      <td>P</td>\n",
       "      <td>1</td>\n",
       "    </tr>\n",
       "    <tr>\n",
       "      <th>220</th>\n",
       "      <td>0234_01</td>\n",
       "      <td>Earth</td>\n",
       "      <td>False</td>\n",
       "      <td>TRAPPIST-1e</td>\n",
       "      <td>43.0</td>\n",
       "      <td>False</td>\n",
       "      <td>NaN</td>\n",
       "      <td>888.0</td>\n",
       "      <td>0.0</td>\n",
       "      <td>0.0</td>\n",
       "      <td>0.0</td>\n",
       "      <td>Keitha Josey</td>\n",
       "      <td>False</td>\n",
       "      <td>F</td>\n",
       "      <td>50</td>\n",
       "      <td>P</td>\n",
       "      <td>1</td>\n",
       "    </tr>\n",
       "    <tr>\n",
       "      <th>233</th>\n",
       "      <td>0250_01</td>\n",
       "      <td>Earth</td>\n",
       "      <td>True</td>\n",
       "      <td>PSO J318.5-22</td>\n",
       "      <td>47.0</td>\n",
       "      <td>False</td>\n",
       "      <td>NaN</td>\n",
       "      <td>0.0</td>\n",
       "      <td>0.0</td>\n",
       "      <td>0.0</td>\n",
       "      <td>0.0</td>\n",
       "      <td>Camily Kramosley</td>\n",
       "      <td>False</td>\n",
       "      <td>G</td>\n",
       "      <td>38</td>\n",
       "      <td>S</td>\n",
       "      <td>1</td>\n",
       "    </tr>\n",
       "    <tr>\n",
       "      <th>280</th>\n",
       "      <td>0310_01</td>\n",
       "      <td>Europa</td>\n",
       "      <td>False</td>\n",
       "      <td>TRAPPIST-1e</td>\n",
       "      <td>67.0</td>\n",
       "      <td>False</td>\n",
       "      <td>NaN</td>\n",
       "      <td>230.0</td>\n",
       "      <td>0.0</td>\n",
       "      <td>4476.0</td>\n",
       "      <td>241.0</td>\n",
       "      <td>Naviton Coudered</td>\n",
       "      <td>False</td>\n",
       "      <td>NaN</td>\n",
       "      <td>427</td>\n",
       "      <td>NaN</td>\n",
       "      <td>3</td>\n",
       "    </tr>\n",
       "    <tr>\n",
       "      <th>319</th>\n",
       "      <td>0357_01</td>\n",
       "      <td>Earth</td>\n",
       "      <td>False</td>\n",
       "      <td>TRAPPIST-1e</td>\n",
       "      <td>41.0</td>\n",
       "      <td>False</td>\n",
       "      <td>NaN</td>\n",
       "      <td>1198.0</td>\n",
       "      <td>0.0</td>\n",
       "      <td>124.0</td>\n",
       "      <td>572.0</td>\n",
       "      <td>Eduard Mcleaney</td>\n",
       "      <td>False</td>\n",
       "      <td>F</td>\n",
       "      <td>65</td>\n",
       "      <td>S</td>\n",
       "      <td>1</td>\n",
       "    </tr>\n",
       "    <tr>\n",
       "      <th>368</th>\n",
       "      <td>0407_01</td>\n",
       "      <td>Earth</td>\n",
       "      <td>False</td>\n",
       "      <td>TRAPPIST-1e</td>\n",
       "      <td>23.0</td>\n",
       "      <td>False</td>\n",
       "      <td>NaN</td>\n",
       "      <td>21.0</td>\n",
       "      <td>0.0</td>\n",
       "      <td>0.0</td>\n",
       "      <td>1699.0</td>\n",
       "      <td>Dandy Mirez</td>\n",
       "      <td>False</td>\n",
       "      <td>G</td>\n",
       "      <td>69</td>\n",
       "      <td>P</td>\n",
       "      <td>1</td>\n",
       "    </tr>\n",
       "  </tbody>\n",
       "</table>\n",
       "</div>"
      ],
      "text/plain": [
       "    PassengerId HomePlanet CryoSleep    Destination   Age    VIP  RoomService  \\\n",
       "25      0020_05      Earth      True  PSO J318.5-22   1.0  False          NaN   \n",
       "35      0031_03       Mars     False    TRAPPIST-1e  20.0  False          NaN   \n",
       "83      0091_01      Earth      True    TRAPPIST-1e  26.0  False          NaN   \n",
       "132     0141_01       Mars     False    TRAPPIST-1e  31.0  False          NaN   \n",
       "170     0193_02       Mars     False    TRAPPIST-1e  23.0  False          NaN   \n",
       "220     0234_01      Earth     False    TRAPPIST-1e  43.0  False          NaN   \n",
       "233     0250_01      Earth      True  PSO J318.5-22  47.0  False          NaN   \n",
       "280     0310_01     Europa     False    TRAPPIST-1e  67.0  False          NaN   \n",
       "319     0357_01      Earth     False    TRAPPIST-1e  41.0  False          NaN   \n",
       "368     0407_01      Earth     False    TRAPPIST-1e  23.0  False          NaN   \n",
       "\n",
       "     FoodCourt  ShoppingMall     Spa  VRDeck              Name  Transported  \\\n",
       "25         0.0           0.0     0.0     0.0   Mael Brantuarez        False   \n",
       "35         0.0        1750.0   990.0     0.0      Dontch Datie         True   \n",
       "83         0.0           0.0     0.0     0.0   Deanne Yorkland         True   \n",
       "132        0.0          97.0     0.0     0.0      Pyrohs Harte        False   \n",
       "170        0.0           8.0  1072.0     0.0         Frook Raf        False   \n",
       "220      888.0           0.0     0.0     0.0      Keitha Josey        False   \n",
       "233        0.0           0.0     0.0     0.0  Camily Kramosley        False   \n",
       "280      230.0           0.0  4476.0   241.0  Naviton Coudered        False   \n",
       "319     1198.0           0.0   124.0   572.0   Eduard Mcleaney        False   \n",
       "368       21.0           0.0     0.0  1699.0       Dandy Mirez        False   \n",
       "\n",
       "    CabDeck  CabNum CabSide CabNumBinned  \n",
       "25        E       0       S            1  \n",
       "35        F       9       P            1  \n",
       "83        G      16       S            1  \n",
       "132       F      30       P            1  \n",
       "170       F      41       P            1  \n",
       "220       F      50       P            1  \n",
       "233       G      38       S            1  \n",
       "280     NaN     427     NaN            3  \n",
       "319       F      65       S            1  \n",
       "368       G      69       P            1  "
      ]
     },
     "execution_count": 48,
     "metadata": {},
     "output_type": "execute_result"
    }
   ],
   "source": [
    "train[train['RoomService'].isna()].head(10)"
   ]
  },
  {
   "cell_type": "code",
   "execution_count": 49,
   "metadata": {},
   "outputs": [
    {
     "data": {
      "text/plain": [
       "Transported\n",
       "False    98\n",
       "True     83\n",
       "Name: count, dtype: int64"
      ]
     },
     "execution_count": 49,
     "metadata": {},
     "output_type": "execute_result"
    }
   ],
   "source": [
    "train[train['RoomService'].isna()]['Transported'].value_counts()# Missing at random"
   ]
  },
  {
   "cell_type": "code",
   "execution_count": 50,
   "metadata": {},
   "outputs": [
    {
     "name": "stdout",
     "output_type": "stream",
     "text": [
      "<class 'pandas.core.frame.DataFrame'>\n",
      "RangeIndex: 8693 entries, 0 to 8692\n",
      "Data columns (total 17 columns):\n",
      " #   Column        Non-Null Count  Dtype   \n",
      "---  ------        --------------  -----   \n",
      " 0   PassengerId   8693 non-null   object  \n",
      " 1   HomePlanet    8492 non-null   object  \n",
      " 2   CryoSleep     8476 non-null   object  \n",
      " 3   Destination   8511 non-null   object  \n",
      " 4   Age           8514 non-null   float64 \n",
      " 5   VIP           8490 non-null   object  \n",
      " 6   RoomService   8512 non-null   float64 \n",
      " 7   FoodCourt     8510 non-null   float64 \n",
      " 8   ShoppingMall  8485 non-null   float64 \n",
      " 9   Spa           8510 non-null   float64 \n",
      " 10  VRDeck        8505 non-null   float64 \n",
      " 11  Name          8493 non-null   object  \n",
      " 12  Transported   8693 non-null   bool    \n",
      " 13  CabDeck       8494 non-null   object  \n",
      " 14  CabNum        8693 non-null   Int64   \n",
      " 15  CabSide       8494 non-null   object  \n",
      " 16  CabNumBinned  8693 non-null   category\n",
      "dtypes: Int64(1), bool(1), category(1), float64(6), object(8)\n",
      "memory usage: 1.0+ MB\n"
     ]
    }
   ],
   "source": [
    "train.info()"
   ]
  },
  {
   "cell_type": "markdown",
   "metadata": {},
   "source": [
    "## FoodCourt"
   ]
  },
  {
   "cell_type": "code",
   "execution_count": 51,
   "metadata": {},
   "outputs": [
    {
     "data": {
      "text/plain": [
       "count     8510.000000\n",
       "mean       458.077203\n",
       "std       1611.489240\n",
       "min          0.000000\n",
       "25%          0.000000\n",
       "50%          0.000000\n",
       "75%         76.000000\n",
       "max      29813.000000\n",
       "Name: FoodCourt, dtype: float64"
      ]
     },
     "execution_count": 51,
     "metadata": {},
     "output_type": "execute_result"
    }
   ],
   "source": [
    "train['FoodCourt'].describe()"
   ]
  },
  {
   "cell_type": "code",
   "execution_count": 52,
   "metadata": {},
   "outputs": [
    {
     "name": "stdout",
     "output_type": "stream",
     "text": [
      "Transported: \n",
      "--------------------------------------------------\n",
      "count     4279.000000\n",
      "mean       532.691984\n",
      "std       1931.306995\n",
      "min          0.000000\n",
      "25%          0.000000\n",
      "50%          0.000000\n",
      "75%          0.000000\n",
      "max      29813.000000\n",
      "Name: FoodCourt, dtype: float64\n",
      "\n",
      "Not Transported: \n",
      "--------------------------------------------------\n",
      "count     4231.000000\n",
      "mean       382.615930\n",
      "std       1200.115601\n",
      "min          0.000000\n",
      "25%          0.000000\n",
      "50%          0.000000\n",
      "75%        179.000000\n",
      "max      16856.000000\n",
      "Name: FoodCourt, dtype: float64\n"
     ]
    }
   ],
   "source": [
    "print(\"Transported: \\n\" + \"-\" *50 + f\"\\n{train['FoodCourt'][train['Transported']==True].describe()}\")\n",
    "print()\n",
    "print(\"Not Transported: \\n\" + \"-\" *50 + f\"\\n{train['FoodCourt'][train['Transported']==False].describe()}\")"
   ]
  },
  {
   "cell_type": "code",
   "execution_count": 53,
   "metadata": {},
   "outputs": [
    {
     "data": {
      "image/png": "[encoded data removed]",
      "text/plain": [
       "<Figure size 720x432 with 1 Axes>"
      ]
     },
     "metadata": {
      "needs_background": "light"
     },
     "output_type": "display_data"
    }
   ],
   "source": [
    "fig, ax = plt.subplots(figsize=(10, 6))\n",
    "\n",
    "# Histogram for passengers who used room service and were transported\n",
    "ax.hist(train['FoodCourt'][train['Transported'] == True], bins=20, alpha=0.3, color='blue', label='Transported')\n",
    "\n",
    "# Histogram for passengers who used room service and were not transported\n",
    "ax.hist(train['FoodCourt'][train['Transported'] == False], bins=20, alpha=0.3, color='red', label='Not Transported')\n",
    "\n",
    "# Adding title and labels\n",
    "ax.set_title('FoodCourt Spending Distribution by Transportation Status')\n",
    "ax.set_xlabel('Food Court Spending')\n",
    "ax.set_ylabel('Count')\n",
    "ax.set_xlim(0, 6000)\n",
    "\n",
    "# Adding legend to distinguish the groups\n",
    "ax.legend()\n",
    "\n",
    "# Show the plot\n",
    "plt.show()"
   ]
  },
  {
   "cell_type": "code",
   "execution_count": 54,
   "metadata": {},
   "outputs": [
    {
     "data": {
      "text/plain": [
       "-0.01588893935923882"
      ]
     },
     "execution_count": 54,
     "metadata": {},
     "output_type": "execute_result"
    }
   ],
   "source": [
    "train['FoodCourt'].corr(train['RoomService'])"
   ]
  },
  {
   "cell_type": "code",
   "execution_count": 55,
   "metadata": {},
   "outputs": [
    {
     "data": {
      "text/plain": [
       "0.04656639376472207"
      ]
     },
     "execution_count": 55,
     "metadata": {},
     "output_type": "execute_result"
    }
   ],
   "source": [
    "train['FoodCourt'].corr(train['Transported'])"
   ]
  },
  {
   "cell_type": "code",
   "execution_count": 56,
   "metadata": {},
   "outputs": [
    {
     "name": "stdout",
     "output_type": "stream",
     "text": [
      "<class 'pandas.core.frame.DataFrame'>\n",
      "RangeIndex: 8693 entries, 0 to 8692\n",
      "Data columns (total 17 columns):\n",
      " #   Column        Non-Null Count  Dtype   \n",
      "---  ------        --------------  -----   \n",
      " 0   PassengerId   8693 non-null   object  \n",
      " 1   HomePlanet    8492 non-null   object  \n",
      " 2   CryoSleep     8476 non-null   object  \n",
      " 3   Destination   8511 non-null   object  \n",
      " 4   Age           8514 non-null   float64 \n",
      " 5   VIP           8490 non-null   object  \n",
      " 6   RoomService   8512 non-null   float64 \n",
      " 7   FoodCourt     8510 non-null   float64 \n",
      " 8   ShoppingMall  8485 non-null   float64 \n",
      " 9   Spa           8510 non-null   float64 \n",
      " 10  VRDeck        8505 non-null   float64 \n",
      " 11  Name          8493 non-null   object  \n",
      " 12  Transported   8693 non-null   bool    \n",
      " 13  CabDeck       8494 non-null   object  \n",
      " 14  CabNum        8693 non-null   Int64   \n",
      " 15  CabSide       8494 non-null   object  \n",
      " 16  CabNumBinned  8693 non-null   category\n",
      "dtypes: Int64(1), bool(1), category(1), float64(6), object(8)\n",
      "memory usage: 1.0+ MB\n"
     ]
    }
   ],
   "source": [
    "train.info()"
   ]
  },
  {
   "cell_type": "markdown",
   "metadata": {},
   "source": [
    "## ShoppingMall, Spa, VRDeck"
   ]
  },
  {
   "cell_type": "code",
   "execution_count": 57,
   "metadata": {},
   "outputs": [
    {
     "name": "stdout",
     "output_type": "stream",
     "text": [
      "Transported (ShoppingMall): \n",
      "--------------------------------------------------\n",
      "count     4264.000000\n",
      "mean       179.829972\n",
      "std        722.026714\n",
      "min          0.000000\n",
      "25%          0.000000\n",
      "50%          0.000000\n",
      "75%          0.000000\n",
      "max      23492.000000\n",
      "Name: ShoppingMall, dtype: float64\n",
      "\n",
      "Not Transported (ShoppingMall): \n",
      "--------------------------------------------------\n",
      "count     4221.000000\n",
      "mean       167.566217\n",
      "std        456.528126\n",
      "min          0.000000\n",
      "25%          0.000000\n",
      "50%          0.000000\n",
      "75%         95.000000\n",
      "max      10705.000000\n",
      "Name: ShoppingMall, dtype: float64\n"
     ]
    },
    {
     "data": {
      "image/png": "[encoded data removed]",
      "text/plain": [
       "<Figure size 720x432 with 1 Axes>"
      ]
     },
     "metadata": {
      "needs_background": "light"
     },
     "output_type": "display_data"
    },
    {
     "name": "stdout",
     "output_type": "stream",
     "text": [
      "Correlation between 'ShoppingMall' and 'Transported': 0.01014089002427716\n"
     ]
    }
   ],
   "source": [
    "print(\"Transported (ShoppingMall): \\n\" + \"-\" * 50 + f\"\\n{train['ShoppingMall'][train['Transported'] == True].describe()}\")\n",
    "print()\n",
    "print(\"Not Transported (ShoppingMall): \\n\" + \"-\" * 50 + f\"\\n{train['ShoppingMall'][train['Transported'] == False].describe()}\")\n",
    "\n",
    "fig, ax = plt.subplots(figsize=(10, 6))\n",
    "\n",
    "# Histogram for ShoppingMall spending by transportation status\n",
    "ax.hist(train['ShoppingMall'][train['Transported'] == True], bins=20, alpha=0.3, color='blue', label='Transported')\n",
    "ax.hist(train['ShoppingMall'][train['Transported'] == False], bins=20, alpha=0.3, color='red', label='Not Transported')\n",
    "\n",
    "ax.set_title('ShoppingMall Spending Distribution by Transportation Status')\n",
    "ax.set_xlabel('Shopping Mall Spending')\n",
    "ax.set_ylabel('Count')\n",
    "ax.set_xlim(0, 3000)\n",
    "ax.legend()\n",
    "plt.show()\n",
    "\n",
    "print(f\"Correlation between 'ShoppingMall' and 'Transported': {train['ShoppingMall'].corr(train['Transported'])}\")\n"
   ]
  },
  {
   "cell_type": "code",
   "execution_count": 58,
   "metadata": {},
   "outputs": [
    {
     "name": "stdout",
     "output_type": "stream",
     "text": [
      "Transported (Spa): \n",
      "--------------------------------------------------\n",
      "count    4287.000000\n",
      "mean       61.675531\n",
      "std       262.682871\n",
      "min         0.000000\n",
      "25%         0.000000\n",
      "50%         0.000000\n",
      "75%         0.000000\n",
      "max      4103.000000\n",
      "Name: Spa, dtype: float64\n",
      "\n",
      "Not Transported (Spa): \n",
      "--------------------------------------------------\n",
      "count     4223.000000\n",
      "mean       564.382666\n",
      "std       1551.356047\n",
      "min          0.000000\n",
      "25%          0.000000\n",
      "50%          4.000000\n",
      "75%        453.500000\n",
      "max      22408.000000\n",
      "Name: Spa, dtype: float64\n"
     ]
    },
    {
     "data": {
      "image/png": "[encoded data removed]",
      "text/plain": [
       "<Figure size 720x432 with 1 Axes>"
      ]
     },
     "metadata": {
      "needs_background": "light"
     },
     "output_type": "display_data"
    },
    {
     "name": "stdout",
     "output_type": "stream",
     "text": [
      "Correlation between 'Spa' and 'Transported': -0.22113134924572822\n"
     ]
    }
   ],
   "source": [
    "print(\"Transported (Spa): \\n\" + \"-\" * 50 + f\"\\n{train['Spa'][train['Transported'] == True].describe()}\")\n",
    "print()\n",
    "print(\"Not Transported (Spa): \\n\" + \"-\" * 50 + f\"\\n{train['Spa'][train['Transported'] == False].describe()}\")\n",
    "\n",
    "fig, ax = plt.subplots(figsize=(10, 6))\n",
    "\n",
    "# Histogram for Spa spending by transportation status\n",
    "ax.hist(train['Spa'][train['Transported'] == True], bins=20, alpha=0.3, color='blue', label='Transported')\n",
    "ax.hist(train['Spa'][train['Transported'] == False], bins=20, alpha=0.3, color='red', label='Not Transported')\n",
    "\n",
    "ax.set_title('Spa Spending Distribution by Transportation Status')\n",
    "ax.set_xlabel('Spa Spending')\n",
    "ax.set_ylabel('Count')\n",
    "ax.set_xlim(0, 6000)\n",
    "ax.legend()\n",
    "plt.show()\n",
    "\n",
    "print(f\"Correlation between 'Spa' and 'Transported': {train['Spa'].corr(train['Transported'])}\")"
   ]
  },
  {
   "cell_type": "code",
   "execution_count": 59,
   "metadata": {},
   "outputs": [
    {
     "name": "stdout",
     "output_type": "stream",
     "text": [
      "Transported (VRDeck): \n",
      "--------------------------------------------------\n",
      "count    4280.000000\n",
      "mean       69.148131\n",
      "std       291.658171\n",
      "min         0.000000\n",
      "25%         0.000000\n",
      "50%         0.000000\n",
      "75%         0.000000\n",
      "max      5063.000000\n",
      "Name: VRDeck, dtype: float64\n",
      "\n",
      "Not Transported (VRDeck): \n",
      "--------------------------------------------------\n",
      "count     4225.000000\n",
      "mean       543.629822\n",
      "std       1563.088368\n",
      "min          0.000000\n",
      "25%          0.000000\n",
      "50%          1.000000\n",
      "75%        388.000000\n",
      "max      24133.000000\n",
      "Name: VRDeck, dtype: float64\n"
     ]
    },
    {
     "data": {
      "image/png": "[encoded data removed]",
      "text/plain": [
       "<Figure size 720x432 with 1 Axes>"
      ]
     },
     "metadata": {
      "needs_background": "light"
     },
     "output_type": "display_data"
    },
    {
     "name": "stdout",
     "output_type": "stream",
     "text": [
      "Correlation between 'VRDeck' and 'Transported': -0.2070753895842899\n"
     ]
    }
   ],
   "source": [
    "print(\"Transported (VRDeck): \\n\" + \"-\" * 50 + f\"\\n{train['VRDeck'][train['Transported'] == True].describe()}\")\n",
    "print()\n",
    "print(\"Not Transported (VRDeck): \\n\" + \"-\" * 50 + f\"\\n{train['VRDeck'][train['Transported'] == False].describe()}\")\n",
    "\n",
    "fig, ax = plt.subplots(figsize=(10, 6))\n",
    "\n",
    "# Histogram for VRDeck spending by transportation status\n",
    "ax.hist(train['VRDeck'][train['Transported'] == True], bins=20, alpha=0.3, color='blue', label='Transported')\n",
    "ax.hist(train['VRDeck'][train['Transported'] == False], bins=20, alpha=0.3, color='red', label='Not Transported')\n",
    "\n",
    "ax.set_title('VRDeck Spending Distribution by Transportation Status')\n",
    "ax.set_xlabel('VRDeck Spending')\n",
    "ax.set_ylabel('Count')\n",
    "ax.set_xlim(0, 4000)\n",
    "ax.legend()\n",
    "plt.show()\n",
    "\n",
    "print(f\"Correlation between 'VRDeck' and 'Transported': {train['VRDeck'].corr(train['Transported'])}\")"
   ]
  },
  {
   "cell_type": "markdown",
   "metadata": {},
   "source": [
    "It seems that generally the more passengers spend, the less chance they have to be transported."
   ]
  },
  {
   "cell_type": "code",
   "execution_count": 60,
   "metadata": {},
   "outputs": [
    {
     "name": "stdout",
     "output_type": "stream",
     "text": [
      "<class 'pandas.core.frame.DataFrame'>\n",
      "RangeIndex: 8693 entries, 0 to 8692\n",
      "Data columns (total 17 columns):\n",
      " #   Column        Non-Null Count  Dtype   \n",
      "---  ------        --------------  -----   \n",
      " 0   PassengerId   8693 non-null   object  \n",
      " 1   HomePlanet    8492 non-null   object  \n",
      " 2   CryoSleep     8476 non-null   object  \n",
      " 3   Destination   8511 non-null   object  \n",
      " 4   Age           8514 non-null   float64 \n",
      " 5   VIP           8490 non-null   object  \n",
      " 6   RoomService   8512 non-null   float64 \n",
      " 7   FoodCourt     8510 non-null   float64 \n",
      " 8   ShoppingMall  8485 non-null   float64 \n",
      " 9   Spa           8510 non-null   float64 \n",
      " 10  VRDeck        8505 non-null   float64 \n",
      " 11  Name          8493 non-null   object  \n",
      " 12  Transported   8693 non-null   bool    \n",
      " 13  CabDeck       8494 non-null   object  \n",
      " 14  CabNum        8693 non-null   Int64   \n",
      " 15  CabSide       8494 non-null   object  \n",
      " 16  CabNumBinned  8693 non-null   category\n",
      "dtypes: Int64(1), bool(1), category(1), float64(6), object(8)\n",
      "memory usage: 1.0+ MB\n"
     ]
    }
   ],
   "source": [
    "train.info()"
   ]
  },
  {
   "cell_type": "code",
   "execution_count": 61,
   "metadata": {},
   "outputs": [
    {
     "data": {
      "text/html": [
       "<div>\n",
       "<style scoped>\n",
       "    .dataframe tbody tr th:only-of-type {\n",
       "        vertical-align: middle;\n",
       "    }\n",
       "\n",
       "    .dataframe tbody tr th {\n",
       "        vertical-align: top;\n",
       "    }\n",
       "\n",
       "    .dataframe thead th {\n",
       "        text-align: right;\n",
       "    }\n",
       "</style>\n",
       "<table border=\"1\" class=\"dataframe\">\n",
       "  <thead>\n",
       "    <tr style=\"text-align: right;\">\n",
       "      <th></th>\n",
       "      <th>PassengerId</th>\n",
       "      <th>HomePlanet</th>\n",
       "      <th>CryoSleep</th>\n",
       "      <th>Destination</th>\n",
       "      <th>Age</th>\n",
       "      <th>VIP</th>\n",
       "      <th>RoomService</th>\n",
       "      <th>FoodCourt</th>\n",
       "      <th>ShoppingMall</th>\n",
       "      <th>Spa</th>\n",
       "      <th>VRDeck</th>\n",
       "      <th>Name</th>\n",
       "      <th>Transported</th>\n",
       "      <th>CabDeck</th>\n",
       "      <th>CabNum</th>\n",
       "      <th>CabSide</th>\n",
       "      <th>CabNumBinned</th>\n",
       "    </tr>\n",
       "  </thead>\n",
       "  <tbody>\n",
       "    <tr>\n",
       "      <th>48</th>\n",
       "      <td>0050_01</td>\n",
       "      <td>Earth</td>\n",
       "      <td>False</td>\n",
       "      <td>55 Cancri e</td>\n",
       "      <td>35.0</td>\n",
       "      <td>False</td>\n",
       "      <td>790.0</td>\n",
       "      <td>0.0</td>\n",
       "      <td>0.0</td>\n",
       "      <td>NaN</td>\n",
       "      <td>0.0</td>\n",
       "      <td>Sony Lancis</td>\n",
       "      <td>False</td>\n",
       "      <td>E</td>\n",
       "      <td>1</td>\n",
       "      <td>S</td>\n",
       "      <td>1</td>\n",
       "    </tr>\n",
       "    <tr>\n",
       "      <th>143</th>\n",
       "      <td>0164_01</td>\n",
       "      <td>Earth</td>\n",
       "      <td>False</td>\n",
       "      <td>TRAPPIST-1e</td>\n",
       "      <td>57.0</td>\n",
       "      <td>False</td>\n",
       "      <td>50.0</td>\n",
       "      <td>1688.0</td>\n",
       "      <td>0.0</td>\n",
       "      <td>NaN</td>\n",
       "      <td>135.0</td>\n",
       "      <td>Fany Hutchinton</td>\n",
       "      <td>True</td>\n",
       "      <td>G</td>\n",
       "      <td>28</td>\n",
       "      <td>S</td>\n",
       "      <td>1</td>\n",
       "    </tr>\n",
       "    <tr>\n",
       "      <th>245</th>\n",
       "      <td>0265_01</td>\n",
       "      <td>Europa</td>\n",
       "      <td>True</td>\n",
       "      <td>TRAPPIST-1e</td>\n",
       "      <td>39.0</td>\n",
       "      <td>False</td>\n",
       "      <td>0.0</td>\n",
       "      <td>0.0</td>\n",
       "      <td>0.0</td>\n",
       "      <td>NaN</td>\n",
       "      <td>0.0</td>\n",
       "      <td>Etair Herpumble</td>\n",
       "      <td>True</td>\n",
       "      <td>D</td>\n",
       "      <td>8</td>\n",
       "      <td>S</td>\n",
       "      <td>1</td>\n",
       "    </tr>\n",
       "    <tr>\n",
       "      <th>269</th>\n",
       "      <td>0294_01</td>\n",
       "      <td>Europa</td>\n",
       "      <td>True</td>\n",
       "      <td>TRAPPIST-1e</td>\n",
       "      <td>50.0</td>\n",
       "      <td>False</td>\n",
       "      <td>0.0</td>\n",
       "      <td>0.0</td>\n",
       "      <td>0.0</td>\n",
       "      <td>NaN</td>\n",
       "      <td>0.0</td>\n",
       "      <td>Phonons Roforhauge</td>\n",
       "      <td>True</td>\n",
       "      <td>B</td>\n",
       "      <td>8</td>\n",
       "      <td>S</td>\n",
       "      <td>1</td>\n",
       "    </tr>\n",
       "    <tr>\n",
       "      <th>289</th>\n",
       "      <td>0320_01</td>\n",
       "      <td>Earth</td>\n",
       "      <td>False</td>\n",
       "      <td>TRAPPIST-1e</td>\n",
       "      <td>18.0</td>\n",
       "      <td>False</td>\n",
       "      <td>0.0</td>\n",
       "      <td>2.0</td>\n",
       "      <td>0.0</td>\n",
       "      <td>NaN</td>\n",
       "      <td>0.0</td>\n",
       "      <td>Breney Bellarkerd</td>\n",
       "      <td>False</td>\n",
       "      <td>G</td>\n",
       "      <td>44</td>\n",
       "      <td>S</td>\n",
       "      <td>1</td>\n",
       "    </tr>\n",
       "    <tr>\n",
       "      <th>431</th>\n",
       "      <td>0463_01</td>\n",
       "      <td>Mars</td>\n",
       "      <td>False</td>\n",
       "      <td>TRAPPIST-1e</td>\n",
       "      <td>34.0</td>\n",
       "      <td>False</td>\n",
       "      <td>865.0</td>\n",
       "      <td>0.0</td>\n",
       "      <td>257.0</td>\n",
       "      <td>NaN</td>\n",
       "      <td>35.0</td>\n",
       "      <td>Grats Staf</td>\n",
       "      <td>False</td>\n",
       "      <td>F</td>\n",
       "      <td>100</td>\n",
       "      <td>P</td>\n",
       "      <td>1</td>\n",
       "    </tr>\n",
       "    <tr>\n",
       "      <th>457</th>\n",
       "      <td>0498_02</td>\n",
       "      <td>Europa</td>\n",
       "      <td>True</td>\n",
       "      <td>55 Cancri e</td>\n",
       "      <td>46.0</td>\n",
       "      <td>False</td>\n",
       "      <td>0.0</td>\n",
       "      <td>0.0</td>\n",
       "      <td>0.0</td>\n",
       "      <td>NaN</td>\n",
       "      <td>0.0</td>\n",
       "      <td>Kastrak Preent</td>\n",
       "      <td>True</td>\n",
       "      <td>B</td>\n",
       "      <td>18</td>\n",
       "      <td>S</td>\n",
       "      <td>1</td>\n",
       "    </tr>\n",
       "    <tr>\n",
       "      <th>461</th>\n",
       "      <td>0501_01</td>\n",
       "      <td>Europa</td>\n",
       "      <td>False</td>\n",
       "      <td>TRAPPIST-1e</td>\n",
       "      <td>42.0</td>\n",
       "      <td>False</td>\n",
       "      <td>0.0</td>\n",
       "      <td>929.0</td>\n",
       "      <td>967.0</td>\n",
       "      <td>NaN</td>\n",
       "      <td>481.0</td>\n",
       "      <td>Hadirk Spedlybood</td>\n",
       "      <td>False</td>\n",
       "      <td>E</td>\n",
       "      <td>32</td>\n",
       "      <td>P</td>\n",
       "      <td>1</td>\n",
       "    </tr>\n",
       "    <tr>\n",
       "      <th>583</th>\n",
       "      <td>0607_02</td>\n",
       "      <td>Europa</td>\n",
       "      <td>False</td>\n",
       "      <td>55 Cancri e</td>\n",
       "      <td>44.0</td>\n",
       "      <td>False</td>\n",
       "      <td>434.0</td>\n",
       "      <td>3113.0</td>\n",
       "      <td>19.0</td>\n",
       "      <td>NaN</td>\n",
       "      <td>892.0</td>\n",
       "      <td>Mino Hontichre</td>\n",
       "      <td>False</td>\n",
       "      <td>C</td>\n",
       "      <td>22</td>\n",
       "      <td>P</td>\n",
       "      <td>1</td>\n",
       "    </tr>\n",
       "    <tr>\n",
       "      <th>590</th>\n",
       "      <td>0614_01</td>\n",
       "      <td>Earth</td>\n",
       "      <td>False</td>\n",
       "      <td>TRAPPIST-1e</td>\n",
       "      <td>34.0</td>\n",
       "      <td>False</td>\n",
       "      <td>0.0</td>\n",
       "      <td>0.0</td>\n",
       "      <td>0.0</td>\n",
       "      <td>NaN</td>\n",
       "      <td>0.0</td>\n",
       "      <td>Feline Carterson</td>\n",
       "      <td>True</td>\n",
       "      <td>G</td>\n",
       "      <td>91</td>\n",
       "      <td>S</td>\n",
       "      <td>1</td>\n",
       "    </tr>\n",
       "  </tbody>\n",
       "</table>\n",
       "</div>"
      ],
      "text/plain": [
       "    PassengerId HomePlanet CryoSleep  Destination   Age    VIP  RoomService  \\\n",
       "48      0050_01      Earth     False  55 Cancri e  35.0  False        790.0   \n",
       "143     0164_01      Earth     False  TRAPPIST-1e  57.0  False         50.0   \n",
       "245     0265_01     Europa      True  TRAPPIST-1e  39.0  False          0.0   \n",
       "269     0294_01     Europa      True  TRAPPIST-1e  50.0  False          0.0   \n",
       "289     0320_01      Earth     False  TRAPPIST-1e  18.0  False          0.0   \n",
       "431     0463_01       Mars     False  TRAPPIST-1e  34.0  False        865.0   \n",
       "457     0498_02     Europa      True  55 Cancri e  46.0  False          0.0   \n",
       "461     0501_01     Europa     False  TRAPPIST-1e  42.0  False          0.0   \n",
       "583     0607_02     Europa     False  55 Cancri e  44.0  False        434.0   \n",
       "590     0614_01      Earth     False  TRAPPIST-1e  34.0  False          0.0   \n",
       "\n",
       "     FoodCourt  ShoppingMall  Spa  VRDeck                Name  Transported  \\\n",
       "48         0.0           0.0  NaN     0.0         Sony Lancis        False   \n",
       "143     1688.0           0.0  NaN   135.0     Fany Hutchinton         True   \n",
       "245        0.0           0.0  NaN     0.0     Etair Herpumble         True   \n",
       "269        0.0           0.0  NaN     0.0  Phonons Roforhauge         True   \n",
       "289        2.0           0.0  NaN     0.0   Breney Bellarkerd        False   \n",
       "431        0.0         257.0  NaN    35.0          Grats Staf        False   \n",
       "457        0.0           0.0  NaN     0.0      Kastrak Preent         True   \n",
       "461      929.0         967.0  NaN   481.0   Hadirk Spedlybood        False   \n",
       "583     3113.0          19.0  NaN   892.0      Mino Hontichre        False   \n",
       "590        0.0           0.0  NaN     0.0    Feline Carterson         True   \n",
       "\n",
       "    CabDeck  CabNum CabSide CabNumBinned  \n",
       "48        E       1       S            1  \n",
       "143       G      28       S            1  \n",
       "245       D       8       S            1  \n",
       "269       B       8       S            1  \n",
       "289       G      44       S            1  \n",
       "431       F     100       P            1  \n",
       "457       B      18       S            1  \n",
       "461       E      32       P            1  \n",
       "583       C      22       P            1  \n",
       "590       G      91       S            1  "
      ]
     },
     "execution_count": 61,
     "metadata": {},
     "output_type": "execute_result"
    }
   ],
   "source": [
    "train[train['Spa'].isna()].head(10)"
   ]
  },
  {
   "cell_type": "markdown",
   "metadata": {},
   "source": [
    "## Name"
   ]
  },
  {
   "cell_type": "code",
   "execution_count": 62,
   "metadata": {},
   "outputs": [
    {
     "data": {
      "text/plain": [
       "0      Maham Ofracculy\n",
       "1         Juanna Vines\n",
       "2        Altark Susent\n",
       "3         Solam Susent\n",
       "4    Willy Santantines\n",
       "Name: Name, dtype: object"
      ]
     },
     "execution_count": 62,
     "metadata": {},
     "output_type": "execute_result"
    }
   ],
   "source": [
    "train['Name'].head()"
   ]
  },
  {
   "cell_type": "code",
   "execution_count": 63,
   "metadata": {},
   "outputs": [
    {
     "data": {
      "text/plain": [
       "8473"
      ]
     },
     "execution_count": 63,
     "metadata": {},
     "output_type": "execute_result"
    }
   ],
   "source": [
    "train['Name'].nunique()"
   ]
  },
  {
   "cell_type": "code",
   "execution_count": 64,
   "metadata": {},
   "outputs": [
    {
     "data": {
      "text/html": [
       "<div>\n",
       "<style scoped>\n",
       "    .dataframe tbody tr th:only-of-type {\n",
       "        vertical-align: middle;\n",
       "    }\n",
       "\n",
       "    .dataframe tbody tr th {\n",
       "        vertical-align: top;\n",
       "    }\n",
       "\n",
       "    .dataframe thead th {\n",
       "        text-align: right;\n",
       "    }\n",
       "</style>\n",
       "<table border=\"1\" class=\"dataframe\">\n",
       "  <thead>\n",
       "    <tr style=\"text-align: right;\">\n",
       "      <th></th>\n",
       "      <th>PassengerId</th>\n",
       "      <th>HomePlanet</th>\n",
       "      <th>CryoSleep</th>\n",
       "      <th>Destination</th>\n",
       "      <th>Age</th>\n",
       "      <th>VIP</th>\n",
       "      <th>RoomService</th>\n",
       "      <th>FoodCourt</th>\n",
       "      <th>ShoppingMall</th>\n",
       "      <th>Spa</th>\n",
       "      <th>VRDeck</th>\n",
       "      <th>Name</th>\n",
       "      <th>Transported</th>\n",
       "      <th>CabDeck</th>\n",
       "      <th>CabNum</th>\n",
       "      <th>CabSide</th>\n",
       "      <th>CabNumBinned</th>\n",
       "    </tr>\n",
       "  </thead>\n",
       "  <tbody>\n",
       "    <tr>\n",
       "      <th>27</th>\n",
       "      <td>0022_01</td>\n",
       "      <td>Mars</td>\n",
       "      <td>False</td>\n",
       "      <td>TRAPPIST-1e</td>\n",
       "      <td>21.0</td>\n",
       "      <td>False</td>\n",
       "      <td>980.0</td>\n",
       "      <td>2.0</td>\n",
       "      <td>69.0</td>\n",
       "      <td>0.0</td>\n",
       "      <td>0.0</td>\n",
       "      <td>NaN</td>\n",
       "      <td>False</td>\n",
       "      <td>D</td>\n",
       "      <td>0</td>\n",
       "      <td>P</td>\n",
       "      <td>1</td>\n",
       "    </tr>\n",
       "    <tr>\n",
       "      <th>58</th>\n",
       "      <td>0064_01</td>\n",
       "      <td>Mars</td>\n",
       "      <td>True</td>\n",
       "      <td>TRAPPIST-1e</td>\n",
       "      <td>15.0</td>\n",
       "      <td>False</td>\n",
       "      <td>0.0</td>\n",
       "      <td>0.0</td>\n",
       "      <td>0.0</td>\n",
       "      <td>0.0</td>\n",
       "      <td>0.0</td>\n",
       "      <td>NaN</td>\n",
       "      <td>True</td>\n",
       "      <td>F</td>\n",
       "      <td>14</td>\n",
       "      <td>S</td>\n",
       "      <td>1</td>\n",
       "    </tr>\n",
       "    <tr>\n",
       "      <th>65</th>\n",
       "      <td>0069_01</td>\n",
       "      <td>Earth</td>\n",
       "      <td>False</td>\n",
       "      <td>TRAPPIST-1e</td>\n",
       "      <td>42.0</td>\n",
       "      <td>False</td>\n",
       "      <td>887.0</td>\n",
       "      <td>0.0</td>\n",
       "      <td>9.0</td>\n",
       "      <td>6.0</td>\n",
       "      <td>0.0</td>\n",
       "      <td>NaN</td>\n",
       "      <td>True</td>\n",
       "      <td>F</td>\n",
       "      <td>16</td>\n",
       "      <td>S</td>\n",
       "      <td>1</td>\n",
       "    </tr>\n",
       "    <tr>\n",
       "      <th>77</th>\n",
       "      <td>0082_03</td>\n",
       "      <td>Mars</td>\n",
       "      <td>False</td>\n",
       "      <td>TRAPPIST-1e</td>\n",
       "      <td>8.0</td>\n",
       "      <td>False</td>\n",
       "      <td>0.0</td>\n",
       "      <td>0.0</td>\n",
       "      <td>0.0</td>\n",
       "      <td>0.0</td>\n",
       "      <td>0.0</td>\n",
       "      <td>NaN</td>\n",
       "      <td>True</td>\n",
       "      <td>F</td>\n",
       "      <td>16</td>\n",
       "      <td>P</td>\n",
       "      <td>1</td>\n",
       "    </tr>\n",
       "    <tr>\n",
       "      <th>101</th>\n",
       "      <td>0108_02</td>\n",
       "      <td>Earth</td>\n",
       "      <td>False</td>\n",
       "      <td>TRAPPIST-1e</td>\n",
       "      <td>31.0</td>\n",
       "      <td>False</td>\n",
       "      <td>562.0</td>\n",
       "      <td>0.0</td>\n",
       "      <td>326.0</td>\n",
       "      <td>0.0</td>\n",
       "      <td>0.0</td>\n",
       "      <td>NaN</td>\n",
       "      <td>False</td>\n",
       "      <td>G</td>\n",
       "      <td>19</td>\n",
       "      <td>S</td>\n",
       "      <td>1</td>\n",
       "    </tr>\n",
       "    <tr>\n",
       "      <th>126</th>\n",
       "      <td>0136_01</td>\n",
       "      <td>Earth</td>\n",
       "      <td>False</td>\n",
       "      <td>PSO J318.5-22</td>\n",
       "      <td>47.0</td>\n",
       "      <td>False</td>\n",
       "      <td>97.0</td>\n",
       "      <td>418.0</td>\n",
       "      <td>126.0</td>\n",
       "      <td>25.0</td>\n",
       "      <td>55.0</td>\n",
       "      <td>NaN</td>\n",
       "      <td>False</td>\n",
       "      <td>G</td>\n",
       "      <td>23</td>\n",
       "      <td>S</td>\n",
       "      <td>1</td>\n",
       "    </tr>\n",
       "    <tr>\n",
       "      <th>165</th>\n",
       "      <td>0190_01</td>\n",
       "      <td>Earth</td>\n",
       "      <td>True</td>\n",
       "      <td>55 Cancri e</td>\n",
       "      <td>11.0</td>\n",
       "      <td>False</td>\n",
       "      <td>0.0</td>\n",
       "      <td>0.0</td>\n",
       "      <td>0.0</td>\n",
       "      <td>0.0</td>\n",
       "      <td>0.0</td>\n",
       "      <td>NaN</td>\n",
       "      <td>False</td>\n",
       "      <td>G</td>\n",
       "      <td>32</td>\n",
       "      <td>S</td>\n",
       "      <td>1</td>\n",
       "    </tr>\n",
       "    <tr>\n",
       "      <th>297</th>\n",
       "      <td>0330_02</td>\n",
       "      <td>Europa</td>\n",
       "      <td>False</td>\n",
       "      <td>TRAPPIST-1e</td>\n",
       "      <td>32.0</td>\n",
       "      <td>False</td>\n",
       "      <td>247.0</td>\n",
       "      <td>4651.0</td>\n",
       "      <td>0.0</td>\n",
       "      <td>46.0</td>\n",
       "      <td>202.0</td>\n",
       "      <td>NaN</td>\n",
       "      <td>True</td>\n",
       "      <td>C</td>\n",
       "      <td>14</td>\n",
       "      <td>S</td>\n",
       "      <td>1</td>\n",
       "    </tr>\n",
       "    <tr>\n",
       "      <th>305</th>\n",
       "      <td>0337_03</td>\n",
       "      <td>Mars</td>\n",
       "      <td>False</td>\n",
       "      <td>55 Cancri e</td>\n",
       "      <td>0.0</td>\n",
       "      <td>False</td>\n",
       "      <td>0.0</td>\n",
       "      <td>0.0</td>\n",
       "      <td>0.0</td>\n",
       "      <td>0.0</td>\n",
       "      <td>0.0</td>\n",
       "      <td>NaN</td>\n",
       "      <td>True</td>\n",
       "      <td>F</td>\n",
       "      <td>63</td>\n",
       "      <td>S</td>\n",
       "      <td>1</td>\n",
       "    </tr>\n",
       "    <tr>\n",
       "      <th>331</th>\n",
       "      <td>0372_01</td>\n",
       "      <td>Earth</td>\n",
       "      <td>False</td>\n",
       "      <td>TRAPPIST-1e</td>\n",
       "      <td>24.0</td>\n",
       "      <td>False</td>\n",
       "      <td>0.0</td>\n",
       "      <td>5.0</td>\n",
       "      <td>0.0</td>\n",
       "      <td>2766.0</td>\n",
       "      <td>0.0</td>\n",
       "      <td>NaN</td>\n",
       "      <td>False</td>\n",
       "      <td>F</td>\n",
       "      <td>85</td>\n",
       "      <td>P</td>\n",
       "      <td>1</td>\n",
       "    </tr>\n",
       "  </tbody>\n",
       "</table>\n",
       "</div>"
      ],
      "text/plain": [
       "    PassengerId HomePlanet CryoSleep    Destination   Age    VIP  RoomService  \\\n",
       "27      0022_01       Mars     False    TRAPPIST-1e  21.0  False        980.0   \n",
       "58      0064_01       Mars      True    TRAPPIST-1e  15.0  False          0.0   \n",
       "65      0069_01      Earth     False    TRAPPIST-1e  42.0  False        887.0   \n",
       "77      0082_03       Mars     False    TRAPPIST-1e   8.0  False          0.0   \n",
       "101     0108_02      Earth     False    TRAPPIST-1e  31.0  False        562.0   \n",
       "126     0136_01      Earth     False  PSO J318.5-22  47.0  False         97.0   \n",
       "165     0190_01      Earth      True    55 Cancri e  11.0  False          0.0   \n",
       "297     0330_02     Europa     False    TRAPPIST-1e  32.0  False        247.0   \n",
       "305     0337_03       Mars     False    55 Cancri e   0.0  False          0.0   \n",
       "331     0372_01      Earth     False    TRAPPIST-1e  24.0  False          0.0   \n",
       "\n",
       "     FoodCourt  ShoppingMall     Spa  VRDeck Name  Transported CabDeck  \\\n",
       "27         2.0          69.0     0.0     0.0  NaN        False       D   \n",
       "58         0.0           0.0     0.0     0.0  NaN         True       F   \n",
       "65         0.0           9.0     6.0     0.0  NaN         True       F   \n",
       "77         0.0           0.0     0.0     0.0  NaN         True       F   \n",
       "101        0.0         326.0     0.0     0.0  NaN        False       G   \n",
       "126      418.0         126.0    25.0    55.0  NaN        False       G   \n",
       "165        0.0           0.0     0.0     0.0  NaN        False       G   \n",
       "297     4651.0           0.0    46.0   202.0  NaN         True       C   \n",
       "305        0.0           0.0     0.0     0.0  NaN         True       F   \n",
       "331        5.0           0.0  2766.0     0.0  NaN        False       F   \n",
       "\n",
       "     CabNum CabSide CabNumBinned  \n",
       "27        0       P            1  \n",
       "58       14       S            1  \n",
       "65       16       S            1  \n",
       "77       16       P            1  \n",
       "101      19       S            1  \n",
       "126      23       S            1  \n",
       "165      32       S            1  \n",
       "297      14       S            1  \n",
       "305      63       S            1  \n",
       "331      85       P            1  "
      ]
     },
     "execution_count": 64,
     "metadata": {},
     "output_type": "execute_result"
    }
   ],
   "source": [
    "train[train['Name'].isna()].head(10)"
   ]
  },
  {
   "cell_type": "code",
   "execution_count": 65,
   "metadata": {},
   "outputs": [
    {
     "data": {
      "text/plain": [
       "Series([], Name: count, dtype: int64)"
      ]
     },
     "execution_count": 65,
     "metadata": {},
     "output_type": "execute_result"
    }
   ],
   "source": [
    "train[train['Name'].isna()].groupby('Transported').value_counts()"
   ]
  },
  {
   "cell_type": "code",
   "execution_count": 66,
   "metadata": {},
   "outputs": [
    {
     "name": "stdout",
     "output_type": "stream",
     "text": [
      "Transported\n",
      "False    1\n",
      "True     6\n",
      "Name: Name, dtype: object\n"
     ]
    }
   ],
   "source": [
    "# Assuming 'Transported' is a column in the DataFrame\n",
    "# First, create a mask for names containing 'sir'\n",
    "contains_sir = train['Name'].str.lower().str.contains('sir')\n",
    "\n",
    "# Group this mask by the 'Transported' column and sum the True values in each group\n",
    "sir_counts_by_transport_status = contains_sir.groupby(train['Transported']).sum()\n",
    "\n",
    "print(sir_counts_by_transport_status)"
   ]
  },
  {
   "cell_type": "code",
   "execution_count": 67,
   "metadata": {},
   "outputs": [
    {
     "name": "stdout",
     "output_type": "stream",
     "text": [
      "Transported  False  True \n",
      "Title                    \n",
      "major            1      2\n",
      "none          4312   4368\n",
      "phd              1      2\n",
      "sir              1      6\n"
     ]
    }
   ],
   "source": [
    "# List of esteemed titles (maintained in lowercase for comparison)\n",
    "titles = ['mr.', 'mrs.', 'ms.', 'dr.', 'sir', 'lady', 'lord', 'prof.', 'captain', 'major', 'colonel', 'judge', 'rev.', 'hon.', 'phd']\n",
    "\n",
    "# Function to find title in name, case-insensitively\n",
    "def find_title(name):\n",
    "    # Check if 'name' is a string instance before conversion\n",
    "    if isinstance(name, str):\n",
    "        lower_name = name.lower()  # Convert name to lowercase\n",
    "        for title in titles:\n",
    "            if title in lower_name:  # Check presence in the lowercased name\n",
    "                return title\n",
    "    return 'none'  # Return 'none' if no title is found or if 'name' is not a string\n",
    "\n",
    "# Apply the function to create a new column\n",
    "train['Title'] = train['Name'].apply(find_title)\n",
    "\n",
    "# Group by Title and Transported\n",
    "status_by_title = train.groupby(['Title', 'Transported']).size().unstack(fill_value=0)\n",
    "\n",
    "print(status_by_title)"
   ]
  },
  {
   "cell_type": "markdown",
   "metadata": {},
   "source": [
    "# Data Processing"
   ]
  },
  {
   "cell_type": "code",
   "execution_count": 68,
   "metadata": {},
   "outputs": [
    {
     "name": "stdout",
     "output_type": "stream",
     "text": [
      "<class 'pandas.core.frame.DataFrame'>\n",
      "RangeIndex: 8693 entries, 0 to 8692\n",
      "Data columns (total 18 columns):\n",
      " #   Column        Non-Null Count  Dtype   \n",
      "---  ------        --------------  -----   \n",
      " 0   PassengerId   8693 non-null   object  \n",
      " 1   HomePlanet    8492 non-null   object  \n",
      " 2   CryoSleep     8476 non-null   object  \n",
      " 3   Destination   8511 non-null   object  \n",
      " 4   Age           8514 non-null   float64 \n",
      " 5   VIP           8490 non-null   object  \n",
      " 6   RoomService   8512 non-null   float64 \n",
      " 7   FoodCourt     8510 non-null   float64 \n",
      " 8   ShoppingMall  8485 non-null   float64 \n",
      " 9   Spa           8510 non-null   float64 \n",
      " 10  VRDeck        8505 non-null   float64 \n",
      " 11  Name          8493 non-null   object  \n",
      " 12  Transported   8693 non-null   bool    \n",
      " 13  CabDeck       8494 non-null   object  \n",
      " 14  CabNum        8693 non-null   Int64   \n",
      " 15  CabSide       8494 non-null   object  \n",
      " 16  CabNumBinned  8693 non-null   category\n",
      " 17  Title         8693 non-null   object  \n",
      "dtypes: Int64(1), bool(1), category(1), float64(6), object(9)\n",
      "memory usage: 1.1+ MB\n"
     ]
    }
   ],
   "source": [
    "# Fill in na vals\n",
    "train.info()"
   ]
  },
  {
   "cell_type": "code",
   "execution_count": 69,
   "metadata": {},
   "outputs": [
    {
     "data": {
      "text/plain": [
       "count      8492\n",
       "unique        3\n",
       "top       Earth\n",
       "freq       4602\n",
       "Name: HomePlanet, dtype: object"
      ]
     },
     "execution_count": 69,
     "metadata": {},
     "output_type": "execute_result"
    }
   ],
   "source": [
    "train['HomePlanet'].describe()"
   ]
  },
  {
   "cell_type": "code",
   "execution_count": 70,
   "metadata": {},
   "outputs": [
    {
     "data": {
      "text/plain": [
       "HomePlanet\n",
       "Earth     4602\n",
       "Europa    2131\n",
       "Mars      1759\n",
       "Name: count, dtype: int64"
      ]
     },
     "execution_count": 70,
     "metadata": {},
     "output_type": "execute_result"
    }
   ],
   "source": [
    "train['HomePlanet'].value_counts()"
   ]
  },
  {
   "cell_type": "code",
   "execution_count": 71,
   "metadata": {},
   "outputs": [
    {
     "name": "stdout",
     "output_type": "stream",
     "text": [
      "<class 'pandas.core.frame.DataFrame'>\n",
      "RangeIndex: 8693 entries, 0 to 8692\n",
      "Data columns (total 18 columns):\n",
      " #   Column        Non-Null Count  Dtype   \n",
      "---  ------        --------------  -----   \n",
      " 0   PassengerId   8693 non-null   object  \n",
      " 1   HomePlanet    8693 non-null   object  \n",
      " 2   CryoSleep     8476 non-null   object  \n",
      " 3   Destination   8511 non-null   object  \n",
      " 4   Age           8514 non-null   float64 \n",
      " 5   VIP           8490 non-null   object  \n",
      " 6   RoomService   8512 non-null   float64 \n",
      " 7   FoodCourt     8510 non-null   float64 \n",
      " 8   ShoppingMall  8485 non-null   float64 \n",
      " 9   Spa           8510 non-null   float64 \n",
      " 10  VRDeck        8505 non-null   float64 \n",
      " 11  Name          8493 non-null   object  \n",
      " 12  Transported   8693 non-null   bool    \n",
      " 13  CabDeck       8494 non-null   object  \n",
      " 14  CabNum        8693 non-null   Int64   \n",
      " 15  CabSide       8494 non-null   object  \n",
      " 16  CabNumBinned  8693 non-null   category\n",
      " 17  Title         8693 non-null   object  \n",
      "dtypes: Int64(1), bool(1), category(1), float64(6), object(9)\n",
      "memory usage: 1.1+ MB\n"
     ]
    }
   ],
   "source": [
    "train['HomePlanet'].fillna('Earth', inplace=True)\n",
    "train.info()"
   ]
  },
  {
   "cell_type": "code",
   "execution_count": 72,
   "metadata": {},
   "outputs": [
    {
     "data": {
      "text/plain": [
       "HomePlanet\n",
       "Earth     4803\n",
       "Europa    2131\n",
       "Mars      1759\n",
       "Name: count, dtype: int64"
      ]
     },
     "execution_count": 72,
     "metadata": {},
     "output_type": "execute_result"
    }
   ],
   "source": [
    "train['HomePlanet'].value_counts()"
   ]
  },
  {
   "cell_type": "code",
   "execution_count": 73,
   "metadata": {},
   "outputs": [
    {
     "data": {
      "text/html": [
       "<div>\n",
       "<style scoped>\n",
       "    .dataframe tbody tr th:only-of-type {\n",
       "        vertical-align: middle;\n",
       "    }\n",
       "\n",
       "    .dataframe tbody tr th {\n",
       "        vertical-align: top;\n",
       "    }\n",
       "\n",
       "    .dataframe thead th {\n",
       "        text-align: right;\n",
       "    }\n",
       "</style>\n",
       "<table border=\"1\" class=\"dataframe\">\n",
       "  <thead>\n",
       "    <tr style=\"text-align: right;\">\n",
       "      <th></th>\n",
       "      <th>PassengerId</th>\n",
       "      <th>HomePlanet</th>\n",
       "      <th>CryoSleep</th>\n",
       "      <th>Destination</th>\n",
       "      <th>Age</th>\n",
       "      <th>VIP</th>\n",
       "      <th>RoomService</th>\n",
       "      <th>FoodCourt</th>\n",
       "      <th>ShoppingMall</th>\n",
       "      <th>Spa</th>\n",
       "      <th>VRDeck</th>\n",
       "      <th>Name</th>\n",
       "      <th>Transported</th>\n",
       "      <th>CabDeck</th>\n",
       "      <th>CabNum</th>\n",
       "      <th>CabSide</th>\n",
       "      <th>CabNumBinned</th>\n",
       "      <th>Title</th>\n",
       "    </tr>\n",
       "  </thead>\n",
       "  <tbody>\n",
       "    <tr>\n",
       "      <th>92</th>\n",
       "      <td>0099_02</td>\n",
       "      <td>Earth</td>\n",
       "      <td>NaN</td>\n",
       "      <td>TRAPPIST-1e</td>\n",
       "      <td>2.0</td>\n",
       "      <td>False</td>\n",
       "      <td>0.0</td>\n",
       "      <td>0.0</td>\n",
       "      <td>0.0</td>\n",
       "      <td>0.0</td>\n",
       "      <td>0.0</td>\n",
       "      <td>Thewis Connelson</td>\n",
       "      <td>True</td>\n",
       "      <td>G</td>\n",
       "      <td>12</td>\n",
       "      <td>P</td>\n",
       "      <td>1</td>\n",
       "      <td>none</td>\n",
       "    </tr>\n",
       "    <tr>\n",
       "      <th>98</th>\n",
       "      <td>0105_01</td>\n",
       "      <td>Earth</td>\n",
       "      <td>NaN</td>\n",
       "      <td>TRAPPIST-1e</td>\n",
       "      <td>27.0</td>\n",
       "      <td>False</td>\n",
       "      <td>0.0</td>\n",
       "      <td>0.0</td>\n",
       "      <td>570.0</td>\n",
       "      <td>2.0</td>\n",
       "      <td>131.0</td>\n",
       "      <td>Carry Cleachrand</td>\n",
       "      <td>False</td>\n",
       "      <td>F</td>\n",
       "      <td>21</td>\n",
       "      <td>P</td>\n",
       "      <td>1</td>\n",
       "      <td>none</td>\n",
       "    </tr>\n",
       "    <tr>\n",
       "      <th>104</th>\n",
       "      <td>0110_02</td>\n",
       "      <td>Europa</td>\n",
       "      <td>NaN</td>\n",
       "      <td>TRAPPIST-1e</td>\n",
       "      <td>40.0</td>\n",
       "      <td>False</td>\n",
       "      <td>0.0</td>\n",
       "      <td>331.0</td>\n",
       "      <td>0.0</td>\n",
       "      <td>0.0</td>\n",
       "      <td>1687.0</td>\n",
       "      <td>Aldeba Bootious</td>\n",
       "      <td>False</td>\n",
       "      <td>B</td>\n",
       "      <td>5</td>\n",
       "      <td>P</td>\n",
       "      <td>1</td>\n",
       "      <td>none</td>\n",
       "    </tr>\n",
       "    <tr>\n",
       "      <th>111</th>\n",
       "      <td>0115_01</td>\n",
       "      <td>Mars</td>\n",
       "      <td>NaN</td>\n",
       "      <td>TRAPPIST-1e</td>\n",
       "      <td>26.0</td>\n",
       "      <td>False</td>\n",
       "      <td>0.0</td>\n",
       "      <td>0.0</td>\n",
       "      <td>0.0</td>\n",
       "      <td>0.0</td>\n",
       "      <td>NaN</td>\n",
       "      <td>Rohs Pead</td>\n",
       "      <td>True</td>\n",
       "      <td>F</td>\n",
       "      <td>24</td>\n",
       "      <td>P</td>\n",
       "      <td>1</td>\n",
       "      <td>none</td>\n",
       "    </tr>\n",
       "    <tr>\n",
       "      <th>152</th>\n",
       "      <td>0173_01</td>\n",
       "      <td>Earth</td>\n",
       "      <td>NaN</td>\n",
       "      <td>TRAPPIST-1e</td>\n",
       "      <td>58.0</td>\n",
       "      <td>False</td>\n",
       "      <td>0.0</td>\n",
       "      <td>985.0</td>\n",
       "      <td>0.0</td>\n",
       "      <td>5.0</td>\n",
       "      <td>0.0</td>\n",
       "      <td>Hilip Grifford</td>\n",
       "      <td>True</td>\n",
       "      <td>E</td>\n",
       "      <td>11</td>\n",
       "      <td>S</td>\n",
       "      <td>1</td>\n",
       "      <td>none</td>\n",
       "    </tr>\n",
       "    <tr>\n",
       "      <th>175</th>\n",
       "      <td>0198_01</td>\n",
       "      <td>Earth</td>\n",
       "      <td>NaN</td>\n",
       "      <td>PSO J318.5-22</td>\n",
       "      <td>52.0</td>\n",
       "      <td>False</td>\n",
       "      <td>0.0</td>\n",
       "      <td>0.0</td>\n",
       "      <td>0.0</td>\n",
       "      <td>0.0</td>\n",
       "      <td>0.0</td>\n",
       "      <td>Jeroy Cookson</td>\n",
       "      <td>True</td>\n",
       "      <td>G</td>\n",
       "      <td>30</td>\n",
       "      <td>P</td>\n",
       "      <td>1</td>\n",
       "      <td>none</td>\n",
       "    </tr>\n",
       "    <tr>\n",
       "      <th>224</th>\n",
       "      <td>0241_01</td>\n",
       "      <td>Europa</td>\n",
       "      <td>NaN</td>\n",
       "      <td>55 Cancri e</td>\n",
       "      <td>33.0</td>\n",
       "      <td>False</td>\n",
       "      <td>0.0</td>\n",
       "      <td>1249.0</td>\n",
       "      <td>0.0</td>\n",
       "      <td>4812.0</td>\n",
       "      <td>1116.0</td>\n",
       "      <td>Alas Dischod</td>\n",
       "      <td>False</td>\n",
       "      <td>E</td>\n",
       "      <td>11</td>\n",
       "      <td>P</td>\n",
       "      <td>1</td>\n",
       "      <td>none</td>\n",
       "    </tr>\n",
       "    <tr>\n",
       "      <th>266</th>\n",
       "      <td>0290_03</td>\n",
       "      <td>Europa</td>\n",
       "      <td>NaN</td>\n",
       "      <td>TRAPPIST-1e</td>\n",
       "      <td>43.0</td>\n",
       "      <td>False</td>\n",
       "      <td>0.0</td>\n",
       "      <td>0.0</td>\n",
       "      <td>0.0</td>\n",
       "      <td>0.0</td>\n",
       "      <td>0.0</td>\n",
       "      <td>Dhenar Excialing</td>\n",
       "      <td>True</td>\n",
       "      <td>B</td>\n",
       "      <td>7</td>\n",
       "      <td>S</td>\n",
       "      <td>1</td>\n",
       "      <td>none</td>\n",
       "    </tr>\n",
       "    <tr>\n",
       "      <th>314</th>\n",
       "      <td>0348_02</td>\n",
       "      <td>Mars</td>\n",
       "      <td>NaN</td>\n",
       "      <td>TRAPPIST-1e</td>\n",
       "      <td>36.0</td>\n",
       "      <td>False</td>\n",
       "      <td>520.0</td>\n",
       "      <td>0.0</td>\n",
       "      <td>1865.0</td>\n",
       "      <td>0.0</td>\n",
       "      <td>0.0</td>\n",
       "      <td>Weet Mane</td>\n",
       "      <td>True</td>\n",
       "      <td>NaN</td>\n",
       "      <td>427</td>\n",
       "      <td>NaN</td>\n",
       "      <td>3</td>\n",
       "      <td>none</td>\n",
       "    </tr>\n",
       "    <tr>\n",
       "      <th>392</th>\n",
       "      <td>0433_01</td>\n",
       "      <td>Europa</td>\n",
       "      <td>NaN</td>\n",
       "      <td>55 Cancri e</td>\n",
       "      <td>27.0</td>\n",
       "      <td>False</td>\n",
       "      <td>0.0</td>\n",
       "      <td>0.0</td>\n",
       "      <td>0.0</td>\n",
       "      <td>0.0</td>\n",
       "      <td>0.0</td>\n",
       "      <td>Hekark Mormonized</td>\n",
       "      <td>True</td>\n",
       "      <td>B</td>\n",
       "      <td>20</td>\n",
       "      <td>P</td>\n",
       "      <td>1</td>\n",
       "      <td>none</td>\n",
       "    </tr>\n",
       "  </tbody>\n",
       "</table>\n",
       "</div>"
      ],
      "text/plain": [
       "    PassengerId HomePlanet CryoSleep    Destination   Age    VIP  RoomService  \\\n",
       "92      0099_02      Earth       NaN    TRAPPIST-1e   2.0  False          0.0   \n",
       "98      0105_01      Earth       NaN    TRAPPIST-1e  27.0  False          0.0   \n",
       "104     0110_02     Europa       NaN    TRAPPIST-1e  40.0  False          0.0   \n",
       "111     0115_01       Mars       NaN    TRAPPIST-1e  26.0  False          0.0   \n",
       "152     0173_01      Earth       NaN    TRAPPIST-1e  58.0  False          0.0   \n",
       "175     0198_01      Earth       NaN  PSO J318.5-22  52.0  False          0.0   \n",
       "224     0241_01     Europa       NaN    55 Cancri e  33.0  False          0.0   \n",
       "266     0290_03     Europa       NaN    TRAPPIST-1e  43.0  False          0.0   \n",
       "314     0348_02       Mars       NaN    TRAPPIST-1e  36.0  False        520.0   \n",
       "392     0433_01     Europa       NaN    55 Cancri e  27.0  False          0.0   \n",
       "\n",
       "     FoodCourt  ShoppingMall     Spa  VRDeck               Name  Transported  \\\n",
       "92         0.0           0.0     0.0     0.0   Thewis Connelson         True   \n",
       "98         0.0         570.0     2.0   131.0   Carry Cleachrand        False   \n",
       "104      331.0           0.0     0.0  1687.0    Aldeba Bootious        False   \n",
       "111        0.0           0.0     0.0     NaN          Rohs Pead         True   \n",
       "152      985.0           0.0     5.0     0.0     Hilip Grifford         True   \n",
       "175        0.0           0.0     0.0     0.0      Jeroy Cookson         True   \n",
       "224     1249.0           0.0  4812.0  1116.0       Alas Dischod        False   \n",
       "266        0.0           0.0     0.0     0.0   Dhenar Excialing         True   \n",
       "314        0.0        1865.0     0.0     0.0          Weet Mane         True   \n",
       "392        0.0           0.0     0.0     0.0  Hekark Mormonized         True   \n",
       "\n",
       "    CabDeck  CabNum CabSide CabNumBinned Title  \n",
       "92        G      12       P            1  none  \n",
       "98        F      21       P            1  none  \n",
       "104       B       5       P            1  none  \n",
       "111       F      24       P            1  none  \n",
       "152       E      11       S            1  none  \n",
       "175       G      30       P            1  none  \n",
       "224       E      11       P            1  none  \n",
       "266       B       7       S            1  none  \n",
       "314     NaN     427     NaN            3  none  \n",
       "392       B      20       P            1  none  "
      ]
     },
     "execution_count": 73,
     "metadata": {},
     "output_type": "execute_result"
    }
   ],
   "source": [
    "train[train['CryoSleep'].isna()].head(10)"
   ]
  },
  {
   "cell_type": "code",
   "execution_count": 74,
   "metadata": {},
   "outputs": [
    {
     "data": {
      "text/plain": [
       "count      8476\n",
       "unique        2\n",
       "top       False\n",
       "freq       5439\n",
       "Name: CryoSleep, dtype: object"
      ]
     },
     "execution_count": 74,
     "metadata": {},
     "output_type": "execute_result"
    }
   ],
   "source": [
    "train['CryoSleep'].describe()"
   ]
  },
  {
   "cell_type": "code",
   "execution_count": 75,
   "metadata": {},
   "outputs": [
    {
     "name": "stdout",
     "output_type": "stream",
     "text": [
      "<class 'pandas.core.frame.DataFrame'>\n",
      "RangeIndex: 8693 entries, 0 to 8692\n",
      "Data columns (total 18 columns):\n",
      " #   Column        Non-Null Count  Dtype   \n",
      "---  ------        --------------  -----   \n",
      " 0   PassengerId   8693 non-null   object  \n",
      " 1   HomePlanet    8693 non-null   object  \n",
      " 2   CryoSleep     8693 non-null   bool    \n",
      " 3   Destination   8511 non-null   object  \n",
      " 4   Age           8514 non-null   float64 \n",
      " 5   VIP           8490 non-null   object  \n",
      " 6   RoomService   8512 non-null   float64 \n",
      " 7   FoodCourt     8510 non-null   float64 \n",
      " 8   ShoppingMall  8485 non-null   float64 \n",
      " 9   Spa           8510 non-null   float64 \n",
      " 10  VRDeck        8505 non-null   float64 \n",
      " 11  Name          8493 non-null   object  \n",
      " 12  Transported   8693 non-null   bool    \n",
      " 13  CabDeck       8494 non-null   object  \n",
      " 14  CabNum        8693 non-null   Int64   \n",
      " 15  CabSide       8494 non-null   object  \n",
      " 16  CabNumBinned  8693 non-null   category\n",
      " 17  Title         8693 non-null   object  \n",
      "dtypes: Int64(1), bool(2), category(1), float64(6), object(8)\n",
      "memory usage: 1.0+ MB\n"
     ]
    }
   ],
   "source": [
    "train['CryoSleep'].fillna(train.CryoSleep.mode()[0], inplace=True)\n",
    "train.info()"
   ]
  },
  {
   "cell_type": "code",
   "execution_count": 76,
   "metadata": {},
   "outputs": [
    {
     "data": {
      "text/plain": [
       "CryoSleep\n",
       "False    5656\n",
       "True     3037\n",
       "Name: count, dtype: int64"
      ]
     },
     "execution_count": 76,
     "metadata": {},
     "output_type": "execute_result"
    }
   ],
   "source": [
    "train['CryoSleep'].value_counts()"
   ]
  },
  {
   "cell_type": "code",
   "execution_count": 77,
   "metadata": {},
   "outputs": [
    {
     "data": {
      "text/plain": [
       "Destination\n",
       "TRAPPIST-1e      5915\n",
       "55 Cancri e      1800\n",
       "PSO J318.5-22     796\n",
       "Name: count, dtype: int64"
      ]
     },
     "execution_count": 77,
     "metadata": {},
     "output_type": "execute_result"
    }
   ],
   "source": [
    "train['Destination'].value_counts()"
   ]
  },
  {
   "cell_type": "code",
   "execution_count": 78,
   "metadata": {},
   "outputs": [
    {
     "name": "stdout",
     "output_type": "stream",
     "text": [
      "<class 'pandas.core.frame.DataFrame'>\n",
      "RangeIndex: 8693 entries, 0 to 8692\n",
      "Data columns (total 18 columns):\n",
      " #   Column        Non-Null Count  Dtype   \n",
      "---  ------        --------------  -----   \n",
      " 0   PassengerId   8693 non-null   object  \n",
      " 1   HomePlanet    8693 non-null   object  \n",
      " 2   CryoSleep     8693 non-null   bool    \n",
      " 3   Destination   8693 non-null   object  \n",
      " 4   Age           8514 non-null   float64 \n",
      " 5   VIP           8490 non-null   object  \n",
      " 6   RoomService   8512 non-null   float64 \n",
      " 7   FoodCourt     8510 non-null   float64 \n",
      " 8   ShoppingMall  8485 non-null   float64 \n",
      " 9   Spa           8510 non-null   float64 \n",
      " 10  VRDeck        8505 non-null   float64 \n",
      " 11  Name          8493 non-null   object  \n",
      " 12  Transported   8693 non-null   bool    \n",
      " 13  CabDeck       8494 non-null   object  \n",
      " 14  CabNum        8693 non-null   Int64   \n",
      " 15  CabSide       8494 non-null   object  \n",
      " 16  CabNumBinned  8693 non-null   category\n",
      " 17  Title         8693 non-null   object  \n",
      "dtypes: Int64(1), bool(2), category(1), float64(6), object(8)\n",
      "memory usage: 1.0+ MB\n"
     ]
    }
   ],
   "source": [
    "train['Destination'].fillna(train.Destination.mode()[0], inplace=True)\n",
    "train.info()"
   ]
  },
  {
   "cell_type": "code",
   "execution_count": 79,
   "metadata": {},
   "outputs": [
    {
     "name": "stdout",
     "output_type": "stream",
     "text": [
      "<class 'pandas.core.frame.DataFrame'>\n",
      "RangeIndex: 8693 entries, 0 to 8692\n",
      "Data columns (total 18 columns):\n",
      " #   Column        Non-Null Count  Dtype   \n",
      "---  ------        --------------  -----   \n",
      " 0   PassengerId   8693 non-null   object  \n",
      " 1   HomePlanet    8693 non-null   object  \n",
      " 2   CryoSleep     8693 non-null   bool    \n",
      " 3   Destination   8693 non-null   object  \n",
      " 4   Age           8693 non-null   float64 \n",
      " 5   VIP           8490 non-null   object  \n",
      " 6   RoomService   8512 non-null   float64 \n",
      " 7   FoodCourt     8510 non-null   float64 \n",
      " 8   ShoppingMall  8485 non-null   float64 \n",
      " 9   Spa           8510 non-null   float64 \n",
      " 10  VRDeck        8505 non-null   float64 \n",
      " 11  Name          8493 non-null   object  \n",
      " 12  Transported   8693 non-null   bool    \n",
      " 13  CabDeck       8494 non-null   object  \n",
      " 14  CabNum        8693 non-null   Int64   \n",
      " 15  CabSide       8494 non-null   object  \n",
      " 16  CabNumBinned  8693 non-null   category\n",
      " 17  Title         8693 non-null   object  \n",
      "dtypes: Int64(1), bool(2), category(1), float64(6), object(8)\n",
      "memory usage: 1.0+ MB\n"
     ]
    }
   ],
   "source": [
    "train['Age'].fillna(train.Age.median(), inplace=True)\n",
    "train.info()"
   ]
  },
  {
   "cell_type": "code",
   "execution_count": 80,
   "metadata": {},
   "outputs": [
    {
     "data": {
      "text/plain": [
       "VIP\n",
       "False    8291\n",
       "True      199\n",
       "Name: count, dtype: int64"
      ]
     },
     "execution_count": 80,
     "metadata": {},
     "output_type": "execute_result"
    }
   ],
   "source": [
    "train['VIP'].value_counts()"
   ]
  },
  {
   "cell_type": "code",
   "execution_count": 81,
   "metadata": {},
   "outputs": [
    {
     "name": "stdout",
     "output_type": "stream",
     "text": [
      "<class 'pandas.core.frame.DataFrame'>\n",
      "RangeIndex: 8693 entries, 0 to 8692\n",
      "Data columns (total 18 columns):\n",
      " #   Column        Non-Null Count  Dtype   \n",
      "---  ------        --------------  -----   \n",
      " 0   PassengerId   8693 non-null   object  \n",
      " 1   HomePlanet    8693 non-null   object  \n",
      " 2   CryoSleep     8693 non-null   bool    \n",
      " 3   Destination   8693 non-null   object  \n",
      " 4   Age           8693 non-null   float64 \n",
      " 5   VIP           8693 non-null   bool    \n",
      " 6   RoomService   8512 non-null   float64 \n",
      " 7   FoodCourt     8510 non-null   float64 \n",
      " 8   ShoppingMall  8485 non-null   float64 \n",
      " 9   Spa           8510 non-null   float64 \n",
      " 10  VRDeck        8505 non-null   float64 \n",
      " 11  Name          8493 non-null   object  \n",
      " 12  Transported   8693 non-null   bool    \n",
      " 13  CabDeck       8494 non-null   object  \n",
      " 14  CabNum        8693 non-null   Int64   \n",
      " 15  CabSide       8494 non-null   object  \n",
      " 16  CabNumBinned  8693 non-null   category\n",
      " 17  Title         8693 non-null   object  \n",
      "dtypes: Int64(1), bool(3), category(1), float64(6), object(7)\n",
      "memory usage: 993.6+ KB\n"
     ]
    }
   ],
   "source": [
    "train['VIP'].fillna(train.VIP.mode()[0], inplace=True)\n",
    "train.info()"
   ]
  },
  {
   "cell_type": "code",
   "execution_count": 82,
   "metadata": {},
   "outputs": [
    {
     "name": "stdout",
     "output_type": "stream",
     "text": [
      "<class 'pandas.core.frame.DataFrame'>\n",
      "RangeIndex: 8693 entries, 0 to 8692\n",
      "Data columns (total 18 columns):\n",
      " #   Column        Non-Null Count  Dtype   \n",
      "---  ------        --------------  -----   \n",
      " 0   PassengerId   8693 non-null   object  \n",
      " 1   HomePlanet    8693 non-null   object  \n",
      " 2   CryoSleep     8693 non-null   bool    \n",
      " 3   Destination   8693 non-null   object  \n",
      " 4   Age           8693 non-null   float64 \n",
      " 5   VIP           8693 non-null   bool    \n",
      " 6   RoomService   8693 non-null   float64 \n",
      " 7   FoodCourt     8693 non-null   float64 \n",
      " 8   ShoppingMall  8693 non-null   float64 \n",
      " 9   Spa           8693 non-null   float64 \n",
      " 10  VRDeck        8693 non-null   float64 \n",
      " 11  Name          8493 non-null   object  \n",
      " 12  Transported   8693 non-null   bool    \n",
      " 13  CabDeck       8494 non-null   object  \n",
      " 14  CabNum        8693 non-null   Int64   \n",
      " 15  CabSide       8494 non-null   object  \n",
      " 16  CabNumBinned  8693 non-null   category\n",
      " 17  Title         8693 non-null   object  \n",
      "dtypes: Int64(1), bool(3), category(1), float64(6), object(7)\n",
      "memory usage: 993.6+ KB\n",
      "None\n"
     ]
    }
   ],
   "source": [
    "columns_to_fill = ['RoomService', 'FoodCourt', 'ShoppingMall', 'Spa', 'VRDeck']\n",
    "\n",
    "# Loop through each column and fill missing values with the median of that column\n",
    "for column in columns_to_fill:\n",
    "    median_value = train[column].median()\n",
    "    train[column].fillna(median_value, inplace=True)\n",
    "\n",
    "# Check the results\n",
    "print(train.info())"
   ]
  },
  {
   "cell_type": "code",
   "execution_count": 83,
   "metadata": {},
   "outputs": [
    {
     "data": {
      "text/plain": [
       "0         Maham Ofracculy\n",
       "1            Juanna Vines\n",
       "2           Altark Susent\n",
       "3            Solam Susent\n",
       "4       Willy Santantines\n",
       "              ...        \n",
       "8688    Gravior Noxnuther\n",
       "8689      Kurta Mondalley\n",
       "8690         Fayey Connon\n",
       "8691     Celeon Hontichre\n",
       "8692     Propsh Hontichre\n",
       "Name: Name, Length: 8693, dtype: object"
      ]
     },
     "execution_count": 83,
     "metadata": {},
     "output_type": "execute_result"
    }
   ],
   "source": [
    "train['Name']"
   ]
  },
  {
   "cell_type": "code",
   "execution_count": 84,
   "metadata": {},
   "outputs": [],
   "source": [
    "# Step 1: Extract last names, handling NaN values\n",
    "train['LastName'] = train['Name'].apply(lambda x: x.split(' ')[1] if pd.notna(x) else 'Unknown')\n",
    "\n",
    "# Step 2: Count each last name in the dataset\n",
    "lastname_counts = train['LastName'].value_counts()\n",
    "\n",
    "# Step 3: Assign family member count to a new column\n",
    "# Since 'Unknown' might artificially inflate counts, we handle it separately if necessary\n",
    "train['FamilySize'] = train['LastName'].apply(lambda x: lastname_counts[x] - 1 if x != 'Unknown' else 0)\n"
   ]
  },
  {
   "cell_type": "code",
   "execution_count": 85,
   "metadata": {},
   "outputs": [
    {
     "data": {
      "text/plain": [
       "FamilySize  Transported\n",
       "0           True           324\n",
       "            False          258\n",
       "1           False          405\n",
       "            True           395\n",
       "2           True           622\n",
       "            False          542\n",
       "3           True           645\n",
       "            False          635\n",
       "4           True           652\n",
       "            False          628\n",
       "5           False          520\n",
       "            True           518\n",
       "6           False          432\n",
       "            True           401\n",
       "7           False          297\n",
       "            True           247\n",
       "8           False          163\n",
       "            True           152\n",
       "9           True           153\n",
       "            False          147\n",
       "10          True           139\n",
       "            False          136\n",
       "11          False           48\n",
       "            True            36\n",
       "12          False           42\n",
       "            True            36\n",
       "13          False           29\n",
       "            True            27\n",
       "14          True            18\n",
       "            False           12\n",
       "15          False           10\n",
       "            True             6\n",
       "17          False           11\n",
       "            True             7\n",
       "Name: count, dtype: int64"
      ]
     },
     "execution_count": 85,
     "metadata": {},
     "output_type": "execute_result"
    }
   ],
   "source": [
    "train.groupby('FamilySize')['Transported'].value_counts()"
   ]
  },
  {
   "cell_type": "code",
   "execution_count": 86,
   "metadata": {},
   "outputs": [
    {
     "data": {
      "text/html": [
       "<div>\n",
       "<style scoped>\n",
       "    .dataframe tbody tr th:only-of-type {\n",
       "        vertical-align: middle;\n",
       "    }\n",
       "\n",
       "    .dataframe tbody tr th {\n",
       "        vertical-align: top;\n",
       "    }\n",
       "\n",
       "    .dataframe thead th {\n",
       "        text-align: right;\n",
       "    }\n",
       "</style>\n",
       "<table border=\"1\" class=\"dataframe\">\n",
       "  <thead>\n",
       "    <tr style=\"text-align: right;\">\n",
       "      <th></th>\n",
       "      <th>PassengerId</th>\n",
       "      <th>HomePlanet</th>\n",
       "      <th>CryoSleep</th>\n",
       "      <th>Destination</th>\n",
       "      <th>Age</th>\n",
       "      <th>VIP</th>\n",
       "      <th>RoomService</th>\n",
       "      <th>FoodCourt</th>\n",
       "      <th>ShoppingMall</th>\n",
       "      <th>Spa</th>\n",
       "      <th>VRDeck</th>\n",
       "      <th>Name</th>\n",
       "      <th>Transported</th>\n",
       "      <th>CabDeck</th>\n",
       "      <th>CabNum</th>\n",
       "      <th>CabSide</th>\n",
       "      <th>CabNumBinned</th>\n",
       "      <th>Title</th>\n",
       "      <th>LastName</th>\n",
       "      <th>FamilySize</th>\n",
       "    </tr>\n",
       "  </thead>\n",
       "  <tbody>\n",
       "    <tr>\n",
       "      <th>0</th>\n",
       "      <td>0001_01</td>\n",
       "      <td>Europa</td>\n",
       "      <td>False</td>\n",
       "      <td>TRAPPIST-1e</td>\n",
       "      <td>39.0</td>\n",
       "      <td>False</td>\n",
       "      <td>0.0</td>\n",
       "      <td>0.0</td>\n",
       "      <td>0.0</td>\n",
       "      <td>0.0</td>\n",
       "      <td>0.0</td>\n",
       "      <td>Maham Ofracculy</td>\n",
       "      <td>False</td>\n",
       "      <td>B</td>\n",
       "      <td>0</td>\n",
       "      <td>P</td>\n",
       "      <td>1</td>\n",
       "      <td>none</td>\n",
       "      <td>Ofracculy</td>\n",
       "      <td>0</td>\n",
       "    </tr>\n",
       "    <tr>\n",
       "      <th>1</th>\n",
       "      <td>0002_01</td>\n",
       "      <td>Earth</td>\n",
       "      <td>False</td>\n",
       "      <td>TRAPPIST-1e</td>\n",
       "      <td>24.0</td>\n",
       "      <td>False</td>\n",
       "      <td>109.0</td>\n",
       "      <td>9.0</td>\n",
       "      <td>25.0</td>\n",
       "      <td>549.0</td>\n",
       "      <td>44.0</td>\n",
       "      <td>Juanna Vines</td>\n",
       "      <td>True</td>\n",
       "      <td>F</td>\n",
       "      <td>0</td>\n",
       "      <td>S</td>\n",
       "      <td>1</td>\n",
       "      <td>none</td>\n",
       "      <td>Vines</td>\n",
       "      <td>3</td>\n",
       "    </tr>\n",
       "    <tr>\n",
       "      <th>2</th>\n",
       "      <td>0003_01</td>\n",
       "      <td>Europa</td>\n",
       "      <td>False</td>\n",
       "      <td>TRAPPIST-1e</td>\n",
       "      <td>58.0</td>\n",
       "      <td>True</td>\n",
       "      <td>43.0</td>\n",
       "      <td>3576.0</td>\n",
       "      <td>0.0</td>\n",
       "      <td>6715.0</td>\n",
       "      <td>49.0</td>\n",
       "      <td>Altark Susent</td>\n",
       "      <td>False</td>\n",
       "      <td>A</td>\n",
       "      <td>0</td>\n",
       "      <td>S</td>\n",
       "      <td>1</td>\n",
       "      <td>none</td>\n",
       "      <td>Susent</td>\n",
       "      <td>5</td>\n",
       "    </tr>\n",
       "    <tr>\n",
       "      <th>3</th>\n",
       "      <td>0003_02</td>\n",
       "      <td>Europa</td>\n",
       "      <td>False</td>\n",
       "      <td>TRAPPIST-1e</td>\n",
       "      <td>33.0</td>\n",
       "      <td>False</td>\n",
       "      <td>0.0</td>\n",
       "      <td>1283.0</td>\n",
       "      <td>371.0</td>\n",
       "      <td>3329.0</td>\n",
       "      <td>193.0</td>\n",
       "      <td>Solam Susent</td>\n",
       "      <td>False</td>\n",
       "      <td>A</td>\n",
       "      <td>0</td>\n",
       "      <td>S</td>\n",
       "      <td>1</td>\n",
       "      <td>none</td>\n",
       "      <td>Susent</td>\n",
       "      <td>5</td>\n",
       "    </tr>\n",
       "    <tr>\n",
       "      <th>4</th>\n",
       "      <td>0004_01</td>\n",
       "      <td>Earth</td>\n",
       "      <td>False</td>\n",
       "      <td>TRAPPIST-1e</td>\n",
       "      <td>16.0</td>\n",
       "      <td>False</td>\n",
       "      <td>303.0</td>\n",
       "      <td>70.0</td>\n",
       "      <td>151.0</td>\n",
       "      <td>565.0</td>\n",
       "      <td>2.0</td>\n",
       "      <td>Willy Santantines</td>\n",
       "      <td>True</td>\n",
       "      <td>F</td>\n",
       "      <td>1</td>\n",
       "      <td>S</td>\n",
       "      <td>1</td>\n",
       "      <td>none</td>\n",
       "      <td>Santantines</td>\n",
       "      <td>5</td>\n",
       "    </tr>\n",
       "  </tbody>\n",
       "</table>\n",
       "</div>"
      ],
      "text/plain": [
       "  PassengerId HomePlanet  CryoSleep  Destination   Age    VIP  RoomService  \\\n",
       "0     0001_01     Europa      False  TRAPPIST-1e  39.0  False          0.0   \n",
       "1     0002_01      Earth      False  TRAPPIST-1e  24.0  False        109.0   \n",
       "2     0003_01     Europa      False  TRAPPIST-1e  58.0   True         43.0   \n",
       "3     0003_02     Europa      False  TRAPPIST-1e  33.0  False          0.0   \n",
       "4     0004_01      Earth      False  TRAPPIST-1e  16.0  False        303.0   \n",
       "\n",
       "   FoodCourt  ShoppingMall     Spa  VRDeck               Name  Transported  \\\n",
       "0        0.0           0.0     0.0     0.0    Maham Ofracculy        False   \n",
       "1        9.0          25.0   549.0    44.0       Juanna Vines         True   \n",
       "2     3576.0           0.0  6715.0    49.0      Altark Susent        False   \n",
       "3     1283.0         371.0  3329.0   193.0       Solam Susent        False   \n",
       "4       70.0         151.0   565.0     2.0  Willy Santantines         True   \n",
       "\n",
       "  CabDeck  CabNum CabSide CabNumBinned Title     LastName  FamilySize  \n",
       "0       B       0       P            1  none    Ofracculy           0  \n",
       "1       F       0       S            1  none        Vines           3  \n",
       "2       A       0       S            1  none       Susent           5  \n",
       "3       A       0       S            1  none       Susent           5  \n",
       "4       F       1       S            1  none  Santantines           5  "
      ]
     },
     "execution_count": 86,
     "metadata": {},
     "output_type": "execute_result"
    }
   ],
   "source": [
    "train.head()"
   ]
  },
  {
   "cell_type": "code",
   "execution_count": 87,
   "metadata": {},
   "outputs": [
    {
     "name": "stdout",
     "output_type": "stream",
     "text": [
      "Transported  False  True \n",
      "FamilySize               \n",
      "0              258    324\n",
      "1              405    395\n",
      "2              542    622\n",
      "3              635    645\n",
      "4              628    652\n",
      "5              520    518\n",
      "6              432    401\n",
      "7              297    247\n",
      "8              163    152\n",
      "9              147    153\n",
      "10             136    139\n",
      "11              48     36\n",
      "12              42     36\n",
      "13              29     27\n",
      "14              12     18\n",
      "15              10      6\n",
      "17              11      7\n"
     ]
    }
   ],
   "source": [
    "# Assuming 'Transported' is a binary column where True indicates transported\n",
    "transported_family = train.groupby('FamilySize')['Transported'].value_counts().unstack(fill_value=0)\n",
    "print(transported_family)\n"
   ]
  },
  {
   "cell_type": "code",
   "execution_count": 88,
   "metadata": {},
   "outputs": [
    {
     "data": {
      "image/png": "[encoded data removed]",
      "text/plain": [
       "<Figure size 720x360 with 1 Axes>"
      ]
     },
     "metadata": {
      "needs_background": "light"
     },
     "output_type": "display_data"
    }
   ],
   "source": [
    "# Plotting\n",
    "transported_family.plot(kind='bar', stacked=False, figsize=(10, 5))\n",
    "plt.title('Number of Transported vs. Not Transported Passengers by Family Size')\n",
    "plt.xlabel('Family Size')\n",
    "plt.ylabel('Count')\n",
    "plt.xticks(rotation=0)  # Keeps the x-labels vertical for readability\n",
    "plt.legend(title='Transported', labels=['Not Transported', 'Transported'])\n",
    "plt.show()"
   ]
  },
  {
   "cell_type": "code",
   "execution_count": 89,
   "metadata": {},
   "outputs": [
    {
     "data": {
      "text/plain": [
       "-0.03216881558756051"
      ]
     },
     "execution_count": 89,
     "metadata": {},
     "output_type": "execute_result"
    }
   ],
   "source": [
    "train['FamilySize'].corr(train['Transported'])"
   ]
  },
  {
   "cell_type": "code",
   "execution_count": 90,
   "metadata": {},
   "outputs": [
    {
     "data": {
      "text/plain": [
       "CabDeck\n",
       "F    2794\n",
       "G    2559\n",
       "E     876\n",
       "B     779\n",
       "C     747\n",
       "D     478\n",
       "A     256\n",
       "T       5\n",
       "Name: count, dtype: int64"
      ]
     },
     "execution_count": 90,
     "metadata": {},
     "output_type": "execute_result"
    }
   ],
   "source": [
    "train['CabDeck'].value_counts()"
   ]
  },
  {
   "cell_type": "code",
   "execution_count": 91,
   "metadata": {},
   "outputs": [],
   "source": [
    "train['CabDeck'].fillna(train.CabDeck.mode()[0], inplace=True)\n",
    "train['CabSide'].fillna(train.CabSide.mode()[0], inplace=True)"
   ]
  },
  {
   "cell_type": "code",
   "execution_count": 92,
   "metadata": {},
   "outputs": [
    {
     "name": "stdout",
     "output_type": "stream",
     "text": [
      "<class 'pandas.core.frame.DataFrame'>\n",
      "RangeIndex: 8693 entries, 0 to 8692\n",
      "Data columns (total 15 columns):\n",
      " #   Column        Non-Null Count  Dtype  \n",
      "---  ------        --------------  -----  \n",
      " 0   HomePlanet    8693 non-null   object \n",
      " 1   CryoSleep     8693 non-null   bool   \n",
      " 2   Destination   8693 non-null   object \n",
      " 3   Age           8693 non-null   float64\n",
      " 4   VIP           8693 non-null   bool   \n",
      " 5   RoomService   8693 non-null   float64\n",
      " 6   FoodCourt     8693 non-null   float64\n",
      " 7   ShoppingMall  8693 non-null   float64\n",
      " 8   Spa           8693 non-null   float64\n",
      " 9   VRDeck        8693 non-null   float64\n",
      " 10  Transported   8693 non-null   bool   \n",
      " 11  CabDeck       8693 non-null   object \n",
      " 12  CabNum        8693 non-null   Int64  \n",
      " 13  CabSide       8693 non-null   object \n",
      " 14  FamilySize    8693 non-null   int64  \n",
      "dtypes: Int64(1), bool(3), float64(6), int64(1), object(4)\n",
      "memory usage: 849.1+ KB\n"
     ]
    }
   ],
   "source": [
    "# Drop unneeded columns\n",
    "train_dropped = train.drop(columns=['PassengerId', 'Name', 'CabNumBinned', 'Title', 'LastName'], axis=1)\n",
    "train_dropped.info()"
   ]
  },
  {
   "cell_type": "markdown",
   "metadata": {},
   "source": [
    "## Converting Categorical Columns to Numeric"
   ]
  },
  {
   "cell_type": "code",
   "execution_count": 97,
   "metadata": {},
   "outputs": [
    {
     "data": {
      "text/html": [
       "<div>\n",
       "<style scoped>\n",
       "    .dataframe tbody tr th:only-of-type {\n",
       "        vertical-align: middle;\n",
       "    }\n",
       "\n",
       "    .dataframe tbody tr th {\n",
       "        vertical-align: top;\n",
       "    }\n",
       "\n",
       "    .dataframe thead th {\n",
       "        text-align: right;\n",
       "    }\n",
       "</style>\n",
       "<table border=\"1\" class=\"dataframe\">\n",
       "  <thead>\n",
       "    <tr style=\"text-align: right;\">\n",
       "      <th></th>\n",
       "      <th>CryoSleep</th>\n",
       "      <th>Age</th>\n",
       "      <th>VIP</th>\n",
       "      <th>RoomService</th>\n",
       "      <th>FoodCourt</th>\n",
       "      <th>ShoppingMall</th>\n",
       "      <th>Spa</th>\n",
       "      <th>VRDeck</th>\n",
       "      <th>Transported</th>\n",
       "      <th>CabNum</th>\n",
       "      <th>...</th>\n",
       "      <th>Destination_PSO J318.5-22</th>\n",
       "      <th>Destination_TRAPPIST-1e</th>\n",
       "      <th>CabDeck_B</th>\n",
       "      <th>CabDeck_C</th>\n",
       "      <th>CabDeck_D</th>\n",
       "      <th>CabDeck_E</th>\n",
       "      <th>CabDeck_F</th>\n",
       "      <th>CabDeck_G</th>\n",
       "      <th>CabDeck_T</th>\n",
       "      <th>CabSide_S</th>\n",
       "    </tr>\n",
       "  </thead>\n",
       "  <tbody>\n",
       "    <tr>\n",
       "      <th>0</th>\n",
       "      <td>False</td>\n",
       "      <td>39.0</td>\n",
       "      <td>False</td>\n",
       "      <td>0.0</td>\n",
       "      <td>0.0</td>\n",
       "      <td>0.0</td>\n",
       "      <td>0.0</td>\n",
       "      <td>0.0</td>\n",
       "      <td>False</td>\n",
       "      <td>0</td>\n",
       "      <td>...</td>\n",
       "      <td>0</td>\n",
       "      <td>1</td>\n",
       "      <td>1</td>\n",
       "      <td>0</td>\n",
       "      <td>0</td>\n",
       "      <td>0</td>\n",
       "      <td>0</td>\n",
       "      <td>0</td>\n",
       "      <td>0</td>\n",
       "      <td>0</td>\n",
       "    </tr>\n",
       "    <tr>\n",
       "      <th>1</th>\n",
       "      <td>False</td>\n",
       "      <td>24.0</td>\n",
       "      <td>False</td>\n",
       "      <td>109.0</td>\n",
       "      <td>9.0</td>\n",
       "      <td>25.0</td>\n",
       "      <td>549.0</td>\n",
       "      <td>44.0</td>\n",
       "      <td>True</td>\n",
       "      <td>0</td>\n",
       "      <td>...</td>\n",
       "      <td>0</td>\n",
       "      <td>1</td>\n",
       "      <td>0</td>\n",
       "      <td>0</td>\n",
       "      <td>0</td>\n",
       "      <td>0</td>\n",
       "      <td>1</td>\n",
       "      <td>0</td>\n",
       "      <td>0</td>\n",
       "      <td>1</td>\n",
       "    </tr>\n",
       "    <tr>\n",
       "      <th>2</th>\n",
       "      <td>False</td>\n",
       "      <td>58.0</td>\n",
       "      <td>True</td>\n",
       "      <td>43.0</td>\n",
       "      <td>3576.0</td>\n",
       "      <td>0.0</td>\n",
       "      <td>6715.0</td>\n",
       "      <td>49.0</td>\n",
       "      <td>False</td>\n",
       "      <td>0</td>\n",
       "      <td>...</td>\n",
       "      <td>0</td>\n",
       "      <td>1</td>\n",
       "      <td>0</td>\n",
       "      <td>0</td>\n",
       "      <td>0</td>\n",
       "      <td>0</td>\n",
       "      <td>0</td>\n",
       "      <td>0</td>\n",
       "      <td>0</td>\n",
       "      <td>1</td>\n",
       "    </tr>\n",
       "    <tr>\n",
       "      <th>3</th>\n",
       "      <td>False</td>\n",
       "      <td>33.0</td>\n",
       "      <td>False</td>\n",
       "      <td>0.0</td>\n",
       "      <td>1283.0</td>\n",
       "      <td>371.0</td>\n",
       "      <td>3329.0</td>\n",
       "      <td>193.0</td>\n",
       "      <td>False</td>\n",
       "      <td>0</td>\n",
       "      <td>...</td>\n",
       "      <td>0</td>\n",
       "      <td>1</td>\n",
       "      <td>0</td>\n",
       "      <td>0</td>\n",
       "      <td>0</td>\n",
       "      <td>0</td>\n",
       "      <td>0</td>\n",
       "      <td>0</td>\n",
       "      <td>0</td>\n",
       "      <td>1</td>\n",
       "    </tr>\n",
       "    <tr>\n",
       "      <th>4</th>\n",
       "      <td>False</td>\n",
       "      <td>16.0</td>\n",
       "      <td>False</td>\n",
       "      <td>303.0</td>\n",
       "      <td>70.0</td>\n",
       "      <td>151.0</td>\n",
       "      <td>565.0</td>\n",
       "      <td>2.0</td>\n",
       "      <td>True</td>\n",
       "      <td>1</td>\n",
       "      <td>...</td>\n",
       "      <td>0</td>\n",
       "      <td>1</td>\n",
       "      <td>0</td>\n",
       "      <td>0</td>\n",
       "      <td>0</td>\n",
       "      <td>0</td>\n",
       "      <td>1</td>\n",
       "      <td>0</td>\n",
       "      <td>0</td>\n",
       "      <td>1</td>\n",
       "    </tr>\n",
       "  </tbody>\n",
       "</table>\n",
       "<p>5 rows × 23 columns</p>\n",
       "</div>"
      ],
      "text/plain": [
       "   CryoSleep   Age    VIP  RoomService  FoodCourt  ShoppingMall     Spa  \\\n",
       "0      False  39.0  False          0.0        0.0           0.0     0.0   \n",
       "1      False  24.0  False        109.0        9.0          25.0   549.0   \n",
       "2      False  58.0   True         43.0     3576.0           0.0  6715.0   \n",
       "3      False  33.0  False          0.0     1283.0         371.0  3329.0   \n",
       "4      False  16.0  False        303.0       70.0         151.0   565.0   \n",
       "\n",
       "   VRDeck  Transported  CabNum  ...  Destination_PSO J318.5-22  \\\n",
       "0     0.0        False       0  ...                          0   \n",
       "1    44.0         True       0  ...                          0   \n",
       "2    49.0        False       0  ...                          0   \n",
       "3   193.0        False       0  ...                          0   \n",
       "4     2.0         True       1  ...                          0   \n",
       "\n",
       "   Destination_TRAPPIST-1e  CabDeck_B  CabDeck_C  CabDeck_D  CabDeck_E  \\\n",
       "0                        1          1          0          0          0   \n",
       "1                        1          0          0          0          0   \n",
       "2                        1          0          0          0          0   \n",
       "3                        1          0          0          0          0   \n",
       "4                        1          0          0          0          0   \n",
       "\n",
       "   CabDeck_F  CabDeck_G  CabDeck_T  CabSide_S  \n",
       "0          0          0          0          0  \n",
       "1          1          0          0          1  \n",
       "2          0          0          0          1  \n",
       "3          0          0          0          1  \n",
       "4          1          0          0          1  \n",
       "\n",
       "[5 rows x 23 columns]"
      ]
     },
     "execution_count": 97,
     "metadata": {},
     "output_type": "execute_result"
    }
   ],
   "source": [
    "train_dum = pd.get_dummies(train_dropped, drop_first=True, dtype=int)\n",
    "train_dum.head()"
   ]
  },
  {
   "cell_type": "code",
   "execution_count": 100,
   "metadata": {},
   "outputs": [],
   "source": [
    "train_dum['CryoSleep'] = train_dum['CryoSleep'].astype(int)"
   ]
  },
  {
   "cell_type": "code",
   "execution_count": 102,
   "metadata": {},
   "outputs": [
    {
     "data": {
      "text/html": [
       "<div>\n",
       "<style scoped>\n",
       "    .dataframe tbody tr th:only-of-type {\n",
       "        vertical-align: middle;\n",
       "    }\n",
       "\n",
       "    .dataframe tbody tr th {\n",
       "        vertical-align: top;\n",
       "    }\n",
       "\n",
       "    .dataframe thead th {\n",
       "        text-align: right;\n",
       "    }\n",
       "</style>\n",
       "<table border=\"1\" class=\"dataframe\">\n",
       "  <thead>\n",
       "    <tr style=\"text-align: right;\">\n",
       "      <th></th>\n",
       "      <th>CryoSleep</th>\n",
       "      <th>Age</th>\n",
       "      <th>VIP</th>\n",
       "      <th>RoomService</th>\n",
       "      <th>FoodCourt</th>\n",
       "      <th>ShoppingMall</th>\n",
       "      <th>Spa</th>\n",
       "      <th>VRDeck</th>\n",
       "      <th>Transported</th>\n",
       "      <th>CabNum</th>\n",
       "      <th>...</th>\n",
       "      <th>Destination_PSO J318.5-22</th>\n",
       "      <th>Destination_TRAPPIST-1e</th>\n",
       "      <th>CabDeck_B</th>\n",
       "      <th>CabDeck_C</th>\n",
       "      <th>CabDeck_D</th>\n",
       "      <th>CabDeck_E</th>\n",
       "      <th>CabDeck_F</th>\n",
       "      <th>CabDeck_G</th>\n",
       "      <th>CabDeck_T</th>\n",
       "      <th>CabSide_S</th>\n",
       "    </tr>\n",
       "  </thead>\n",
       "  <tbody>\n",
       "    <tr>\n",
       "      <th>0</th>\n",
       "      <td>0</td>\n",
       "      <td>39.0</td>\n",
       "      <td>0</td>\n",
       "      <td>0.0</td>\n",
       "      <td>0.0</td>\n",
       "      <td>0.0</td>\n",
       "      <td>0.0</td>\n",
       "      <td>0.0</td>\n",
       "      <td>0</td>\n",
       "      <td>0</td>\n",
       "      <td>...</td>\n",
       "      <td>0</td>\n",
       "      <td>1</td>\n",
       "      <td>1</td>\n",
       "      <td>0</td>\n",
       "      <td>0</td>\n",
       "      <td>0</td>\n",
       "      <td>0</td>\n",
       "      <td>0</td>\n",
       "      <td>0</td>\n",
       "      <td>0</td>\n",
       "    </tr>\n",
       "    <tr>\n",
       "      <th>1</th>\n",
       "      <td>0</td>\n",
       "      <td>24.0</td>\n",
       "      <td>0</td>\n",
       "      <td>109.0</td>\n",
       "      <td>9.0</td>\n",
       "      <td>25.0</td>\n",
       "      <td>549.0</td>\n",
       "      <td>44.0</td>\n",
       "      <td>1</td>\n",
       "      <td>0</td>\n",
       "      <td>...</td>\n",
       "      <td>0</td>\n",
       "      <td>1</td>\n",
       "      <td>0</td>\n",
       "      <td>0</td>\n",
       "      <td>0</td>\n",
       "      <td>0</td>\n",
       "      <td>1</td>\n",
       "      <td>0</td>\n",
       "      <td>0</td>\n",
       "      <td>1</td>\n",
       "    </tr>\n",
       "    <tr>\n",
       "      <th>2</th>\n",
       "      <td>0</td>\n",
       "      <td>58.0</td>\n",
       "      <td>1</td>\n",
       "      <td>43.0</td>\n",
       "      <td>3576.0</td>\n",
       "      <td>0.0</td>\n",
       "      <td>6715.0</td>\n",
       "      <td>49.0</td>\n",
       "      <td>0</td>\n",
       "      <td>0</td>\n",
       "      <td>...</td>\n",
       "      <td>0</td>\n",
       "      <td>1</td>\n",
       "      <td>0</td>\n",
       "      <td>0</td>\n",
       "      <td>0</td>\n",
       "      <td>0</td>\n",
       "      <td>0</td>\n",
       "      <td>0</td>\n",
       "      <td>0</td>\n",
       "      <td>1</td>\n",
       "    </tr>\n",
       "    <tr>\n",
       "      <th>3</th>\n",
       "      <td>0</td>\n",
       "      <td>33.0</td>\n",
       "      <td>0</td>\n",
       "      <td>0.0</td>\n",
       "      <td>1283.0</td>\n",
       "      <td>371.0</td>\n",
       "      <td>3329.0</td>\n",
       "      <td>193.0</td>\n",
       "      <td>0</td>\n",
       "      <td>0</td>\n",
       "      <td>...</td>\n",
       "      <td>0</td>\n",
       "      <td>1</td>\n",
       "      <td>0</td>\n",
       "      <td>0</td>\n",
       "      <td>0</td>\n",
       "      <td>0</td>\n",
       "      <td>0</td>\n",
       "      <td>0</td>\n",
       "      <td>0</td>\n",
       "      <td>1</td>\n",
       "    </tr>\n",
       "    <tr>\n",
       "      <th>4</th>\n",
       "      <td>0</td>\n",
       "      <td>16.0</td>\n",
       "      <td>0</td>\n",
       "      <td>303.0</td>\n",
       "      <td>70.0</td>\n",
       "      <td>151.0</td>\n",
       "      <td>565.0</td>\n",
       "      <td>2.0</td>\n",
       "      <td>1</td>\n",
       "      <td>1</td>\n",
       "      <td>...</td>\n",
       "      <td>0</td>\n",
       "      <td>1</td>\n",
       "      <td>0</td>\n",
       "      <td>0</td>\n",
       "      <td>0</td>\n",
       "      <td>0</td>\n",
       "      <td>1</td>\n",
       "      <td>0</td>\n",
       "      <td>0</td>\n",
       "      <td>1</td>\n",
       "    </tr>\n",
       "  </tbody>\n",
       "</table>\n",
       "<p>5 rows × 23 columns</p>\n",
       "</div>"
      ],
      "text/plain": [
       "   CryoSleep   Age  VIP  RoomService  FoodCourt  ShoppingMall     Spa  VRDeck  \\\n",
       "0          0  39.0    0          0.0        0.0           0.0     0.0     0.0   \n",
       "1          0  24.0    0        109.0        9.0          25.0   549.0    44.0   \n",
       "2          0  58.0    1         43.0     3576.0           0.0  6715.0    49.0   \n",
       "3          0  33.0    0          0.0     1283.0         371.0  3329.0   193.0   \n",
       "4          0  16.0    0        303.0       70.0         151.0   565.0     2.0   \n",
       "\n",
       "   Transported  CabNum  ...  Destination_PSO J318.5-22  \\\n",
       "0            0       0  ...                          0   \n",
       "1            1       0  ...                          0   \n",
       "2            0       0  ...                          0   \n",
       "3            0       0  ...                          0   \n",
       "4            1       1  ...                          0   \n",
       "\n",
       "   Destination_TRAPPIST-1e  CabDeck_B  CabDeck_C  CabDeck_D  CabDeck_E  \\\n",
       "0                        1          1          0          0          0   \n",
       "1                        1          0          0          0          0   \n",
       "2                        1          0          0          0          0   \n",
       "3                        1          0          0          0          0   \n",
       "4                        1          0          0          0          0   \n",
       "\n",
       "   CabDeck_F  CabDeck_G  CabDeck_T  CabSide_S  \n",
       "0          0          0          0          0  \n",
       "1          1          0          0          1  \n",
       "2          0          0          0          1  \n",
       "3          0          0          0          1  \n",
       "4          1          0          0          1  \n",
       "\n",
       "[5 rows x 23 columns]"
      ]
     },
     "execution_count": 102,
     "metadata": {},
     "output_type": "execute_result"
    }
   ],
   "source": [
    "train_dum['VIP'] = train_dum['VIP'].astype(int)\n",
    "train_dum['Transported'] = train_dum['Transported'].astype(int)\n",
    "train_dum.head()"
   ]
  },
  {
   "cell_type": "code",
   "execution_count": 103,
   "metadata": {},
   "outputs": [
    {
     "name": "stdout",
     "output_type": "stream",
     "text": [
      "<class 'pandas.core.frame.DataFrame'>\n",
      "RangeIndex: 8693 entries, 0 to 8692\n",
      "Data columns (total 23 columns):\n",
      " #   Column                     Non-Null Count  Dtype  \n",
      "---  ------                     --------------  -----  \n",
      " 0   CryoSleep                  8693 non-null   int64  \n",
      " 1   Age                        8693 non-null   float64\n",
      " 2   VIP                        8693 non-null   int64  \n",
      " 3   RoomService                8693 non-null   float64\n",
      " 4   FoodCourt                  8693 non-null   float64\n",
      " 5   ShoppingMall               8693 non-null   float64\n",
      " 6   Spa                        8693 non-null   float64\n",
      " 7   VRDeck                     8693 non-null   float64\n",
      " 8   Transported                8693 non-null   int64  \n",
      " 9   CabNum                     8693 non-null   Int64  \n",
      " 10  FamilySize                 8693 non-null   int64  \n",
      " 11  HomePlanet_Europa          8693 non-null   int64  \n",
      " 12  HomePlanet_Mars            8693 non-null   int64  \n",
      " 13  Destination_PSO J318.5-22  8693 non-null   int64  \n",
      " 14  Destination_TRAPPIST-1e    8693 non-null   int64  \n",
      " 15  CabDeck_B                  8693 non-null   int64  \n",
      " 16  CabDeck_C                  8693 non-null   int64  \n",
      " 17  CabDeck_D                  8693 non-null   int64  \n",
      " 18  CabDeck_E                  8693 non-null   int64  \n",
      " 19  CabDeck_F                  8693 non-null   int64  \n",
      " 20  CabDeck_G                  8693 non-null   int64  \n",
      " 21  CabDeck_T                  8693 non-null   int64  \n",
      " 22  CabSide_S                  8693 non-null   int64  \n",
      "dtypes: Int64(1), float64(6), int64(16)\n",
      "memory usage: 1.5 MB\n"
     ]
    }
   ],
   "source": [
    "train_dum.info()"
   ]
  },
  {
   "cell_type": "code",
   "execution_count": 104,
   "metadata": {},
   "outputs": [],
   "source": [
    "# Splitting\n",
    "from sklearn.model_selection import train_test_split\n",
    "from sklearn.preprocessing import StandardScaler"
   ]
  },
  {
   "cell_type": "code",
   "execution_count": 105,
   "metadata": {},
   "outputs": [
    {
     "data": {
      "text/plain": [
       "((8693, 22), (8693,))"
      ]
     },
     "execution_count": 105,
     "metadata": {},
     "output_type": "execute_result"
    }
   ],
   "source": [
    "X = train_dum.drop('Transported', axis=1)\n",
    "y = train_dum['Transported']\n",
    "\n",
    "X.shape, y.shape"
   ]
  },
  {
   "cell_type": "code",
   "execution_count": 106,
   "metadata": {},
   "outputs": [
    {
     "data": {
      "text/plain": [
       "((6954, 22), (1739, 22))"
      ]
     },
     "execution_count": 106,
     "metadata": {},
     "output_type": "execute_result"
    }
   ],
   "source": [
    "X_train, X_test, y_train, y_test = train_test_split(X, y, test_size=0.2, random_state=22)\n",
    "X_train.shape, X_test.shape"
   ]
  },
  {
   "cell_type": "code",
   "execution_count": 107,
   "metadata": {},
   "outputs": [],
   "source": [
    "sc = StandardScaler()\n",
    "\n",
    "X_train = sc.fit_transform(X_train)\n",
    "X_test = sc.transform(X_test)"
   ]
  },
  {
   "cell_type": "code",
   "execution_count": 118,
   "metadata": {},
   "outputs": [],
   "source": [
    "from sklearn.linear_model import LogisticRegressionCV, LogisticRegression\n",
    "from sklearn.model_selection import GridSearchCV"
   ]
  },
  {
   "cell_type": "code",
   "execution_count": 110,
   "metadata": {},
   "outputs": [
    {
     "data": {
      "text/html": [
       "<style>#sk-container-id-1 {color: black;}#sk-container-id-1 pre{padding: 0;}#sk-container-id-1 div.sk-toggleable {background-color: white;}#sk-container-id-1 label.sk-toggleable__label {cursor: pointer;display: block;width: 100%;margin-bottom: 0;padding: 0.3em;box-sizing: border-box;text-align: center;}#sk-container-id-1 label.sk-toggleable__label-arrow:before {content: \"▸\";float: left;margin-right: 0.25em;color: #696969;}#sk-container-id-1 label.sk-toggleable__label-arrow:hover:before {color: black;}#sk-container-id-1 div.sk-estimator:hover label.sk-toggleable__label-arrow:before {color: black;}#sk-container-id-1 div.sk-toggleable__content {max-height: 0;max-width: 0;overflow: hidden;text-align: left;background-color: #f0f8ff;}#sk-container-id-1 div.sk-toggleable__content pre {margin: 0.2em;color: black;border-radius: 0.25em;background-color: #f0f8ff;}#sk-container-id-1 input.sk-toggleable__control:checked~div.sk-toggleable__content {max-height: 200px;max-width: 100%;overflow: auto;}#sk-container-id-1 input.sk-toggleable__control:checked~label.sk-toggleable__label-arrow:before {content: \"▾\";}#sk-container-id-1 div.sk-estimator input.sk-toggleable__control:checked~label.sk-toggleable__label {background-color: #d4ebff;}#sk-container-id-1 div.sk-label input.sk-toggleable__control:checked~label.sk-toggleable__label {background-color: #d4ebff;}#sk-container-id-1 input.sk-hidden--visually {border: 0;clip: rect(1px 1px 1px 1px);clip: rect(1px, 1px, 1px, 1px);height: 1px;margin: -1px;overflow: hidden;padding: 0;position: absolute;width: 1px;}#sk-container-id-1 div.sk-estimator {font-family: monospace;background-color: #f0f8ff;border: 1px dotted black;border-radius: 0.25em;box-sizing: border-box;margin-bottom: 0.5em;}#sk-container-id-1 div.sk-estimator:hover {background-color: #d4ebff;}#sk-container-id-1 div.sk-parallel-item::after {content: \"\";width: 100%;border-bottom: 1px solid gray;flex-grow: 1;}#sk-container-id-1 div.sk-label:hover label.sk-toggleable__label {background-color: #d4ebff;}#sk-container-id-1 div.sk-serial::before {content: \"\";position: absolute;border-left: 1px solid gray;box-sizing: border-box;top: 0;bottom: 0;left: 50%;z-index: 0;}#sk-container-id-1 div.sk-serial {display: flex;flex-direction: column;align-items: center;background-color: white;padding-right: 0.2em;padding-left: 0.2em;position: relative;}#sk-container-id-1 div.sk-item {position: relative;z-index: 1;}#sk-container-id-1 div.sk-parallel {display: flex;align-items: stretch;justify-content: center;background-color: white;position: relative;}#sk-container-id-1 div.sk-item::before, #sk-container-id-1 div.sk-parallel-item::before {content: \"\";position: absolute;border-left: 1px solid gray;box-sizing: border-box;top: 0;bottom: 0;left: 50%;z-index: -1;}#sk-container-id-1 div.sk-parallel-item {display: flex;flex-direction: column;z-index: 1;position: relative;background-color: white;}#sk-container-id-1 div.sk-parallel-item:first-child::after {align-self: flex-end;width: 50%;}#sk-container-id-1 div.sk-parallel-item:last-child::after {align-self: flex-start;width: 50%;}#sk-container-id-1 div.sk-parallel-item:only-child::after {width: 0;}#sk-container-id-1 div.sk-dashed-wrapped {border: 1px dashed gray;margin: 0 0.4em 0.5em 0.4em;box-sizing: border-box;padding-bottom: 0.4em;background-color: white;}#sk-container-id-1 div.sk-label label {font-family: monospace;font-weight: bold;display: inline-block;line-height: 1.2em;}#sk-container-id-1 div.sk-label-container {text-align: center;}#sk-container-id-1 div.sk-container {/* jupyter's `normalize.less` sets `[hidden] { display: none; }` but bootstrap.min.css set `[hidden] { display: none !important; }` so we also need the `!important` here to be able to override the default hidden behavior on the sphinx rendered scikit-learn.org. See: https://github.com/scikit-learn/scikit-learn/issues/21755 */display: inline-block !important;position: relative;}#sk-container-id-1 div.sk-text-repr-fallback {display: none;}</style><div id=\"sk-container-id-1\" class=\"sk-top-container\"><div class=\"sk-text-repr-fallback\"><pre>LogisticRegressionCV(cv=10)</pre><b>In a Jupyter environment, please rerun this cell to show the HTML representation or trust the notebook. <br />On GitHub, the HTML representation is unable to render, please try loading this page with nbviewer.org.</b></div><div class=\"sk-container\" hidden><div class=\"sk-item\"><div class=\"sk-estimator sk-toggleable\"><input class=\"sk-toggleable__control sk-hidden--visually\" id=\"sk-estimator-id-1\" type=\"checkbox\" checked><label for=\"sk-estimator-id-1\" class=\"sk-toggleable__label sk-toggleable__label-arrow\">LogisticRegressionCV</label><div class=\"sk-toggleable__content\"><pre>LogisticRegressionCV(cv=10)</pre></div></div></div></div></div>"
      ],
      "text/plain": [
       "LogisticRegressionCV(cv=10)"
      ]
     },
     "execution_count": 110,
     "metadata": {},
     "output_type": "execute_result"
    }
   ],
   "source": [
    "logit = LogisticRegressionCV(cv=10)\n",
    "\n",
    "logit.fit(X_train, y_train)"
   ]
  },
  {
   "cell_type": "code",
   "execution_count": 111,
   "metadata": {},
   "outputs": [],
   "source": [
    "y_pred = logit.predict(X_test)"
   ]
  },
  {
   "cell_type": "code",
   "execution_count": 112,
   "metadata": {},
   "outputs": [],
   "source": [
    "from sklearn.metrics import accuracy_score, f1_score"
   ]
  },
  {
   "cell_type": "code",
   "execution_count": 114,
   "metadata": {},
   "outputs": [
    {
     "name": "stdout",
     "output_type": "stream",
     "text": [
      "Accuracy: 0.7745830937320299\n",
      "F1 Score: 0.7780294450736127\n"
     ]
    }
   ],
   "source": [
    "logit_acc = accuracy_score(y_test, y_pred)\n",
    "logit_f1 = f1_score(y_test, y_pred)\n",
    "\n",
    "print(f'Accuracy: {logit_acc}\\nF1 Score: {logit_f1}')"
   ]
  },
  {
   "cell_type": "code",
   "execution_count": 120,
   "metadata": {},
   "outputs": [
    {
     "name": "stdout",
     "output_type": "stream",
     "text": [
      "Fitting 5 folds for each of 20 candidates, totalling 100 fits\n"
     ]
    }
   ],
   "source": [
    "param_grid = {\n",
    "    'C': [0.01, 0.1, 1, 10],  # No 'classifier__' prefix\n",
    "    'l1_ratio': [0, 0.25, 0.5, 0.75, 1]\n",
    "}\n",
    "\n",
    "# Assuming new_logit is a LogisticRegression configured for Elastic Net\n",
    "new_logit = LogisticRegression(penalty='elasticnet', solver='saga', max_iter=10000)\n",
    "\n",
    "# Setup the grid search with cross-validation\n",
    "grid_search = GridSearchCV(new_logit, param_grid, cv=5, scoring='accuracy', verbose=1)\n",
    "\n",
    "# Fit grid search to the data\n",
    "grid_search.fit(X_train, y_train)\n",
    "\n",
    "# Get the best model\n",
    "best_model = grid_search.best_estimator_\n",
    "\n",
    "# Predict with the best model\n",
    "y_pred = best_model.predict(X_test)"
   ]
  },
  {
   "cell_type": "code",
   "execution_count": 121,
   "metadata": {},
   "outputs": [
    {
     "name": "stdout",
     "output_type": "stream",
     "text": [
      "Best Parameters: {'C': 1, 'l1_ratio': 0}\n",
      "Accuracy: 0.7745830937320299\n",
      "F1 Score: 0.7780294450736127\n"
     ]
    }
   ],
   "source": [
    "logit_acc = accuracy_score(y_test, y_pred)\n",
    "logit_f1 = f1_score(y_test, y_pred)\n",
    "\n",
    "print(f'Best Parameters: {grid_search.best_params_}')\n",
    "print(f'Accuracy: {logit_acc}\\nF1 Score: {logit_f1}')"
   ]
  }
 ],
 "metadata": {
  "kernelspec": {
   "display_name": "Python 3.8.5 ('base')",
   "language": "python",
   "name": "python3"
  },
  "language_info": {
   "codemirror_mode": {
    "name": "ipython",
    "version": 3
   },
   "file_extension": ".py",
   "mimetype": "text/x-python",
   "name": "python",
   "nbconvert_exporter": "python",
   "pygments_lexer": "ipython3",
   "version": "3.8.5"
  },
  "orig_nbformat": 4,
  "vscode": {
   "interpreter": {
    "hash": "cde9e06954608812f36a56132da0251c351f6ad8984d203ba87e4f78021e1e3f"
   }
  }
 },
 "nbformat": 4,
 "nbformat_minor": 2
}
